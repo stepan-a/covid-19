{
 "cells": [
  {
   "cell_type": "code",
   "execution_count": 1,
   "metadata": {},
   "outputs": [
    {
     "data": {
      "text/plain": [
       "\"\\n\\nLICENSE MIT\\n2020\\nGuillaume Rozier\\nWebsite : http://www.guillaumerozier.fr\\nMail : guillaume.rozier@telecomnancy.net\\n\\nREADME:s\\nThis file contains script that generate France maps and GIFs. \\nSingle images are exported to folders in 'charts/image/france'. GIFs are exported to 'charts/image/france'.\\nI'm currently cleaning this file, please ask me is something is not clear enough!\\nRequirements: please see the imports below (use pip3 to install them).\\n\\n\""
      ]
     },
     "execution_count": 1,
     "metadata": {},
     "output_type": "execute_result"
    }
   ],
   "source": [
    "\"\"\"\n",
    "\n",
    "LICENSE MIT\n",
    "2020\n",
    "Guillaume Rozier\n",
    "Website : http://www.guillaumerozier.fr\n",
    "Mail : guillaume.rozier@telecomnancy.net\n",
    "\n",
    "README:s\n",
    "This file contains script that generate France maps and GIFs. \n",
    "Single images are exported to folders in 'charts/image/france'. GIFs are exported to 'charts/image/france'.\n",
    "I'm currently cleaning this file, please ask me is something is not clear enough!\n",
    "Requirements: please see the imports below (use pip3 to install them).\n",
    "\n",
    "\"\"\""
   ]
  },
  {
   "cell_type": "code",
   "execution_count": 45,
   "metadata": {},
   "outputs": [],
   "source": [
    "from multiprocessing import Pool\n",
    "import requests\n",
    "import pandas as pd\n",
    "import math\n",
    "import plotly.graph_objects as go\n",
    "import plotly.express as px\n",
    "import plotly\n",
    "from plotly.subplots import make_subplots\n",
    "from datetime import datetime\n",
    "from datetime import timedelta\n",
    "from tqdm import tqdm\n",
    "import imageio\n",
    "import json\n",
    "import locale\n",
    "import france_data_management as data\n",
    "import numpy as np\n",
    "import plotly.figure_factory as ff\n",
    "locale.setlocale(locale.LC_ALL, 'fr_FR.UTF-8')\n",
    "now = datetime.now()"
   ]
  },
  {
   "cell_type": "code",
   "execution_count": 47,
   "metadata": {},
   "outputs": [],
   "source": [
    "df_metro = data.import_data_metropoles()\n",
    "df_metro = df_metro[df_metro[\"clage_65\"] == 0]\n",
    "df_metro_65 = df_metro[df_metro[\"clage_65\"] == 65]"
   ]
  },
  {
   "cell_type": "code",
   "execution_count": null,
   "metadata": {},
   "outputs": [],
   "source": [
    "metros = list(dict.fromkeys(list(df_metro['Metropole'].values)))\n",
    "metros_ordered = df_metro[df_metro['semaine_glissante'] == df_metro['semaine_glissante'].max()].sort_values(by=[\"ti\"], ascending=True)[\"Metropole\"].values\n",
    "dates_heatmap = list(dict.fromkeys(list(df_metro['semaine_glissante'].values))) \n",
    "\n",
    "for (name, data, title, scale_txt, data_example, digits) in [(\"cas\", '', \"Taux d'<br>incidence\", \" cas\", \" cas\", 1)]:\n",
    "    \n",
    "    array_incidence=[]\n",
    "    \n",
    "    for idx, metro in enumerate(metros_ordered): #deps_tests.drop(\"975\", \"976\", \"977\", \"978\")\n",
    "        array_incidence += [df_metro[df_metro[\"Metropole\"] == metro]['ti'].values.astype(int)]\n",
    "        #dates_heatmap=df_metro[df_metro[\"Metropole\"] == metro][\"semaine_glissante\"].values.astype(str)\n",
    "        \n",
    "    fig = ff.create_annotated_heatmap(\n",
    "        z=array_incidence, #df_tests_rolling[data].to_numpy()\n",
    "        x=[(\"<b>\" + a[-2:] + \"/\" + a[-5:-3] + \"</b>\") for a in dates_heatmap], #date[:10] for date in dates_heatmap\n",
    "        y=[\"<b>\"+metro+\"</b>\" for metro in metros_ordered],\n",
    "        showscale=True,\n",
    "        font_colors=[\"white\", \"white\"],\n",
    "        coloraxis=\"coloraxis\",\n",
    "        #text=df_tests_rolling[data],\n",
    "        annotation_text = array_incidence\n",
    "        )\n",
    "\n",
    "    annot = []\n",
    "\n",
    "    fig.update_xaxes(side=\"bottom\", tickfont=dict(size=10))\n",
    "    fig.update_yaxes(tickfont=dict(size=12))\n",
    "\n",
    "    fig.update_layout(\n",
    "        title={\n",
    "            'text': \"{} du Covid19 en fonction de l\\'âge\".format(title.replace(\"<br>\", \" \")),\n",
    "            'y':0.98,\n",
    "            'x':0.5,\n",
    "            'xanchor': 'center',\n",
    "            'yanchor': 'top'},\n",
    "            titlefont = dict(\n",
    "            size=20),\n",
    "        coloraxis=dict(\n",
    "            cmin=0, cmax=300,\n",
    "            colorscale = [[0, \"green\"], [0.2, \"#ffcc66\"], [0.8, \"#f50000\"], [1, \"#b30000\"]],\n",
    "            #color_continuous_scale=[\"green\", \"red\"],\n",
    "            colorbar=dict(\n",
    "                #title=\"{}<br>du Covid19<br> &#8205;\".format(title),\n",
    "                thicknessmode=\"pixels\", thickness=12,\n",
    "                lenmode=\"pixels\", len=300,\n",
    "                yanchor=\"middle\", y=0.5,\n",
    "                tickfont=dict(size=9),\n",
    "                ticks=\"outside\", ticksuffix=\"{}\".format(scale_txt),\n",
    "                )\n",
    "        ),\n",
    "    margin=dict(\n",
    "                    b=80,\n",
    "                    t=40,\n",
    "                    pad=0\n",
    "                ))\n",
    "\n",
    "    annotations = annot + [\n",
    "                    dict(\n",
    "                        x=0.5,\n",
    "                        y=-0.08,\n",
    "                        xref='paper',\n",
    "                        yref='paper',\n",
    "                        xanchor='center',\n",
    "                        opacity=0.6,\n",
    "                        font=dict(color=\"black\", size=12),\n",
    "                        text='Lecture : une case correspond au {} pour une tranche d\\'âge (à lire à gauche) et à une date donnée (à lire en bas).<br>Du orange correspond à un {} élevé.  <i>Date : {} - Source : covidtracker.fr - Données : Santé publique France</i>'.format(title.lower().replace(\"<br>\", \" \"), title.lower().replace(\"<br>\", \" \"), now.strftime('%d %B')),\n",
    "                        showarrow = False\n",
    "                    ),\n",
    "                ]\n",
    "\n",
    "    for i in range(len(fig.layout.annotations)):\n",
    "        fig.layout.annotations[i].font.size = 9\n",
    "        #fig.layout.annotations[i].text = \"<b>\"+fig.layout.annotations[i].text+\"</b>\"\n",
    "\n",
    "    for annot in annotations:\n",
    "        fig.add_annotation(annot)\n",
    "\n",
    "    name_fig = \"heatmaps_metropoles\"\n",
    "    fig.write_image(\"images/charts/france/{}.jpeg\".format(name_fig), scale=2, width=1000, height=1000)\n",
    "    fig.write_image(\"images/charts/france/{}_SD.jpeg\".format(name_fig), scale=0.5, width=900, height=900)\n",
    "    #fig.show()\n",
    "    plotly.offline.plot(fig, filename = 'images/html_exports/france/{}.html'.format(name_fig), auto_open=False)"
   ]
  },
  {
   "cell_type": "code",
   "execution_count": 67,
   "metadata": {},
   "outputs": [
    {
     "data": {
      "text/plain": [
       "23"
      ]
     },
     "execution_count": 67,
     "metadata": {},
     "output_type": "execute_result"
    }
   ],
   "source": [
    "df_metro\n",
    "len(dates_heatmap)\n",
    "len(df_metro[df_metro[\"Metropole\"] == 'Rouen']['ti'])"
   ]
  }
 ],
 "metadata": {
  "kernelspec": {
   "display_name": "Python 3",
   "language": "python",
   "name": "python3"
  }
 },
 "nbformat": 4,
 "nbformat_minor": 2
}

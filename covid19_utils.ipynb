{
 "cells": [
  {
   "cell_type": "code",
   "execution_count": 1,
   "metadata": {},
   "outputs": [
    {
     "data": {
      "text/plain": [
       "True"
      ]
     },
     "execution_count": 1,
     "metadata": {},
     "output_type": "execute_result"
    }
   ],
   "source": [
    "#Assemble images\n",
    "import cv2\n",
    "import numpy as np\n",
    "\n",
    "im1 = cv2.imread('images/charts/france/incidence_taux_france.jpeg')\n",
    "im2 = cv2.imread('images/charts/france/subplots_dep_incidence.jpeg')\n",
    "\n",
    "im_h = cv2.hconcat([im1, im2])\n",
    "cv2.imwrite('images/charts/france/tests_combinaison.jpeg', im_h)\n",
    "\n",
    "im1 = cv2.imread('images/charts/france/title_incidence.jpeg')\n",
    "im2 = cv2.imread('images/charts/france/tests_combinaison.jpeg')\n",
    "\n",
    "im_h = cv2.vconcat([im1, im2])\n",
    "cv2.imwrite('images/charts/france/tests_combinaison.jpeg', im_h)"
   ]
  },
  {
   "cell_type": "code",
   "execution_count": 13,
   "metadata": {},
   "outputs": [
    {
     "data": {
      "text/plain": [
       "True"
      ]
     },
     "execution_count": 13,
     "metadata": {},
     "output_type": "execute_result"
    }
   ],
   "source": [
    "im1 = cv2.imread('images/charts/france/cas_journ.jpeg')\n",
    "im2 = cv2.imread('images/charts/france/hosp_journ.jpeg')\n",
    "im3 = cv2.imread('images/charts/france/rea_journ.jpeg')\n",
    "im4 = cv2.imread('images/charts/france/dc_journ.jpeg')\n",
    "\n",
    "im_haut = cv2.hconcat([im1, im2])\n",
    "#cv2.imwrite('images/charts/france/tests_combinaison.jpeg', im_h)\n",
    "im_bas = cv2.hconcat([im3, im4])\n",
    "\n",
    "im_totale = cv2.vconcat([im_haut, im_bas])\n",
    "cv2.imwrite('images/charts/france/dashboard_jour.jpeg', im_totale)"
   ]
  }
 ],
 "metadata": {
  "kernelspec": {
   "display_name": "Python 3",
   "language": "python",
   "name": "python3"
  },
  "language_info": {
   "codemirror_mode": {
    "name": "ipython",
    "version": 3
   },
   "file_extension": ".py",
   "mimetype": "text/x-python",
   "name": "python",
   "nbconvert_exporter": "python",
   "pygments_lexer": "ipython3",
   "version": "3.7.4"
  }
 },
 "nbformat": 4,
 "nbformat_minor": 2
}

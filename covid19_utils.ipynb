{
 "cells": [
  {
   "cell_type": "code",
   "execution_count": 4,
   "metadata": {},
   "outputs": [
    {
     "data": {
      "text/plain": [
       "True"
      ]
     },
     "execution_count": 4,
     "metadata": {},
     "output_type": "execute_result"
    }
   ],
   "source": [
    "#Assemble images\n",
    "import cv2\n",
    "import numpy as np\n",
    "\n",
    "im1 = cv2.imread('images/charts/france/incidence_taux_france.jpeg')\n",
    "im2 = cv2.imread('images/charts/france/subplots_dep_incidence.jpeg')\n",
    "\n",
    "im_h = cv2.hconcat([im1, im2])\n",
    "cv2.imwrite('images/charts/france/tests_combinaison.jpeg', im_h)\n",
    "\n",
    "im1 = cv2.imread('images/charts/france/title_incidence.jpeg')\n",
    "im2 = cv2.imread('images/charts/france/tests_combinaison.jpeg')\n",
    "\n",
    "im_h = cv2.vconcat([im1, im2])\n",
    "cv2.imwrite('images/charts/france/tests_combinaison.jpeg', im_h)"
   ]
  }
 ],
 "metadata": {
  "kernelspec": {
   "display_name": "Python 3",
   "language": "python",
   "name": "python3"
  },
  "language_info": {
   "codemirror_mode": {
    "name": "ipython",
    "version": 3
   },
   "file_extension": ".py",
   "mimetype": "text/x-python",
   "name": "python",
   "nbconvert_exporter": "python",
   "pygments_lexer": "ipython3",
   "version": "3.7.4"
  }
 },
 "nbformat": 4,
 "nbformat_minor": 2
}

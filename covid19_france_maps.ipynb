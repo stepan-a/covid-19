{
 "cells": [
  {
   "cell_type": "markdown",
   "metadata": {},
   "source": [
    "# COVID-19 French Maps\n",
    "Guillaume Rozier, 2020"
   ]
  },
  {
   "cell_type": "code",
   "execution_count": 30,
   "metadata": {},
   "outputs": [
    {
     "data": {
      "text/plain": [
       "\"\\n\\nLICENSE MIT\\n2020\\nGuillaume Rozier\\nWebsite : http://www.guillaumerozier.fr\\nMail : guillaume.rozier@telecomnancy.net\\n\\nREADME:s\\nThis file contains script that generate France maps and GIFs. \\nSingle images are exported to folders in 'charts/image/france'. GIFs are exported to 'charts/image/france'.\\nI'm currently cleaning this file, please ask me is something is not clear enough!\\nRequirements: please see the imports below (use pip3 to install them).\\n\\n\""
      ]
     },
     "execution_count": 30,
     "metadata": {},
     "output_type": "execute_result"
    }
   ],
   "source": [
    "\"\"\"\n",
    "\n",
    "LICENSE MIT\n",
    "2020\n",
    "Guillaume Rozier\n",
    "Website : http://www.guillaumerozier.fr\n",
    "Mail : guillaume.rozier@telecomnancy.net\n",
    "\n",
    "README:s\n",
    "This file contains script that generate France maps and GIFs. \n",
    "Single images are exported to folders in 'charts/image/france'. GIFs are exported to 'charts/image/france'.\n",
    "I'm currently cleaning this file, please ask me is something is not clear enough!\n",
    "Requirements: please see the imports below (use pip3 to install them).\n",
    "\n",
    "\"\"\""
   ]
  },
  {
   "cell_type": "code",
   "execution_count": 31,
   "metadata": {},
   "outputs": [
    {
     "data": {
      "text/plain": [
       "'fr_FR.UTF-8'"
      ]
     },
     "execution_count": 31,
     "metadata": {},
     "output_type": "execute_result"
    }
   ],
   "source": [
    "import france_data_management as data\n",
    "import pandas as pd\n",
    "from tqdm import tqdm\n",
    "import json\n",
    "import plotly.express as px\n",
    "from datetime import datetime\n",
    "import imageio\n",
    "import multiprocessing\n",
    "import locale\n",
    "import shutil\n",
    "import os\n",
    "locale.setlocale(locale.LC_ALL, 'fr_FR.UTF-8')\n"
   ]
  },
  {
   "cell_type": "markdown",
   "metadata": {},
   "source": [
    "## Data import"
   ]
  },
  {
   "cell_type": "code",
   "execution_count": 32,
   "metadata": {},
   "outputs": [
    {
     "name": "stderr",
     "output_type": "stream",
     "text": [
      "10it [00:08,  1.25it/s]                      \n"
     ]
    }
   ],
   "source": [
    "# Import data from Santé publique France\n",
    "df, df_confirmed, dates, _, _, df_deconf, df_sursaud, df_incid, _ = data.import_data()\n",
    "df_incid = df_incid[df_incid[\"cl_age90\"] == 0]"
   ]
  },
  {
   "cell_type": "code",
   "execution_count": 33,
   "metadata": {},
   "outputs": [],
   "source": [
    "#df_incid[\"incidence\"] = df_incid[\"P\"]/df_incid[\"pop\"]*100\n",
    "#df_incid.loc[:,\"incidence_color\"] = [\"white\"] * len(df_incid)\n",
    "for dep in pd.unique(df_incid[\"dep\"].values):\n",
    "    df_incid.loc[df_incid[\"dep\"] == dep,\"incidence\"] = df_incid[\"P\"].rolling(window=7).sum()/df_incid[\"pop\"]*100000\n",
    "df_incid.loc[:,\"incidence_color\"] = ['Rouge (>50)' if x >= 50 else 'Orange (25-50)' if x >= 25 else 'Vert (<25)' for x in df_incid['incidence']]"
   ]
  },
  {
   "cell_type": "code",
   "execution_count": 34,
   "metadata": {},
   "outputs": [
    {
     "data": {
      "text/plain": [
       "'# Download and import data from INSEE\\ndict_insee = pd.read_excel(\\'data/france/deces_quotidiens_departement.xlsx\\', header=[3], index_col=None, sheet_name=None, usecols=\\'A:H\\', nrows=44)\\ndict_insee.pop(\\'France\\')\\ndict_insee.pop(\\'Documentation\\')\\n\\nfor key in dict_insee:\\n    dict_insee[key][\"dep\"] = [key for i in range(len(dict_insee[key]))]\\n    \\ndf_insee = pd.concat(dict_insee)\\ndf_insee = df_insee.rename(columns={\"Ensemble des communes\": \"dc20\", \"Ensemble des communes.1\": \"dc19\", \"Ensemble des communes.2\": \"dc18\", \"Date d\\'événement\": \"jour\"})\\ndf_insee = df_insee.drop(columns=[\\'Communes à envoi dématérialisé au 1er avril 2020 (1)\\', \\'Communes à envoi dématérialisé au 1er avril 2020 (1)\\', \\'Communes à envoi dématérialisé au 1er avril 2020 (1)\\', \\'Unnamed: 7\\'])\\ndf_insee[\"moy1819\"] = (df_insee[\"dc19\"] + df_insee[\"dc20\"])/2\\ndf_insee[\"surmortalite20\"] = (df_insee[\"dc20\"] - df_insee[\"moy1819\"])/df_insee[\"moy1819\"]*100\\ndf_insee[\\'jour\\'] = pd.to_datetime(df_insee[\\'jour\\'])\\ndf_insee[\\'jour\\'] = df_insee[\\'jour\\'].dt.strftime(\\'%Y-%m-%d\\')\\n\\ndates_insee = list(dict.fromkeys(list(df_insee.dropna()[\\'jour\\'].values))) '"
      ]
     },
     "execution_count": 34,
     "metadata": {},
     "output_type": "execute_result"
    }
   ],
   "source": [
    "\"\"\"# Download and import data from INSEE\n",
    "dict_insee = pd.read_excel('data/france/deces_quotidiens_departement.xlsx', header=[3], index_col=None, sheet_name=None, usecols='A:H', nrows=44)\n",
    "dict_insee.pop('France')\n",
    "dict_insee.pop('Documentation')\n",
    "\n",
    "for key in dict_insee:\n",
    "    dict_insee[key][\"dep\"] = [key for i in range(len(dict_insee[key]))]\n",
    "    \n",
    "df_insee = pd.concat(dict_insee)\n",
    "df_insee = df_insee.rename(columns={\"Ensemble des communes\": \"dc20\", \"Ensemble des communes.1\": \"dc19\", \"Ensemble des communes.2\": \"dc18\", \"Date d'événement\": \"jour\"})\n",
    "df_insee = df_insee.drop(columns=['Communes à envoi dématérialisé au 1er avril 2020 (1)', 'Communes à envoi dématérialisé au 1er avril 2020 (1)', 'Communes à envoi dématérialisé au 1er avril 2020 (1)', 'Unnamed: 7'])\n",
    "df_insee[\"moy1819\"] = (df_insee[\"dc19\"] + df_insee[\"dc20\"])/2\n",
    "df_insee[\"surmortalite20\"] = (df_insee[\"dc20\"] - df_insee[\"moy1819\"])/df_insee[\"moy1819\"]*100\n",
    "df_insee['jour'] = pd.to_datetime(df_insee['jour'])\n",
    "df_insee['jour'] = df_insee['jour'].dt.strftime('%Y-%m-%d')\n",
    "\n",
    "dates_insee = list(dict.fromkeys(list(df_insee.dropna()['jour'].values))) \"\"\""
   ]
  },
  {
   "cell_type": "code",
   "execution_count": 35,
   "metadata": {},
   "outputs": [
    {
     "data": {
      "text/plain": [
       "'df_insee_france = df_insee.groupby(\\'jour\\').sum().reset_index()\\ndf_insee_france[\"surmortalite20\"] = (df_insee_france[\"dc20\"] - df_insee_france[\"moy1819\"])/df_insee_france[\"moy1819\"]'"
      ]
     },
     "execution_count": 35,
     "metadata": {},
     "output_type": "execute_result"
    }
   ],
   "source": [
    "\"\"\"df_insee_france = df_insee.groupby('jour').sum().reset_index()\n",
    "df_insee_france[\"surmortalite20\"] = (df_insee_france[\"dc20\"] - df_insee_france[\"moy1819\"])/df_insee_france[\"moy1819\"]\"\"\""
   ]
  },
  {
   "cell_type": "markdown",
   "metadata": {},
   "source": [
    "<br>\n",
    "<br>\n",
    "\n",
    "## Function definition"
   ]
  },
  {
   "cell_type": "code",
   "execution_count": 36,
   "metadata": {},
   "outputs": [],
   "source": [
    "with open('data/france/dep.geojson') as response:\n",
    "    depa = json.load(response)"
   ]
  },
  {
   "cell_type": "code",
   "execution_count": 37,
   "metadata": {},
   "outputs": [],
   "source": [
    "\n",
    "def map_gif(dates, imgs_folder, df, type_ppl, legend_title, min_scale, max_scale, colorscale, subtitle):\n",
    "    try:\n",
    "        shutil.rmtree(imgs_folder)\n",
    "    except:\n",
    "        print(\"folder not removed\")\n",
    "    os.mkdir(imgs_folder)\n",
    "    i=1\n",
    "    \n",
    "    df = df[df['jour'].isin(dates)]\n",
    "    \n",
    "    for date in tqdm(dates):\n",
    "        if max_scale == -1:\n",
    "            max_scale = df[type_ppl].max()\n",
    "        df_map = pd.melt(df, id_vars=['jour','dep'], value_vars=[type_ppl])\n",
    "        df_map = df_map[df_map[\"jour\"] == date]\n",
    "\n",
    "        fig = px.choropleth(geojson=depa, \n",
    "                            locations=df_map['dep'], \n",
    "                            color=df_map['value'],\n",
    "                            color_continuous_scale = colorscale,\n",
    "                            range_color=(min_scale, max_scale),\n",
    "                            featureidkey=\"properties.code\",\n",
    "                            scope='europe',\n",
    "                            labels={'color':legend_title}\n",
    "                                  )\n",
    "        date_title = datetime.strptime(date, '%Y-%m-%d').strftime('%d %B')\n",
    "        \n",
    "        fig.update_geos(fitbounds=\"locations\", visible=False)\n",
    "        \n",
    "        var_hab = 'pour 100k. hab.'\n",
    "        pourcent = ''\n",
    "        \n",
    "        val_mean = round(df_map['value'].mean(), 1)\n",
    "        \n",
    "        n = len(dates)\n",
    "        progression = round((i / n) * 50)\n",
    "        progressbar = progression * '█' + (50 - progression) * '░'\n",
    "        i += 1\n",
    "        \n",
    "        if type_ppl == 'surmortalite20':\n",
    "            var_hab = ''\n",
    "            pourcent = \" %\"\n",
    "            if val_mean < 0:\n",
    "                val_mean = \"– \" + str(abs(val_mean))\n",
    "            else:\n",
    "                val_mean = \"+ \" + str(val_mean)\n",
    "                \n",
    "        val_mean = str(val_mean).replace(\".\", \",\")\n",
    "        \n",
    "        fig.update_layout(\n",
    "            margin={\"r\":0,\"t\":0,\"l\":0,\"b\":0},\n",
    "            title={\n",
    "            'text': \"{}\".format(date_title),\n",
    "            'y':0.95,\n",
    "            'x':0.5,\n",
    "            'xanchor': 'center',\n",
    "            'yanchor': 'top'},\n",
    "            titlefont = dict(\n",
    "            size=30),\n",
    "            annotations = [\n",
    "                dict(\n",
    "                    x=0.54,\n",
    "                    y=0.08,\n",
    "                    xref='paper',\n",
    "                    yref='paper',\n",
    "                    xanchor = 'center',\n",
    "                    text='Source : Santé publique France. Auteur : @guillaumerozier - CovidTracker.fr',\n",
    "                    showarrow = False\n",
    "                ),\n",
    "                dict(\n",
    "                    x=0.54,\n",
    "                    y=0.03,\n",
    "                    xref = 'paper',\n",
    "                    yref = 'paper',\n",
    "                    text = progressbar,\n",
    "                    xanchor = 'center',\n",
    "                    showarrow = False,\n",
    "                    font=dict(\n",
    "                        size=9\n",
    "                            )\n",
    "                ),\n",
    "                dict(\n",
    "                    x=0.07,\n",
    "                    y=0.47,\n",
    "                    xref='paper',\n",
    "                    yref='paper',\n",
    "                    xanchor='left',\n",
    "                    text='Moyenne France',\n",
    "                    showarrow = False,\n",
    "                    font=dict(\n",
    "                        size=14\n",
    "                            )\n",
    "                ),\n",
    "                dict(\n",
    "                    x=0.07,\n",
    "                    y=0.50,\n",
    "                    xref='paper',\n",
    "                    yref='paper',\n",
    "                    xanchor='left',\n",
    "                    text='{}{}'.format(val_mean, pourcent),\n",
    "                    showarrow = False,\n",
    "                    font=dict(\n",
    "                        size=25\n",
    "                            )\n",
    "                ),\n",
    "                \n",
    "                dict(\n",
    "                    x=0.07,\n",
    "                    y=0.45,\n",
    "                    xref='paper',\n",
    "                    yref='paper',\n",
    "                    xanchor='left',\n",
    "                    text = var_hab,\n",
    "                    showarrow = False,\n",
    "                    font=dict(\n",
    "                        size=14\n",
    "                            )\n",
    "                ),\n",
    "                dict(\n",
    "                    x=0.55,\n",
    "                    y=0.9,\n",
    "                    xref='paper',\n",
    "                    yref='paper',\n",
    "                    text=subtitle,\n",
    "                    showarrow = False,\n",
    "                    font=dict(\n",
    "                        size=20\n",
    "                            )\n",
    "                )]\n",
    "             ) \n",
    "        \n",
    "        fig.update_geos(\n",
    "            #center=dict(lon=-30, lat=-30),\n",
    "            projection_rotation=dict(lon=12, lat=30, roll=8),\n",
    "            #lataxis_range=[-50,20], lonaxis_range=[0, 200]\n",
    "        )\n",
    "        fig.write_image((imgs_folder+\"/{}.jpeg\").format(date), scale=1, width=900, height=700)\n",
    "    return max_scale\n",
    "\n",
    "def build_gif(file_gif, imgs_folder, dates):\n",
    "    i=0\n",
    "    with imageio.get_writer(file_gif, mode='I', duration=0.3) as writer: \n",
    "        for date in tqdm(dates):\n",
    "            print((imgs_folder+\"/{}.jpeg\").format(date))\n",
    "            image = imageio.imread((imgs_folder+\"/{}.jpeg\").format(date))\n",
    "            writer.append_data(image)\n",
    "            i+=1\n",
    "            if i==len(dates):\n",
    "                for k in range(8):\n",
    "                    writer.append_data(image)"
   ]
  },
  {
   "cell_type": "code",
   "execution_count": 38,
   "metadata": {},
   "outputs": [],
   "source": [
    "#build_map(df_deconf, img_folder=\"images/charts/france/deconf_synthese/{}.png\", title=\"Départements déconfinés le 11/05\")\n"
   ]
  },
  {
   "cell_type": "code",
   "execution_count": 39,
   "metadata": {},
   "outputs": [],
   "source": [
    "def build_map_indic1(data_df, img_folder, legend_title=\"legend_title\", title=\"title\"):\n",
    "    dates_deconf = list(dict.fromkeys(list(data_df['date_de_passage'].values))) \n",
    "    date = dates_deconf[-1]\n",
    "    \n",
    "    data_df = data_df[data_df[\"date_de_passage\"] == date]\n",
    "    \n",
    "    fig = px.choropleth(geojson = depa, \n",
    "                        locations = data_df['dep'], \n",
    "                        featureidkey=\"properties.code\",\n",
    "                        color = data_df['taux_corona'],\n",
    "                        scope='europe',\n",
    "                        range_color=(0, 0.1),\n",
    "                        #labels={'red':\"Couleur\", 'orange':'bla', 'green':'lol'},\n",
    "                        #color_discrete_sequence = [\"green\", \"orange\", \"red\"],\n",
    "                        #color_discrete_map = {\"vert\":\"green\", \"orange\":\"orange\", \"rouge\":\"red\"}\n",
    "                        #category_orders = {\"indic_synthese\" :[\"vert\", \"orange\", \"rouge\"]}\n",
    "                              )\n",
    "    date_title = datetime.strptime(dates_deconf[-1], '%Y-%m-%d').strftime('%d %B')\n",
    "\n",
    "    fig.update_geos(fitbounds=\"locations\", visible=False)\n",
    "\n",
    "    fig.update_layout(\n",
    "        margin={\"r\":0,\"t\":20,\"l\":0,\"b\":0},\n",
    "        title={\n",
    "            'text': title,\n",
    "            'y':0.98,\n",
    "            'x':0.5,\n",
    "            'xanchor': 'center',\n",
    "            'yanchor': 'top'},\n",
    "        \n",
    "        titlefont = dict(\n",
    "            size=30),\n",
    "        \n",
    "        annotations = [\n",
    "            dict(\n",
    "                x=0.54,\n",
    "                y=0.03,\n",
    "                xref='paper',\n",
    "                yref='paper',\n",
    "                xanchor = 'center',\n",
    "                text='Source : Ministère de la Santé. Auteur : @guillaumerozier.',\n",
    "                showarrow = False\n",
    "            ),\n",
    "\n",
    "            dict(\n",
    "                x=0.55,\n",
    "                y=0.94,\n",
    "                xref='paper',\n",
    "                yref='paper',\n",
    "                text= \"Mis à jour le {}\".format(date_title),\n",
    "                showarrow = False,\n",
    "                font=dict(\n",
    "                    size=20\n",
    "                        )\n",
    "            )]\n",
    "         ) \n",
    "\n",
    "    fig.update_geos(\n",
    "        #center=dict(lon=-30, lat=-30),\n",
    "        projection_rotation=dict(lon=12, lat=30, roll=8),\n",
    "        #lataxis_range=[-50,20], lonaxis_range=[0, 200]\n",
    "    )\n",
    "    #fig.show()\n",
    "    if date == dates_deconf[-1]:\n",
    "        fig.write_image(img_folder.format(\"latest\"), scale=2, width=1200, height=800)\n",
    "    fig.write_image(img_folder.format(date), scale=2, width=1200, height=800)\n",
    "    \n"
   ]
  },
  {
   "cell_type": "code",
   "execution_count": 40,
   "metadata": {},
   "outputs": [
    {
     "data": {
      "text/plain": [
       "'df_sursaud = df_sursaud[df_sursaud[\"sursaud_cl_age_corona\"] == \"0\"]\\ndf_sursaud_gb = df_sursaud.groupby([\"dep\", \"date_de_passage\"]).rolling(window=7).sum().reset_index()\\n\\ndf_sursaud[\"taux_corona\"] = df_sursaud[\"nbre_pass_corona\"]/df_sursaud[\"nbre_pass_tot\"]\\ndf_sursaud[\"taux_corona\"] = df_sursaud[\"taux_corona\"].rolling(window=7).sum()\\n\\ndf_sursaud_gb[\"taux_corona\"] = df_sursaud_gb[\"nbre_pass_corona\"]/df_sursaud_gb[\"nbre_pass_tot\"]\\n'"
      ]
     },
     "execution_count": 40,
     "metadata": {},
     "output_type": "execute_result"
    }
   ],
   "source": [
    "\"\"\"df_sursaud = df_sursaud[df_sursaud[\"sursaud_cl_age_corona\"] == \"0\"]\n",
    "df_sursaud_gb = df_sursaud.groupby([\"dep\", \"date_de_passage\"]).rolling(window=7).sum().reset_index()\n",
    "\n",
    "df_sursaud[\"taux_corona\"] = df_sursaud[\"nbre_pass_corona\"]/df_sursaud[\"nbre_pass_tot\"]\n",
    "df_sursaud[\"taux_corona\"] = df_sursaud[\"taux_corona\"].rolling(window=7).sum()\n",
    "\n",
    "df_sursaud_gb[\"taux_corona\"] = df_sursaud_gb[\"nbre_pass_corona\"]/df_sursaud_gb[\"nbre_pass_tot\"]\n",
    "\"\"\"\n",
    "#build_map_indic1(df_sursaud_gb, img_folder=\"images/charts/france/deconf_indic1/{}.png\", title=\"Indic 1\")"
   ]
  },
  {
   "cell_type": "code",
   "execution_count": 41,
   "metadata": {},
   "outputs": [],
   "source": [
    "#df_sursaud_gb = df_sursaud.groupby([\"dep\"]).rolling(window=7, on=\"date_de_passage\").mean().reset_index()\n",
    "#df_sursaud_gb[\"date_de_passage\"] = df_sursaud[\"date_de_passage\"].values\n",
    "#df_sursaud_gb[df_sursaud_gb[\"dep\"]==\"01\"]\n",
    "#df_sursaud_gb\n"
   ]
  },
  {
   "cell_type": "markdown",
   "metadata": {},
   "source": [
    "<br>\n",
    "\n",
    "<br>\n",
    "\n",
    "<br>\n",
    "\n",
    "<br>\n",
    "\n",
    "## Function calls"
   ]
  },
  {
   "cell_type": "code",
   "execution_count": 42,
   "metadata": {},
   "outputs": [],
   "source": [
    "def dep_map():\n",
    "    # GIF carte nb réanimations par habitant\n",
    "    imgs_folder = \"images/charts/france/dep-map-img\"\n",
    "    sub = 'Nombre de <b>personnes en réanimation</b> <br>par habitant de chaque département.'\n",
    "    map_gif(dates[-30:], imgs_folder, df = df, type_ppl = \"rea_deppop\", legend_title=\"réan./100k hab\", min_scale = 0, max_scale=-1, colorscale =\"Reds\", subtitle=sub)\n",
    "    build_gif(file_gif = \"images/charts/france/dep-map.gif\", imgs_folder = \"images/charts/france/dep-map-img\", dates=dates[-30:])"
   ]
  },
  {
   "cell_type": "code",
   "execution_count": 43,
   "metadata": {},
   "outputs": [],
   "source": [
    "def dep_map_dc_cum():\n",
    "    # GIF carte décès cumulés par habitant\n",
    "    imgs_folder = \"images/charts/france/dep-map-img-dc-cum\"\n",
    "    sub = 'Nombre de <b>décès cumulés</b> <br>par habitant de chaque département.'\n",
    "    map_gif(dates[-30:], imgs_folder, df = df, type_ppl = \"dc_deppop\", legend_title=\"décès/100k hab\", min_scale = 0, max_scale=-1, colorscale =\"Reds\", subtitle=sub)\n",
    "    build_gif(file_gif = \"images/charts/france/dep-map-dc-cum.gif\", imgs_folder = \"images/charts/france/dep-map-img-dc-cum\", dates=dates[-30:])"
   ]
  },
  {
   "cell_type": "code",
   "execution_count": 44,
   "metadata": {},
   "outputs": [],
   "source": [
    "def dep_map_dc_journ():\n",
    "    # GIF carte décès quotidiens \n",
    "    imgs_folder = \"images/charts/france/dep-map-img-dc-journ\"\n",
    "    sub = 'Nombre de <b>décès quotidien</b> <br>par habitant de chaque département.'\n",
    "    map_gif(dates[-30:], imgs_folder, df = df, type_ppl = \"dc_new_deppop\", legend_title=\"décès/100k hab\", min_scale = 0, max_scale=-1, colorscale =\"Reds\", subtitle=sub)\n",
    "    build_gif(file_gif = \"images/charts/france/dep-map-dc-journ.gif\", imgs_folder = \"images/charts/france/dep-map-img-dc-journ\", dates=dates[-30:])"
   ]
  },
  {
   "cell_type": "code",
   "execution_count": 45,
   "metadata": {},
   "outputs": [],
   "source": [
    "def dep_map_incidence():\n",
    "    # GIF carte décès quotidiens \n",
    "    imgs_folder = \"images/charts/france/dep-map-incid\"\n",
    "    dates_incid = list(dict.fromkeys(list(df_incid.dropna()['jour'].values)))\n",
    "    dates_incid.sort()\n",
    "    \n",
    "    sub = '<b>Incidence</b> : nombre de cas hebdomadaires <br>pour 100 000 habitants'\n",
    "    map_gif(dates_incid[-30:], imgs_folder, df = df_incid, type_ppl = \"incidence\", legend_title=\"cas sur 7j/100k hab\", min_scale = 0, max_scale=-1, \\\n",
    "                                    colorscale = \"Reds\", subtitle=sub)\n",
    "    build_gif(file_gif = \"images/charts/france/dep-map-incid.gif\", imgs_folder = \"images/charts/france/dep-map-incid\", dates=dates_incid[-30:])"
   ]
  },
  {
   "cell_type": "code",
   "execution_count": 46,
   "metadata": {},
   "outputs": [
    {
     "name": "stderr",
     "output_type": "stream",
     "text": [
      "100%|██████████| 30/30 [03:53<00:00,  7.79s/it]\n",
      "  0%|          | 0/30 [00:00<?, ?it/s]"
     ]
    },
    {
     "name": "stdout",
     "output_type": "stream",
     "text": [
      "images/charts/france/dep-map-incid/2020-08-13.jpeg\n"
     ]
    },
    {
     "name": "stderr",
     "output_type": "stream",
     "text": [
      "\r",
      "  3%|▎         | 1/30 [00:00<00:13,  2.22it/s]"
     ]
    },
    {
     "name": "stdout",
     "output_type": "stream",
     "text": [
      "images/charts/france/dep-map-incid/2020-08-14.jpeg\n"
     ]
    },
    {
     "name": "stderr",
     "output_type": "stream",
     "text": [
      " 10%|█         | 3/30 [00:01<00:09,  2.82it/s]"
     ]
    },
    {
     "name": "stdout",
     "output_type": "stream",
     "text": [
      "images/charts/france/dep-map-incid/2020-08-15.jpeg\n",
      "images/charts/france/dep-map-incid/2020-08-16.jpeg\n"
     ]
    },
    {
     "name": "stderr",
     "output_type": "stream",
     "text": [
      "\r",
      " 13%|█▎        | 4/30 [00:01<00:08,  3.23it/s]"
     ]
    },
    {
     "name": "stdout",
     "output_type": "stream",
     "text": [
      "images/charts/france/dep-map-incid/2020-08-17.jpeg\n"
     ]
    },
    {
     "name": "stderr",
     "output_type": "stream",
     "text": [
      "\r",
      " 17%|█▋        | 5/30 [00:01<00:07,  3.23it/s]"
     ]
    },
    {
     "name": "stdout",
     "output_type": "stream",
     "text": [
      "images/charts/france/dep-map-incid/2020-08-18.jpeg\n"
     ]
    },
    {
     "name": "stderr",
     "output_type": "stream",
     "text": [
      "\r",
      " 20%|██        | 6/30 [00:01<00:06,  3.56it/s]"
     ]
    },
    {
     "name": "stdout",
     "output_type": "stream",
     "text": [
      "images/charts/france/dep-map-incid/2020-08-19.jpeg\n"
     ]
    },
    {
     "name": "stderr",
     "output_type": "stream",
     "text": [
      "\r",
      " 23%|██▎       | 7/30 [00:02<00:09,  2.51it/s]"
     ]
    },
    {
     "name": "stdout",
     "output_type": "stream",
     "text": [
      "images/charts/france/dep-map-incid/2020-08-20.jpeg\n"
     ]
    },
    {
     "name": "stderr",
     "output_type": "stream",
     "text": [
      "\r",
      " 27%|██▋       | 8/30 [00:03<00:10,  2.12it/s]"
     ]
    },
    {
     "name": "stdout",
     "output_type": "stream",
     "text": [
      "images/charts/france/dep-map-incid/2020-08-21.jpeg\n"
     ]
    },
    {
     "name": "stderr",
     "output_type": "stream",
     "text": [
      "\r",
      " 30%|███       | 9/30 [00:03<00:10,  1.92it/s]"
     ]
    },
    {
     "name": "stdout",
     "output_type": "stream",
     "text": [
      "images/charts/france/dep-map-incid/2020-08-22.jpeg\n"
     ]
    },
    {
     "name": "stderr",
     "output_type": "stream",
     "text": [
      "\r",
      " 33%|███▎      | 10/30 [00:04<00:09,  2.10it/s]"
     ]
    },
    {
     "name": "stdout",
     "output_type": "stream",
     "text": [
      "images/charts/france/dep-map-incid/2020-08-23.jpeg\n"
     ]
    },
    {
     "name": "stderr",
     "output_type": "stream",
     "text": [
      "\r",
      " 37%|███▋      | 11/30 [00:04<00:09,  2.00it/s]"
     ]
    },
    {
     "name": "stdout",
     "output_type": "stream",
     "text": [
      "images/charts/france/dep-map-incid/2020-08-24.jpeg\n"
     ]
    },
    {
     "name": "stderr",
     "output_type": "stream",
     "text": [
      "\r",
      " 40%|████      | 12/30 [00:05<00:09,  1.82it/s]"
     ]
    },
    {
     "name": "stdout",
     "output_type": "stream",
     "text": [
      "images/charts/france/dep-map-incid/2020-08-25.jpeg\n"
     ]
    },
    {
     "name": "stderr",
     "output_type": "stream",
     "text": [
      "\r",
      " 43%|████▎     | 13/30 [00:05<00:08,  1.97it/s]"
     ]
    },
    {
     "name": "stdout",
     "output_type": "stream",
     "text": [
      "images/charts/france/dep-map-incid/2020-08-26.jpeg\n"
     ]
    },
    {
     "name": "stderr",
     "output_type": "stream",
     "text": [
      "\r",
      " 47%|████▋     | 14/30 [00:05<00:07,  2.27it/s]"
     ]
    },
    {
     "name": "stdout",
     "output_type": "stream",
     "text": [
      "images/charts/france/dep-map-incid/2020-08-27.jpeg\n"
     ]
    },
    {
     "name": "stderr",
     "output_type": "stream",
     "text": [
      "\r",
      " 50%|█████     | 15/30 [00:06<00:06,  2.27it/s]"
     ]
    },
    {
     "name": "stdout",
     "output_type": "stream",
     "text": [
      "images/charts/france/dep-map-incid/2020-08-28.jpeg\n"
     ]
    },
    {
     "name": "stderr",
     "output_type": "stream",
     "text": [
      "\r",
      " 53%|█████▎    | 16/30 [00:06<00:05,  2.38it/s]"
     ]
    },
    {
     "name": "stdout",
     "output_type": "stream",
     "text": [
      "images/charts/france/dep-map-incid/2020-08-29.jpeg\n"
     ]
    },
    {
     "name": "stderr",
     "output_type": "stream",
     "text": [
      "\r",
      " 57%|█████▋    | 17/30 [00:07<00:05,  2.34it/s]"
     ]
    },
    {
     "name": "stdout",
     "output_type": "stream",
     "text": [
      "images/charts/france/dep-map-incid/2020-08-30.jpeg\n"
     ]
    },
    {
     "name": "stderr",
     "output_type": "stream",
     "text": [
      "\r",
      " 60%|██████    | 18/30 [00:07<00:05,  2.29it/s]"
     ]
    },
    {
     "name": "stdout",
     "output_type": "stream",
     "text": [
      "images/charts/france/dep-map-incid/2020-08-31.jpeg\n"
     ]
    },
    {
     "name": "stderr",
     "output_type": "stream",
     "text": [
      "\r",
      " 63%|██████▎   | 19/30 [00:08<00:04,  2.23it/s]"
     ]
    },
    {
     "name": "stdout",
     "output_type": "stream",
     "text": [
      "images/charts/france/dep-map-incid/2020-09-01.jpeg\n"
     ]
    },
    {
     "name": "stderr",
     "output_type": "stream",
     "text": [
      "\r",
      " 67%|██████▋   | 20/30 [00:08<00:04,  2.29it/s]"
     ]
    },
    {
     "name": "stdout",
     "output_type": "stream",
     "text": [
      "images/charts/france/dep-map-incid/2020-09-02.jpeg\n"
     ]
    },
    {
     "name": "stderr",
     "output_type": "stream",
     "text": [
      "\r",
      " 70%|███████   | 21/30 [00:08<00:03,  2.40it/s]"
     ]
    },
    {
     "name": "stdout",
     "output_type": "stream",
     "text": [
      "images/charts/france/dep-map-incid/2020-09-03.jpeg\n"
     ]
    },
    {
     "name": "stderr",
     "output_type": "stream",
     "text": [
      "\r",
      " 73%|███████▎  | 22/30 [00:09<00:03,  2.42it/s]"
     ]
    },
    {
     "name": "stdout",
     "output_type": "stream",
     "text": [
      "images/charts/france/dep-map-incid/2020-09-04.jpeg\n"
     ]
    },
    {
     "name": "stderr",
     "output_type": "stream",
     "text": [
      "\r",
      " 77%|███████▋  | 23/30 [00:09<00:02,  2.70it/s]"
     ]
    },
    {
     "name": "stdout",
     "output_type": "stream",
     "text": [
      "images/charts/france/dep-map-incid/2020-09-05.jpeg\n"
     ]
    },
    {
     "name": "stderr",
     "output_type": "stream",
     "text": [
      "\r",
      " 80%|████████  | 24/30 [00:09<00:02,  2.90it/s]"
     ]
    },
    {
     "name": "stdout",
     "output_type": "stream",
     "text": [
      "images/charts/france/dep-map-incid/2020-09-06.jpeg\n"
     ]
    },
    {
     "name": "stderr",
     "output_type": "stream",
     "text": [
      "\r",
      " 83%|████████▎ | 25/30 [00:10<00:01,  2.84it/s]"
     ]
    },
    {
     "name": "stdout",
     "output_type": "stream",
     "text": [
      "images/charts/france/dep-map-incid/2020-09-07.jpeg\n"
     ]
    },
    {
     "name": "stderr",
     "output_type": "stream",
     "text": [
      "\r",
      " 87%|████████▋ | 26/30 [00:10<00:01,  3.04it/s]"
     ]
    },
    {
     "name": "stdout",
     "output_type": "stream",
     "text": [
      "images/charts/france/dep-map-incid/2020-09-08.jpeg\n"
     ]
    },
    {
     "name": "stderr",
     "output_type": "stream",
     "text": [
      "\r",
      " 90%|█████████ | 27/30 [00:10<00:00,  3.08it/s]"
     ]
    },
    {
     "name": "stdout",
     "output_type": "stream",
     "text": [
      "images/charts/france/dep-map-incid/2020-09-09.jpeg\n"
     ]
    },
    {
     "name": "stderr",
     "output_type": "stream",
     "text": [
      "\r",
      " 93%|█████████▎| 28/30 [00:11<00:00,  2.72it/s]"
     ]
    },
    {
     "name": "stdout",
     "output_type": "stream",
     "text": [
      "images/charts/france/dep-map-incid/2020-09-10.jpeg\n"
     ]
    },
    {
     "name": "stderr",
     "output_type": "stream",
     "text": [
      "\r",
      " 97%|█████████▋| 29/30 [00:11<00:00,  2.46it/s]"
     ]
    },
    {
     "name": "stdout",
     "output_type": "stream",
     "text": [
      "images/charts/france/dep-map-incid/2020-09-11.jpeg\n"
     ]
    },
    {
     "name": "stderr",
     "output_type": "stream",
     "text": [
      "100%|██████████| 30/30 [00:13<00:00,  2.17it/s]\n",
      "100%|██████████| 30/30 [04:35<00:00,  9.17s/it]\n",
      "  3%|▎         | 1/30 [00:00<00:04,  6.75it/s]"
     ]
    },
    {
     "name": "stdout",
     "output_type": "stream",
     "text": [
      "images/charts/france/dep-map-img/2020-08-16.jpeg\n",
      "images/charts/france/dep-map-img/2020-08-17.jpeg\n"
     ]
    },
    {
     "name": "stderr",
     "output_type": "stream",
     "text": [
      " 10%|█         | 3/30 [00:00<00:04,  6.40it/s]"
     ]
    },
    {
     "name": "stdout",
     "output_type": "stream",
     "text": [
      "images/charts/france/dep-map-img/2020-08-18.jpeg\n",
      "images/charts/france/dep-map-img/2020-08-19.jpeg\n"
     ]
    },
    {
     "name": "stderr",
     "output_type": "stream",
     "text": [
      " 17%|█▋        | 5/30 [00:00<00:03,  6.58it/s]"
     ]
    },
    {
     "name": "stdout",
     "output_type": "stream",
     "text": [
      "images/charts/france/dep-map-img/2020-08-20.jpeg\n",
      "images/charts/france/dep-map-img/2020-08-21.jpeg\n"
     ]
    },
    {
     "name": "stderr",
     "output_type": "stream",
     "text": [
      "\r",
      " 20%|██        | 6/30 [00:00<00:04,  5.87it/s]"
     ]
    },
    {
     "name": "stdout",
     "output_type": "stream",
     "text": [
      "images/charts/france/dep-map-img/2020-08-22.jpeg\n"
     ]
    },
    {
     "name": "stderr",
     "output_type": "stream",
     "text": [
      "\r",
      " 23%|██▎       | 7/30 [00:01<00:05,  4.22it/s]"
     ]
    },
    {
     "name": "stdout",
     "output_type": "stream",
     "text": [
      "images/charts/france/dep-map-img/2020-08-23.jpeg\n"
     ]
    },
    {
     "name": "stderr",
     "output_type": "stream",
     "text": [
      "\r",
      " 27%|██▋       | 8/30 [00:01<00:05,  4.14it/s]"
     ]
    },
    {
     "name": "stdout",
     "output_type": "stream",
     "text": [
      "images/charts/france/dep-map-img/2020-08-24.jpeg\n"
     ]
    },
    {
     "name": "stderr",
     "output_type": "stream",
     "text": [
      " 33%|███▎      | 10/30 [00:02<00:04,  4.38it/s]"
     ]
    },
    {
     "name": "stdout",
     "output_type": "stream",
     "text": [
      "images/charts/france/dep-map-img/2020-08-25.jpeg\n",
      "images/charts/france/dep-map-img/2020-08-26.jpeg\n"
     ]
    },
    {
     "name": "stderr",
     "output_type": "stream",
     "text": [
      " 40%|████      | 12/30 [00:02<00:03,  4.71it/s]"
     ]
    },
    {
     "name": "stdout",
     "output_type": "stream",
     "text": [
      "images/charts/france/dep-map-img/2020-08-27.jpeg\n",
      "images/charts/france/dep-map-img/2020-08-28.jpeg\n"
     ]
    },
    {
     "name": "stderr",
     "output_type": "stream",
     "text": [
      " 47%|████▋     | 14/30 [00:02<00:02,  5.87it/s]"
     ]
    },
    {
     "name": "stdout",
     "output_type": "stream",
     "text": [
      "images/charts/france/dep-map-img/2020-08-29.jpeg\n",
      "images/charts/france/dep-map-img/2020-08-30.jpeg\n"
     ]
    },
    {
     "name": "stderr",
     "output_type": "stream",
     "text": [
      " 53%|█████▎    | 16/30 [00:03<00:02,  5.92it/s]"
     ]
    },
    {
     "name": "stdout",
     "output_type": "stream",
     "text": [
      "images/charts/france/dep-map-img/2020-08-31.jpeg\n",
      "images/charts/france/dep-map-img/2020-09-01.jpeg\n"
     ]
    },
    {
     "name": "stderr",
     "output_type": "stream",
     "text": [
      " 60%|██████    | 18/30 [00:03<00:02,  5.13it/s]"
     ]
    },
    {
     "name": "stdout",
     "output_type": "stream",
     "text": [
      "images/charts/france/dep-map-img/2020-09-02.jpeg\n",
      "images/charts/france/dep-map-img/2020-09-03.jpeg\n"
     ]
    },
    {
     "name": "stderr",
     "output_type": "stream",
     "text": [
      " 67%|██████▋   | 20/30 [00:03<00:01,  5.50it/s]"
     ]
    },
    {
     "name": "stdout",
     "output_type": "stream",
     "text": [
      "images/charts/france/dep-map-img/2020-09-04.jpeg\n",
      "images/charts/france/dep-map-img/2020-09-05.jpeg\n"
     ]
    },
    {
     "name": "stderr",
     "output_type": "stream",
     "text": [
      " 73%|███████▎  | 22/30 [00:04<00:01,  6.02it/s]"
     ]
    },
    {
     "name": "stdout",
     "output_type": "stream",
     "text": [
      "images/charts/france/dep-map-img/2020-09-06.jpeg\n",
      "images/charts/france/dep-map-img/2020-09-07.jpeg\n"
     ]
    },
    {
     "name": "stderr",
     "output_type": "stream",
     "text": [
      " 80%|████████  | 24/30 [00:04<00:01,  5.81it/s]"
     ]
    },
    {
     "name": "stdout",
     "output_type": "stream",
     "text": [
      "images/charts/france/dep-map-img/2020-09-08.jpeg\n",
      "images/charts/france/dep-map-img/2020-09-09.jpeg\n"
     ]
    },
    {
     "name": "stderr",
     "output_type": "stream",
     "text": [
      " 87%|████████▋ | 26/30 [00:04<00:00,  5.81it/s]"
     ]
    },
    {
     "name": "stdout",
     "output_type": "stream",
     "text": [
      "images/charts/france/dep-map-img/2020-09-10.jpeg\n",
      "images/charts/france/dep-map-img/2020-09-11.jpeg\n"
     ]
    },
    {
     "name": "stderr",
     "output_type": "stream",
     "text": [
      "\r",
      " 90%|█████████ | 27/30 [00:04<00:00,  6.14it/s]"
     ]
    },
    {
     "name": "stdout",
     "output_type": "stream",
     "text": [
      "images/charts/france/dep-map-img/2020-09-12.jpeg\n"
     ]
    },
    {
     "name": "stderr",
     "output_type": "stream",
     "text": [
      " 97%|█████████▋| 29/30 [00:05<00:00,  5.46it/s]"
     ]
    },
    {
     "name": "stdout",
     "output_type": "stream",
     "text": [
      "images/charts/france/dep-map-img/2020-09-13.jpeg\n",
      "images/charts/france/dep-map-img/2020-09-14.jpeg\n"
     ]
    },
    {
     "name": "stderr",
     "output_type": "stream",
     "text": [
      "100%|██████████| 30/30 [00:06<00:00,  4.33it/s]\n",
      "100%|██████████| 30/30 [03:39<00:00,  7.31s/it]\n",
      "  3%|▎         | 1/30 [00:00<00:03,  7.44it/s]"
     ]
    },
    {
     "name": "stdout",
     "output_type": "stream",
     "text": [
      "images/charts/france/dep-map-img-dc-journ/2020-08-16.jpeg\n",
      "images/charts/france/dep-map-img-dc-journ/2020-08-17.jpeg\n"
     ]
    },
    {
     "name": "stderr",
     "output_type": "stream",
     "text": [
      " 10%|█         | 3/30 [00:00<00:04,  6.74it/s]"
     ]
    },
    {
     "name": "stdout",
     "output_type": "stream",
     "text": [
      "images/charts/france/dep-map-img-dc-journ/2020-08-18.jpeg\n",
      "images/charts/france/dep-map-img-dc-journ/2020-08-19.jpeg\n"
     ]
    },
    {
     "name": "stderr",
     "output_type": "stream",
     "text": [
      " 17%|█▋        | 5/30 [00:00<00:04,  5.87it/s]"
     ]
    },
    {
     "name": "stdout",
     "output_type": "stream",
     "text": [
      "images/charts/france/dep-map-img-dc-journ/2020-08-20.jpeg\n",
      "images/charts/france/dep-map-img-dc-journ/2020-08-21.jpeg\n"
     ]
    },
    {
     "name": "stderr",
     "output_type": "stream",
     "text": [
      "\r",
      " 20%|██        | 6/30 [00:01<00:04,  5.06it/s]"
     ]
    },
    {
     "name": "stdout",
     "output_type": "stream",
     "text": [
      "images/charts/france/dep-map-img-dc-journ/2020-08-22.jpeg\n"
     ]
    },
    {
     "name": "stderr",
     "output_type": "stream",
     "text": [
      " 27%|██▋       | 8/30 [00:01<00:04,  5.30it/s]"
     ]
    },
    {
     "name": "stdout",
     "output_type": "stream",
     "text": [
      "images/charts/france/dep-map-img-dc-journ/2020-08-23.jpeg\n",
      "images/charts/france/dep-map-img-dc-journ/2020-08-24.jpeg\n"
     ]
    },
    {
     "name": "stderr",
     "output_type": "stream",
     "text": [
      " 33%|███▎      | 10/30 [00:01<00:03,  6.24it/s]"
     ]
    },
    {
     "name": "stdout",
     "output_type": "stream",
     "text": [
      "images/charts/france/dep-map-img-dc-journ/2020-08-25.jpeg\n",
      "images/charts/france/dep-map-img-dc-journ/2020-08-26.jpeg\n"
     ]
    },
    {
     "name": "stderr",
     "output_type": "stream",
     "text": [
      " 40%|████      | 12/30 [00:01<00:02,  6.79it/s]"
     ]
    },
    {
     "name": "stdout",
     "output_type": "stream",
     "text": [
      "images/charts/france/dep-map-img-dc-journ/2020-08-27.jpeg\n",
      "images/charts/france/dep-map-img-dc-journ/2020-08-28.jpeg\n"
     ]
    },
    {
     "name": "stderr",
     "output_type": "stream",
     "text": [
      " 47%|████▋     | 14/30 [00:02<00:02,  6.33it/s]"
     ]
    },
    {
     "name": "stdout",
     "output_type": "stream",
     "text": [
      "images/charts/france/dep-map-img-dc-journ/2020-08-29.jpeg\n",
      "images/charts/france/dep-map-img-dc-journ/2020-08-30.jpeg\n"
     ]
    },
    {
     "name": "stderr",
     "output_type": "stream",
     "text": [
      " 53%|█████▎    | 16/30 [00:02<00:02,  6.01it/s]"
     ]
    },
    {
     "name": "stdout",
     "output_type": "stream",
     "text": [
      "images/charts/france/dep-map-img-dc-journ/2020-08-31.jpeg\n",
      "images/charts/france/dep-map-img-dc-journ/2020-09-01.jpeg\n"
     ]
    },
    {
     "name": "stderr",
     "output_type": "stream",
     "text": [
      " 60%|██████    | 18/30 [00:03<00:02,  5.95it/s]"
     ]
    },
    {
     "name": "stdout",
     "output_type": "stream",
     "text": [
      "images/charts/france/dep-map-img-dc-journ/2020-09-02.jpeg\n",
      "images/charts/france/dep-map-img-dc-journ/2020-09-03.jpeg\n"
     ]
    },
    {
     "name": "stderr",
     "output_type": "stream",
     "text": [
      " 67%|██████▋   | 20/30 [00:03<00:01,  5.59it/s]"
     ]
    },
    {
     "name": "stdout",
     "output_type": "stream",
     "text": [
      "images/charts/france/dep-map-img-dc-journ/2020-09-04.jpeg\n",
      "images/charts/france/dep-map-img-dc-journ/2020-09-05.jpeg\n"
     ]
    },
    {
     "name": "stderr",
     "output_type": "stream",
     "text": [
      " 73%|███████▎  | 22/30 [00:03<00:01,  6.43it/s]"
     ]
    },
    {
     "name": "stdout",
     "output_type": "stream",
     "text": [
      "images/charts/france/dep-map-img-dc-journ/2020-09-06.jpeg\n",
      "images/charts/france/dep-map-img-dc-journ/2020-09-07.jpeg\n"
     ]
    },
    {
     "name": "stderr",
     "output_type": "stream",
     "text": [
      " 80%|████████  | 24/30 [00:04<00:01,  5.69it/s]"
     ]
    },
    {
     "name": "stdout",
     "output_type": "stream",
     "text": [
      "images/charts/france/dep-map-img-dc-journ/2020-09-08.jpeg\n",
      "images/charts/france/dep-map-img-dc-journ/2020-09-09.jpeg\n"
     ]
    },
    {
     "name": "stderr",
     "output_type": "stream",
     "text": [
      " 87%|████████▋ | 26/30 [00:04<00:00,  6.09it/s]"
     ]
    },
    {
     "name": "stdout",
     "output_type": "stream",
     "text": [
      "images/charts/france/dep-map-img-dc-journ/2020-09-10.jpeg\n",
      "images/charts/france/dep-map-img-dc-journ/2020-09-11.jpeg\n"
     ]
    },
    {
     "name": "stderr",
     "output_type": "stream",
     "text": [
      " 93%|█████████▎| 28/30 [00:04<00:00,  5.59it/s]"
     ]
    },
    {
     "name": "stdout",
     "output_type": "stream",
     "text": [
      "images/charts/france/dep-map-img-dc-journ/2020-09-12.jpeg\n",
      "images/charts/france/dep-map-img-dc-journ/2020-09-13.jpeg\n"
     ]
    },
    {
     "name": "stderr",
     "output_type": "stream",
     "text": [
      "\r",
      " 97%|█████████▋| 29/30 [00:04<00:00,  5.73it/s]"
     ]
    },
    {
     "name": "stdout",
     "output_type": "stream",
     "text": [
      "images/charts/france/dep-map-img-dc-journ/2020-09-14.jpeg\n"
     ]
    },
    {
     "name": "stderr",
     "output_type": "stream",
     "text": [
      "100%|██████████| 30/30 [00:06<00:00,  4.89it/s]\n"
     ]
    }
   ],
   "source": [
    "dep_map_incidence()\n",
    "dep_map()\n",
    "#dep_map_dc_cum()\n",
    "dep_map_dc_journ()"
   ]
  },
  {
   "cell_type": "code",
   "execution_count": 47,
   "metadata": {},
   "outputs": [
    {
     "data": {
      "text/plain": [
       "'\\n# INSEE\\n# GIF mortalité par rapport à 2018 et 2019\\nimgs_folder = \"images/charts/france/dep-map-surmortalite-img/{}.png\"\\nppl = \"surmortalite20\"\\nsub = \\'Comparaison de la <b>mortalité journalière</b> entre 2020 <br>et les deux années précédentes.\\'\\nmap_gif(dates_insee, imgs_folder, df = df_insee.dropna(), type_ppl = ppl, legend_title=\"Sur-mortalité (%)\", min_scale=-50, max_scale=50, colorscale = [\"green\", \"white\", \"red\"], subtitle = sub)\\nbuild_gif(file_gif = \"images/charts/france/dep-map-surmortalite.gif\", imgs_folder = imgs_folder, dates=dates_insee)'"
      ]
     },
     "execution_count": 47,
     "metadata": {},
     "output_type": "execute_result"
    }
   ],
   "source": [
    "\"\"\"\n",
    "# INSEE\n",
    "# GIF mortalité par rapport à 2018 et 2019\n",
    "imgs_folder = \"images/charts/france/dep-map-surmortalite-img/{}.png\"\n",
    "ppl = \"surmortalite20\"\n",
    "sub = 'Comparaison de la <b>mortalité journalière</b> entre 2020 <br>et les deux années précédentes.'\n",
    "map_gif(dates_insee, imgs_folder, df = df_insee.dropna(), type_ppl = ppl, legend_title=\"Sur-mortalité (%)\", min_scale=-50, max_scale=50, colorscale = [\"green\", \"white\", \"red\"], subtitle = sub)\n",
    "build_gif(file_gif = \"images/charts/france/dep-map-surmortalite.gif\", imgs_folder = imgs_folder, dates=dates_insee)\"\"\""
   ]
  },
  {
   "cell_type": "code",
   "execution_count": 48,
   "metadata": {},
   "outputs": [
    {
     "data": {
      "text/plain": [
       "'# Line chart évolution de la mortalité\\n\\nimport plotly.graph_objects as go\\nimport plotly\\nfig = go.Figure()\\n\\nfig.add_trace(go.Scatter(\\n    x = df_insee_france[\"jour\"],\\n    y = df_insee_france[\"surmortalite20\"],\\n    name = \"Bilan autre hosp\",\\n    marker_color=\\'black\\',\\n    mode=\"lines+markers\",\\n    opacity=1\\n))\\n\\n\\n# Here we modify the tickangle of the xaxis, resulting in rotated labels.\\nfig.update_layout(\\n    legend_orientation=\"v\",\\n    barmode=\\'relative\\',\\n    title={\\n                \\'text\\': \"Variation de la <b>mortalité en mars 2020</b> par rapport à 2018 et 2019\",\\n                \\'y\\':0.95,\\n                \\'x\\':0.5,\\n                \\'xanchor\\': \\'center\\',\\n                \\'yanchor\\': \\'top\\'},\\n                titlefont = dict(\\n                size=20),\\n    xaxis=dict(\\n        title=\\'\\',\\n        tickformat=\\'%d/%m\\'),\\n    yaxis_title=\"Surmortalité (%)\",\\n    \\n    annotations = [\\n                dict(\\n                    x=0,\\n                    y=1.05,\\n                    xref=\\'paper\\',\\n                    yref=\\'paper\\',\\n                    text=\\'Date : {}. Source : INSEE et CSSE. Auteur : @guillaumerozier (Twitter).\\'.format(datetime.strptime(dates[-1], \\'%Y-%m-%d\\').strftime(\\'%d %B %Y\\')),                    showarrow = False\\n                )]\\n                 )\\n\\nfig.update_layout(\\n    yaxis = go.layout.YAxis(\\n        tickformat = \\'%\\'\\n    ),\\n    annotations = [\\n                dict(\\n                    x=0.5,\\n                    y=1.05,\\n                    xref=\\'paper\\',\\n                    yref=\\'paper\\',\\n                    xanchor=\\'center\\',\\n                    text=\\'\\',\\n                    showarrow = False\\n                )]\\n                 )\\n\\nname_fig = \"insee_surmortalite\"\\nfig.write_image(\"images/charts/france/{}.png\".format(name_fig), scale=2, width=1200, height=800)\\nplotly.offline.plot(fig, filename = \\'images/html_exports/france/{}.html\\'.format(name_fig), auto_open=False)\\nprint(\"> \" + name_fig)\\n\\nfig.show()'"
      ]
     },
     "execution_count": 48,
     "metadata": {},
     "output_type": "execute_result"
    }
   ],
   "source": [
    "\"\"\"# Line chart évolution de la mortalité\n",
    "\n",
    "import plotly.graph_objects as go\n",
    "import plotly\n",
    "fig = go.Figure()\n",
    "\n",
    "fig.add_trace(go.Scatter(\n",
    "    x = df_insee_france[\"jour\"],\n",
    "    y = df_insee_france[\"surmortalite20\"],\n",
    "    name = \"Bilan autre hosp\",\n",
    "    marker_color='black',\n",
    "    mode=\"lines+markers\",\n",
    "    opacity=1\n",
    "))\n",
    "\n",
    "\n",
    "# Here we modify the tickangle of the xaxis, resulting in rotated labels.\n",
    "fig.update_layout(\n",
    "    legend_orientation=\"v\",\n",
    "    barmode='relative',\n",
    "    title={\n",
    "                'text': \"Variation de la <b>mortalité en mars 2020</b> par rapport à 2018 et 2019\",\n",
    "                'y':0.95,\n",
    "                'x':0.5,\n",
    "                'xanchor': 'center',\n",
    "                'yanchor': 'top'},\n",
    "                titlefont = dict(\n",
    "                size=20),\n",
    "    xaxis=dict(\n",
    "        title='',\n",
    "        tickformat='%d/%m'),\n",
    "    yaxis_title=\"Surmortalité (%)\",\n",
    "    \n",
    "    annotations = [\n",
    "                dict(\n",
    "                    x=0,\n",
    "                    y=1.05,\n",
    "                    xref='paper',\n",
    "                    yref='paper',\n",
    "                    text='Date : {}. Source : INSEE et CSSE. Auteur : @guillaumerozier (Twitter).'.format(datetime.strptime(dates[-1], '%Y-%m-%d').strftime('%d %B %Y')),                    showarrow = False\n",
    "                )]\n",
    "                 )\n",
    "\n",
    "fig.update_layout(\n",
    "    yaxis = go.layout.YAxis(\n",
    "        tickformat = '%'\n",
    "    ),\n",
    "    annotations = [\n",
    "                dict(\n",
    "                    x=0.5,\n",
    "                    y=1.05,\n",
    "                    xref='paper',\n",
    "                    yref='paper',\n",
    "                    xanchor='center',\n",
    "                    text='',\n",
    "                    showarrow = False\n",
    "                )]\n",
    "                 )\n",
    "\n",
    "name_fig = \"insee_surmortalite\"\n",
    "fig.write_image(\"images/charts/france/{}.png\".format(name_fig), scale=2, width=1200, height=800)\n",
    "plotly.offline.plot(fig, filename = 'images/html_exports/france/{}.html'.format(name_fig), auto_open=False)\n",
    "print(\"> \" + name_fig)\n",
    "\n",
    "fig.show()\"\"\""
   ]
  }
 ],
 "metadata": {
  "kernelspec": {
   "display_name": "Python 3",
   "language": "python",
   "name": "python3"
  },
  "language_info": {
   "codemirror_mode": {
    "name": "ipython",
    "version": 3
   },
   "file_extension": ".py",
   "mimetype": "text/x-python",
   "name": "python",
   "nbconvert_exporter": "python",
   "pygments_lexer": "ipython3",
   "version": "3.7.4"
  }
 },
 "nbformat": 4,
 "nbformat_minor": 2
}

{
 "cells": [
  {
   "cell_type": "markdown",
   "metadata": {},
   "source": [
    "# COVID-19 French Maps\n",
    "Guillaume Rozier, 2020"
   ]
  },
  {
   "cell_type": "code",
   "execution_count": 1,
   "metadata": {},
   "outputs": [
    {
     "data": {
      "text/plain": [
       "\"\\n\\nLICENSE MIT\\n2020\\nGuillaume Rozier\\nWebsite : http://www.guillaumerozier.fr\\nMail : guillaume.rozier@telecomnancy.net\\n\\nREADME:s\\nThis file contains script that generate France maps and GIFs. \\nSingle images are exported to folders in 'charts/image/france'. GIFs are exported to 'charts/image/france'.\\nI'm currently cleaning this file, please ask me is something is not clear enough!\\nRequirements: please see the imports below (use pip3 to install them).\\n\\n\""
      ]
     },
     "execution_count": 1,
     "metadata": {},
     "output_type": "execute_result"
    }
   ],
   "source": [
    "\"\"\"\n",
    "\n",
    "LICENSE MIT\n",
    "2020\n",
    "Guillaume Rozier\n",
    "Website : http://www.guillaumerozier.fr\n",
    "Mail : guillaume.rozier@telecomnancy.net\n",
    "\n",
    "README:s\n",
    "This file contains script that generate France maps and GIFs. \n",
    "Single images are exported to folders in 'charts/image/france'. GIFs are exported to 'charts/image/france'.\n",
    "I'm currently cleaning this file, please ask me is something is not clear enough!\n",
    "Requirements: please see the imports below (use pip3 to install them).\n",
    "\n",
    "\"\"\""
   ]
  },
  {
   "cell_type": "code",
   "execution_count": 2,
   "metadata": {},
   "outputs": [
    {
     "name": "stderr",
     "output_type": "stream",
     "text": [
      "36it [00:03, 11.36it/s]                      \n"
     ]
    },
    {
     "data": {
      "text/plain": [
       "'fr_FR.UTF-8'"
      ]
     },
     "execution_count": 2,
     "metadata": {},
     "output_type": "execute_result"
    }
   ],
   "source": [
    "import france_data_management as data\n",
    "import pandas as pd\n",
    "from tqdm import tqdm\n",
    "import json\n",
    "import plotly.express as px\n",
    "from datetime import datetime\n",
    "import imageio\n",
    "import multiprocessing\n",
    "import locale\n",
    "import shutil\n",
    "import os\n",
    "locale.setlocale(locale.LC_ALL, 'fr_FR.UTF-8')\n"
   ]
  },
  {
   "cell_type": "markdown",
   "metadata": {},
   "source": [
    "## Data import"
   ]
  },
  {
   "cell_type": "code",
   "execution_count": 3,
   "metadata": {},
   "outputs": [
    {
     "name": "stderr",
     "output_type": "stream",
     "text": [
      "  0%|          | 0/4 [00:00<?, ?it/s]/Users/guillaumerozier/opt/anaconda3/lib/python3.7/site-packages/IPython/core/interactiveshell.py:3249: DtypeWarning:\n",
      "\n",
      "Columns (0) have mixed types. Specify dtype option on import or set low_memory=False.\n",
      "\n",
      " 75%|███████▌  | 3/4 [00:01<00:00,  1.53it/s]"
     ]
    },
    {
     "name": "stdout",
     "output_type": "stream",
     "text": [
      "       dep        jour        pop     P  cl_age90 departmentCode  \\\n",
      "132000  75  2020-05-13   198578.0     0         9             75   \n",
      "132001  75  2020-05-13   208074.0     0        19             75   \n",
      "132002  75  2020-05-13   386230.0     6        29             75   \n",
      "132003  75  2020-05-13   332595.0     2        39             75   \n",
      "132004  75  2020-05-13   277369.0     2        49             75   \n",
      "...     ..         ...        ...   ...       ...            ...   \n",
      "133755  75  2020-10-19   213755.0   178        69             75   \n",
      "133756  75  2020-10-19   163119.0   103        79             75   \n",
      "133757  75  2020-10-19    82607.0    24        89             75   \n",
      "133758  75  2020-10-19    26637.0    15        90             75   \n",
      "133759  75  2020-10-19  2148271.0  1888         0             75   \n",
      "\n",
      "       departmentName  regionCode     regionName      T   incidence  \\\n",
      "132000          Paris        11.0  Ile-de-France   1447         NaN   \n",
      "132001          Paris        11.0  Ile-de-France   1447         NaN   \n",
      "132002          Paris        11.0  Ile-de-France   1447         NaN   \n",
      "132003          Paris        11.0  Ile-de-France   1447         NaN   \n",
      "132004          Paris        11.0  Ile-de-France   1447         NaN   \n",
      "...               ...         ...            ...    ...         ...   \n",
      "133755          Paris        11.0  Ile-de-France  11359  375.195902   \n",
      "133756          Paris        11.0  Ile-de-France  11359  229.893513   \n",
      "133757          Paris        11.0  Ile-de-France  11359  175.529919   \n",
      "133758          Paris        11.0  Ile-de-France  11359  236.513121   \n",
      "133759          Paris        11.0  Ile-de-France  11359  425.318780   \n",
      "\n",
      "         incidence_color  \n",
      "132000     Risque Faible  \n",
      "132001     Risque Faible  \n",
      "132002     Risque Faible  \n",
      "132003     Risque Faible  \n",
      "132004     Risque Faible  \n",
      "...                  ...  \n",
      "133755   Alerte Maximale  \n",
      "133756  Alerte Renforcée  \n",
      "133757  Alerte Renforcée  \n",
      "133758  Alerte Renforcée  \n",
      "133759   Alerte Maximale  \n",
      "\n",
      "[1760 rows x 12 columns]\n"
     ]
    }
   ],
   "source": [
    "# Import data from Santé publique France\n",
    "df, df_confirmed, dates, _, _, df_deconf, df_sursaud, df_incid, _ = data.import_data()\n",
    "df_incid = df_incid[df_incid[\"cl_age90\"] == 0]"
   ]
  },
  {
   "cell_type": "code",
   "execution_count": 4,
   "metadata": {},
   "outputs": [],
   "source": [
    "#df_incid[\"incidence\"] = df_incid[\"P\"]/df_incid[\"pop\"]*100\n",
    "#df_incid.loc[:,\"incidence_color\"] = [\"white\"] * len(df_incid)\n",
    "for dep in pd.unique(df_incid[\"dep\"].values):\n",
    "    df_incid.loc[df_incid[\"dep\"] == dep,\"incidence\"] = df_incid[\"P\"].rolling(window=7).sum()/df_incid[\"pop\"]*100000\n",
    "df_incid.loc[:,\"incidence_color\"] = ['Rouge (>50)' if x >= 50 else 'Orange (25-50)' if x >= 25 else 'Vert (<25)' for x in df_incid['incidence']]"
   ]
  },
  {
   "cell_type": "code",
   "execution_count": 5,
   "metadata": {},
   "outputs": [
    {
     "data": {
      "text/plain": [
       "'# Download and import data from INSEE\\ndict_insee = pd.read_excel(\\'data/france/deces_quotidiens_departement.xlsx\\', header=[3], index_col=None, sheet_name=None, usecols=\\'A:H\\', nrows=44)\\ndict_insee.pop(\\'France\\')\\ndict_insee.pop(\\'Documentation\\')\\n\\nfor key in dict_insee:\\n    dict_insee[key][\"dep\"] = [key for i in range(len(dict_insee[key]))]\\n    \\ndf_insee = pd.concat(dict_insee)\\ndf_insee = df_insee.rename(columns={\"Ensemble des communes\": \"dc20\", \"Ensemble des communes.1\": \"dc19\", \"Ensemble des communes.2\": \"dc18\", \"Date d\\'événement\": \"jour\"})\\ndf_insee = df_insee.drop(columns=[\\'Communes à envoi dématérialisé au 1er avril 2020 (1)\\', \\'Communes à envoi dématérialisé au 1er avril 2020 (1)\\', \\'Communes à envoi dématérialisé au 1er avril 2020 (1)\\', \\'Unnamed: 7\\'])\\ndf_insee[\"moy1819\"] = (df_insee[\"dc19\"] + df_insee[\"dc20\"])/2\\ndf_insee[\"surmortalite20\"] = (df_insee[\"dc20\"] - df_insee[\"moy1819\"])/df_insee[\"moy1819\"]*100\\ndf_insee[\\'jour\\'] = pd.to_datetime(df_insee[\\'jour\\'])\\ndf_insee[\\'jour\\'] = df_insee[\\'jour\\'].dt.strftime(\\'%Y-%m-%d\\')\\n\\ndates_insee = list(dict.fromkeys(list(df_insee.dropna()[\\'jour\\'].values))) '"
      ]
     },
     "execution_count": 5,
     "metadata": {},
     "output_type": "execute_result"
    }
   ],
   "source": [
    "\"\"\"# Download and import data from INSEE\n",
    "dict_insee = pd.read_excel('data/france/deces_quotidiens_departement.xlsx', header=[3], index_col=None, sheet_name=None, usecols='A:H', nrows=44)\n",
    "dict_insee.pop('France')\n",
    "dict_insee.pop('Documentation')\n",
    "\n",
    "for key in dict_insee:\n",
    "    dict_insee[key][\"dep\"] = [key for i in range(len(dict_insee[key]))]\n",
    "    \n",
    "df_insee = pd.concat(dict_insee)\n",
    "df_insee = df_insee.rename(columns={\"Ensemble des communes\": \"dc20\", \"Ensemble des communes.1\": \"dc19\", \"Ensemble des communes.2\": \"dc18\", \"Date d'événement\": \"jour\"})\n",
    "df_insee = df_insee.drop(columns=['Communes à envoi dématérialisé au 1er avril 2020 (1)', 'Communes à envoi dématérialisé au 1er avril 2020 (1)', 'Communes à envoi dématérialisé au 1er avril 2020 (1)', 'Unnamed: 7'])\n",
    "df_insee[\"moy1819\"] = (df_insee[\"dc19\"] + df_insee[\"dc20\"])/2\n",
    "df_insee[\"surmortalite20\"] = (df_insee[\"dc20\"] - df_insee[\"moy1819\"])/df_insee[\"moy1819\"]*100\n",
    "df_insee['jour'] = pd.to_datetime(df_insee['jour'])\n",
    "df_insee['jour'] = df_insee['jour'].dt.strftime('%Y-%m-%d')\n",
    "\n",
    "dates_insee = list(dict.fromkeys(list(df_insee.dropna()['jour'].values))) \"\"\""
   ]
  },
  {
   "cell_type": "code",
   "execution_count": 6,
   "metadata": {},
   "outputs": [
    {
     "data": {
      "text/plain": [
       "'df_insee_france = df_insee.groupby(\\'jour\\').sum().reset_index()\\ndf_insee_france[\"surmortalite20\"] = (df_insee_france[\"dc20\"] - df_insee_france[\"moy1819\"])/df_insee_france[\"moy1819\"]'"
      ]
     },
     "execution_count": 6,
     "metadata": {},
     "output_type": "execute_result"
    }
   ],
   "source": [
    "\"\"\"df_insee_france = df_insee.groupby('jour').sum().reset_index()\n",
    "df_insee_france[\"surmortalite20\"] = (df_insee_france[\"dc20\"] - df_insee_france[\"moy1819\"])/df_insee_france[\"moy1819\"]\"\"\""
   ]
  },
  {
   "cell_type": "markdown",
   "metadata": {},
   "source": [
    "<br>\n",
    "<br>\n",
    "\n",
    "## Function definition"
   ]
  },
  {
   "cell_type": "code",
   "execution_count": 7,
   "metadata": {},
   "outputs": [],
   "source": [
    "with open('data/france/dep.geojson') as response:\n",
    "    depa = json.load(response)"
   ]
  },
  {
   "cell_type": "code",
   "execution_count": 8,
   "metadata": {},
   "outputs": [],
   "source": [
    "\n",
    "def map_gif(dates, imgs_folder, df, type_ppl, legend_title, min_scale, max_scale, colorscale, subtitle):\n",
    "    try:\n",
    "        shutil.rmtree(imgs_folder)\n",
    "    except:\n",
    "        print(\"folder not removed\")\n",
    "    os.mkdir(imgs_folder)\n",
    "    i=1\n",
    "    \n",
    "    df = df[df['jour'].isin(dates)]\n",
    "    \n",
    "    for date in tqdm(dates):\n",
    "        if max_scale == -1:\n",
    "            max_scale = df[type_ppl].max()\n",
    "        df_map = pd.melt(df, id_vars=['jour','dep'], value_vars=[type_ppl])\n",
    "        df_map = df_map[df_map[\"jour\"] == date]\n",
    "\n",
    "        fig = px.choropleth(geojson=depa, \n",
    "                            locations=df_map['dep'], \n",
    "                            color=df_map['value'],\n",
    "                            color_continuous_scale = colorscale,\n",
    "                            range_color=(min_scale, max_scale),\n",
    "                            featureidkey=\"properties.code\",\n",
    "                            scope='europe',\n",
    "                            labels={'color':legend_title}\n",
    "                                  )\n",
    "        date_title = datetime.strptime(date, '%Y-%m-%d').strftime('%d %B')\n",
    "        \n",
    "        fig.update_geos(fitbounds=\"locations\", visible=False)\n",
    "        \n",
    "        var_hab = 'pour 100k. hab.'\n",
    "        pourcent = ''\n",
    "        \n",
    "        val_mean = round(df_map['value'].mean(), 1)\n",
    "        \n",
    "        n = len(dates)\n",
    "        progression = round((i / n) * 50)\n",
    "        progressbar = progression * '█' + (50 - progression) * '░'\n",
    "        i += 1\n",
    "        \n",
    "        if type_ppl == 'surmortalite20':\n",
    "            var_hab = ''\n",
    "            pourcent = \" %\"\n",
    "            if val_mean < 0:\n",
    "                val_mean = \"– \" + str(abs(val_mean))\n",
    "            else:\n",
    "                val_mean = \"+ \" + str(val_mean)\n",
    "                \n",
    "        val_mean = str(val_mean).replace(\".\", \",\")\n",
    "        \n",
    "        fig.update_layout(\n",
    "            margin={\"r\":0,\"t\":0,\"l\":0,\"b\":0},\n",
    "            title={\n",
    "            'text': \"{}\".format(date_title),\n",
    "            'y':0.95,\n",
    "            'x':0.5,\n",
    "            'xanchor': 'center',\n",
    "            'yanchor': 'top'},\n",
    "            titlefont = dict(\n",
    "            size=30),\n",
    "            annotations = [\n",
    "                dict(\n",
    "                    x=0.54,\n",
    "                    y=0.08,\n",
    "                    xref='paper',\n",
    "                    yref='paper',\n",
    "                    xanchor = 'center',\n",
    "                    text='Source : Santé publique France. Auteur : @guillaumerozier - CovidTracker.fr',\n",
    "                    showarrow = False\n",
    "                ),\n",
    "                dict(\n",
    "                    x=0.54,\n",
    "                    y=0.03,\n",
    "                    xref = 'paper',\n",
    "                    yref = 'paper',\n",
    "                    text = progressbar,\n",
    "                    xanchor = 'center',\n",
    "                    showarrow = False,\n",
    "                    font=dict(\n",
    "                        size=9\n",
    "                            )\n",
    "                ),\n",
    "                dict(\n",
    "                    x=0.07,\n",
    "                    y=0.47,\n",
    "                    xref='paper',\n",
    "                    yref='paper',\n",
    "                    xanchor='left',\n",
    "                    text='Moyenne France',\n",
    "                    showarrow = False,\n",
    "                    font=dict(\n",
    "                        size=14\n",
    "                            )\n",
    "                ),\n",
    "                dict(\n",
    "                    x=0.07,\n",
    "                    y=0.50,\n",
    "                    xref='paper',\n",
    "                    yref='paper',\n",
    "                    xanchor='left',\n",
    "                    text='{}{}'.format(val_mean, pourcent),\n",
    "                    showarrow = False,\n",
    "                    font=dict(\n",
    "                        size=25\n",
    "                            )\n",
    "                ),\n",
    "                \n",
    "                dict(\n",
    "                    x=0.07,\n",
    "                    y=0.45,\n",
    "                    xref='paper',\n",
    "                    yref='paper',\n",
    "                    xanchor='left',\n",
    "                    text = var_hab,\n",
    "                    showarrow = False,\n",
    "                    font=dict(\n",
    "                        size=14\n",
    "                            )\n",
    "                ),\n",
    "                dict(\n",
    "                    x=0.55,\n",
    "                    y=0.9,\n",
    "                    xref='paper',\n",
    "                    yref='paper',\n",
    "                    text=subtitle,\n",
    "                    showarrow = False,\n",
    "                    font=dict(\n",
    "                        size=20\n",
    "                            )\n",
    "                )]\n",
    "             ) \n",
    "        \n",
    "        fig.update_geos(\n",
    "            #center=dict(lon=-30, lat=-30),\n",
    "            projection_rotation=dict(lon=12, lat=30, roll=8),\n",
    "            #lataxis_range=[-50,20], lonaxis_range=[0, 200]\n",
    "        )\n",
    "        fig.write_image((imgs_folder+\"/{}.jpeg\").format(date), scale=1, width=900, height=700)\n",
    "    return max_scale\n",
    "\n",
    "def build_gif(file_gif, imgs_folder, dates):\n",
    "    i=0\n",
    "    with imageio.get_writer(file_gif, mode='I', duration=0.3) as writer: \n",
    "        for date in tqdm(dates):\n",
    "            print((imgs_folder+\"/{}.jpeg\").format(date))\n",
    "            image = imageio.imread((imgs_folder+\"/{}.jpeg\").format(date))\n",
    "            writer.append_data(image)\n",
    "            i+=1\n",
    "            if i==len(dates):\n",
    "                for k in range(8):\n",
    "                    writer.append_data(image)"
   ]
  },
  {
   "cell_type": "code",
   "execution_count": 9,
   "metadata": {},
   "outputs": [],
   "source": [
    "#build_map(df_deconf, img_folder=\"images/charts/france/deconf_synthese/{}.png\", title=\"Départements déconfinés le 11/05\")\n"
   ]
  },
  {
   "cell_type": "code",
   "execution_count": 10,
   "metadata": {},
   "outputs": [],
   "source": [
    "def build_map_indic1(data_df, img_folder, legend_title=\"legend_title\", title=\"title\"):\n",
    "    dates_deconf = list(dict.fromkeys(list(data_df['date_de_passage'].values))) \n",
    "    date = dates_deconf[-1]\n",
    "    \n",
    "    data_df = data_df[data_df[\"date_de_passage\"] == date]\n",
    "    \n",
    "    fig = px.choropleth(geojson = depa, \n",
    "                        locations = data_df['dep'], \n",
    "                        featureidkey=\"properties.code\",\n",
    "                        color = data_df['taux_corona'],\n",
    "                        scope='europe',\n",
    "                        range_color=(0, 0.1),\n",
    "                        #labels={'red':\"Couleur\", 'orange':'bla', 'green':'lol'},\n",
    "                        #color_discrete_sequence = [\"green\", \"orange\", \"red\"],\n",
    "                        #color_discrete_map = {\"vert\":\"green\", \"orange\":\"orange\", \"rouge\":\"red\"}\n",
    "                        #category_orders = {\"indic_synthese\" :[\"vert\", \"orange\", \"rouge\"]}\n",
    "                              )\n",
    "    date_title = datetime.strptime(dates_deconf[-1], '%Y-%m-%d').strftime('%d %B')\n",
    "\n",
    "    fig.update_geos(fitbounds=\"locations\", visible=False)\n",
    "\n",
    "    fig.update_layout(\n",
    "        margin={\"r\":0,\"t\":20,\"l\":0,\"b\":0},\n",
    "        title={\n",
    "            'text': title,\n",
    "            'y':0.98,\n",
    "            'x':0.5,\n",
    "            'xanchor': 'center',\n",
    "            'yanchor': 'top'},\n",
    "        \n",
    "        titlefont = dict(\n",
    "            size=30),\n",
    "        \n",
    "        annotations = [\n",
    "            dict(\n",
    "                x=0.54,\n",
    "                y=0.03,\n",
    "                xref='paper',\n",
    "                yref='paper',\n",
    "                xanchor = 'center',\n",
    "                text='Source : Ministère de la Santé. Auteur : @guillaumerozier.',\n",
    "                showarrow = False\n",
    "            ),\n",
    "\n",
    "            dict(\n",
    "                x=0.55,\n",
    "                y=0.94,\n",
    "                xref='paper',\n",
    "                yref='paper',\n",
    "                text= \"Mis à jour le {}\".format(date_title),\n",
    "                showarrow = False,\n",
    "                font=dict(\n",
    "                    size=20\n",
    "                        )\n",
    "            )]\n",
    "         ) \n",
    "\n",
    "    fig.update_geos(\n",
    "        #center=dict(lon=-30, lat=-30),\n",
    "        projection_rotation=dict(lon=12, lat=30, roll=8),\n",
    "        #lataxis_range=[-50,20], lonaxis_range=[0, 200]\n",
    "    )\n",
    "    #fig.show()\n",
    "    if date == dates_deconf[-1]:\n",
    "        fig.write_image(img_folder.format(\"latest\"), scale=2, width=1200, height=800)\n",
    "    fig.write_image(img_folder.format(date), scale=2, width=1200, height=800)\n",
    "    \n"
   ]
  },
  {
   "cell_type": "code",
   "execution_count": 11,
   "metadata": {},
   "outputs": [
    {
     "data": {
      "text/plain": [
       "'df_sursaud = df_sursaud[df_sursaud[\"sursaud_cl_age_corona\"] == \"0\"]\\ndf_sursaud_gb = df_sursaud.groupby([\"dep\", \"date_de_passage\"]).rolling(window=7).sum().reset_index()\\n\\ndf_sursaud[\"taux_corona\"] = df_sursaud[\"nbre_pass_corona\"]/df_sursaud[\"nbre_pass_tot\"]\\ndf_sursaud[\"taux_corona\"] = df_sursaud[\"taux_corona\"].rolling(window=7).sum()\\n\\ndf_sursaud_gb[\"taux_corona\"] = df_sursaud_gb[\"nbre_pass_corona\"]/df_sursaud_gb[\"nbre_pass_tot\"]\\n'"
      ]
     },
     "execution_count": 11,
     "metadata": {},
     "output_type": "execute_result"
    }
   ],
   "source": [
    "\"\"\"df_sursaud = df_sursaud[df_sursaud[\"sursaud_cl_age_corona\"] == \"0\"]\n",
    "df_sursaud_gb = df_sursaud.groupby([\"dep\", \"date_de_passage\"]).rolling(window=7).sum().reset_index()\n",
    "\n",
    "df_sursaud[\"taux_corona\"] = df_sursaud[\"nbre_pass_corona\"]/df_sursaud[\"nbre_pass_tot\"]\n",
    "df_sursaud[\"taux_corona\"] = df_sursaud[\"taux_corona\"].rolling(window=7).sum()\n",
    "\n",
    "df_sursaud_gb[\"taux_corona\"] = df_sursaud_gb[\"nbre_pass_corona\"]/df_sursaud_gb[\"nbre_pass_tot\"]\n",
    "\"\"\"\n",
    "#build_map_indic1(df_sursaud_gb, img_folder=\"images/charts/france/deconf_indic1/{}.png\", title=\"Indic 1\")"
   ]
  },
  {
   "cell_type": "code",
   "execution_count": 12,
   "metadata": {},
   "outputs": [],
   "source": [
    "#df_sursaud_gb = df_sursaud.groupby([\"dep\"]).rolling(window=7, on=\"date_de_passage\").mean().reset_index()\n",
    "#df_sursaud_gb[\"date_de_passage\"] = df_sursaud[\"date_de_passage\"].values\n",
    "#df_sursaud_gb[df_sursaud_gb[\"dep\"]==\"01\"]\n",
    "#df_sursaud_gb\n"
   ]
  },
  {
   "cell_type": "markdown",
   "metadata": {},
   "source": [
    "<br>\n",
    "\n",
    "<br>\n",
    "\n",
    "<br>\n",
    "\n",
    "<br>\n",
    "\n",
    "## Function calls"
   ]
  },
  {
   "cell_type": "code",
   "execution_count": 13,
   "metadata": {},
   "outputs": [],
   "source": [
    "def dep_map():\n",
    "    # GIF carte nb réanimations par habitant\n",
    "    imgs_folder = \"images/charts/france/dep-map-img\"\n",
    "    sub = 'Nombre de <b>personnes en réanimation</b> <br>par habitant de chaque département.'\n",
    "    map_gif(dates[-30:], imgs_folder, df = df, type_ppl = \"rea_deppop\", legend_title=\"réan./100k hab\", min_scale = 0, max_scale=-1, colorscale =\"Reds\", subtitle=sub)\n",
    "    build_gif(file_gif = \"images/charts/france/dep-map.gif\", imgs_folder = \"images/charts/france/dep-map-img\", dates=dates[-30:])"
   ]
  },
  {
   "cell_type": "code",
   "execution_count": 14,
   "metadata": {},
   "outputs": [],
   "source": [
    "def dep_map_dc_cum():\n",
    "    # GIF carte décès cumulés par habitant\n",
    "    imgs_folder = \"images/charts/france/dep-map-img-dc-cum\"\n",
    "    sub = 'Nombre de <b>décès cumulés</b> <br>par habitant de chaque département.'\n",
    "    map_gif(dates[-30:], imgs_folder, df = df, type_ppl = \"dc_deppop\", legend_title=\"décès/100k hab\", min_scale = 0, max_scale=-1, colorscale =\"Reds\", subtitle=sub)\n",
    "    build_gif(file_gif = \"images/charts/france/dep-map-dc-cum.gif\", imgs_folder = \"images/charts/france/dep-map-img-dc-cum\", dates=dates[-30:])"
   ]
  },
  {
   "cell_type": "code",
   "execution_count": 15,
   "metadata": {},
   "outputs": [],
   "source": [
    "def dep_map_dc_journ():\n",
    "    # GIF carte décès quotidiens \n",
    "    imgs_folder = \"images/charts/france/dep-map-img-dc-journ\"\n",
    "    sub = 'Nombre de <b>décès quotidien</b> <br>par habitant de chaque département.'\n",
    "    map_gif(dates[-30:], imgs_folder, df = df, type_ppl = \"dc_new_deppop\", legend_title=\"décès/100k hab\", min_scale = 0, max_scale=-1, colorscale =\"Reds\", subtitle=sub)\n",
    "    build_gif(file_gif = \"images/charts/france/dep-map-dc-journ.gif\", imgs_folder = \"images/charts/france/dep-map-img-dc-journ\", dates=dates[-30:])"
   ]
  },
  {
   "cell_type": "code",
   "execution_count": 16,
   "metadata": {},
   "outputs": [],
   "source": [
    "def dep_map_incidence():\n",
    "    # GIF carte décès quotidiens \n",
    "    imgs_folder = \"images/charts/france/dep-map-incid\"\n",
    "    dates_incid = list(dict.fromkeys(list(df_incid.dropna()['jour'].values)))\n",
    "    dates_incid.sort()\n",
    "    \n",
    "    sub = '<b>Incidence</b> : nombre de cas hebdomadaires <br>pour 100 000 habitants'\n",
    "    map_gif(dates_incid[-30:], imgs_folder, df = df_incid, type_ppl = \"incidence\", legend_title=\"cas sur 7j/100k hab\", min_scale = 0, max_scale=-1, \\\n",
    "                                    colorscale = \"Reds\", subtitle=sub)\n",
    "    build_gif(file_gif = \"images/charts/france/dep-map-incid.gif\", imgs_folder = \"images/charts/france/dep-map-incid\", dates=dates_incid[-30:])"
   ]
  },
  {
   "cell_type": "code",
   "execution_count": 17,
   "metadata": {},
   "outputs": [
    {
     "name": "stderr",
     "output_type": "stream",
     "text": [
      "\n",
      "  0%|          | 0/30 [00:00<?, ?it/s]\u001b[A\n",
      "  3%|▎         | 1/30 [00:15<07:38, 15.79s/it]\u001b[A\n",
      "  7%|▋         | 2/30 [00:24<06:21, 13.64s/it]\u001b[A\n",
      " 10%|█         | 3/30 [00:31<05:17, 11.76s/it]\u001b[A\n",
      " 13%|█▎        | 4/30 [00:41<04:51, 11.21s/it]\u001b[A\n",
      " 17%|█▋        | 5/30 [00:52<04:37, 11.11s/it]\u001b[A\n",
      " 20%|██        | 6/30 [01:00<04:01, 10.06s/it]\u001b[A\n",
      " 23%|██▎       | 7/30 [01:08<03:40,  9.60s/it]\u001b[A\n",
      " 27%|██▋       | 8/30 [01:16<03:16,  8.94s/it]\u001b[A\n",
      " 30%|███       | 9/30 [01:25<03:07,  8.93s/it]\u001b[A\n",
      " 33%|███▎      | 10/30 [01:32<02:49,  8.47s/it]\u001b[A\n",
      " 37%|███▋      | 11/30 [01:40<02:39,  8.38s/it]\u001b[A\n",
      " 40%|████      | 12/30 [01:48<02:30,  8.38s/it]\u001b[A\n",
      " 43%|████▎     | 13/30 [02:00<02:36,  9.22s/it]\u001b[A\n",
      " 47%|████▋     | 14/30 [02:08<02:23,  8.95s/it]\u001b[A\n",
      " 50%|█████     | 15/30 [02:15<02:05,  8.37s/it]\u001b[A\n",
      " 53%|█████▎    | 16/30 [02:23<01:56,  8.30s/it]\u001b[A\n",
      " 57%|█████▋    | 17/30 [02:32<01:50,  8.47s/it]\u001b[A\n",
      " 60%|██████    | 18/30 [02:40<01:39,  8.30s/it]\u001b[A\n",
      " 63%|██████▎   | 19/30 [02:47<01:28,  8.03s/it]\u001b[A\n",
      " 67%|██████▋   | 20/30 [02:57<01:26,  8.68s/it]\u001b[A\n",
      " 70%|███████   | 21/30 [03:04<01:12,  8.08s/it]\u001b[A\n",
      " 73%|███████▎  | 22/30 [03:11<01:02,  7.81s/it]\u001b[A\n",
      " 77%|███████▋  | 23/30 [03:19<00:54,  7.77s/it]\u001b[A\n",
      " 80%|████████  | 24/30 [03:27<00:47,  7.95s/it]\u001b[A\n",
      " 83%|████████▎ | 25/30 [03:41<00:47,  9.52s/it]\u001b[A\n",
      " 87%|████████▋ | 26/30 [03:51<00:39,  9.77s/it]\u001b[A\n",
      " 90%|█████████ | 27/30 [04:01<00:29,  9.99s/it]\u001b[A\n",
      " 93%|█████████▎| 28/30 [04:10<00:19,  9.67s/it]\u001b[A\n",
      " 97%|█████████▋| 29/30 [04:19<00:09,  9.47s/it]\u001b[A\n",
      "100%|██████████| 30/30 [04:29<00:00,  9.00s/it]\u001b[A\n",
      "\n",
      "  0%|          | 0/30 [00:00<?, ?it/s]\u001b[A\n",
      "  3%|▎         | 1/30 [00:00<00:05,  5.56it/s]\u001b[A"
     ]
    },
    {
     "name": "stdout",
     "output_type": "stream",
     "text": [
      "images/charts/france/dep-map-incid/2020-09-20.jpeg\n",
      "images/charts/france/dep-map-incid/2020-09-21.jpeg\n"
     ]
    },
    {
     "name": "stderr",
     "output_type": "stream",
     "text": [
      "\n",
      "  7%|▋         | 2/30 [00:00<00:05,  5.20it/s]\u001b[A\n",
      " 10%|█         | 3/30 [00:00<00:05,  5.28it/s]\u001b[A"
     ]
    },
    {
     "name": "stdout",
     "output_type": "stream",
     "text": [
      "images/charts/france/dep-map-incid/2020-09-22.jpeg\n",
      "images/charts/france/dep-map-incid/2020-09-23.jpeg\n"
     ]
    },
    {
     "name": "stderr",
     "output_type": "stream",
     "text": [
      "\n",
      " 13%|█▎        | 4/30 [00:00<00:05,  5.00it/s]\u001b[A"
     ]
    },
    {
     "name": "stdout",
     "output_type": "stream",
     "text": [
      "images/charts/france/dep-map-incid/2020-09-24.jpeg\n"
     ]
    },
    {
     "name": "stderr",
     "output_type": "stream",
     "text": [
      "\n",
      " 17%|█▋        | 5/30 [00:01<00:05,  4.42it/s]\u001b[A"
     ]
    },
    {
     "name": "stdout",
     "output_type": "stream",
     "text": [
      "images/charts/france/dep-map-incid/2020-09-25.jpeg\n"
     ]
    },
    {
     "name": "stderr",
     "output_type": "stream",
     "text": [
      "\n",
      " 20%|██        | 6/30 [00:01<00:05,  4.24it/s]\u001b[A\n",
      " 23%|██▎       | 7/30 [00:01<00:05,  4.44it/s]\u001b[A"
     ]
    },
    {
     "name": "stdout",
     "output_type": "stream",
     "text": [
      "images/charts/france/dep-map-incid/2020-09-26.jpeg\n",
      "images/charts/france/dep-map-incid/2020-09-27.jpeg\n"
     ]
    },
    {
     "name": "stderr",
     "output_type": "stream",
     "text": [
      "\n",
      " 27%|██▋       | 8/30 [00:01<00:05,  4.24it/s]\u001b[A"
     ]
    },
    {
     "name": "stdout",
     "output_type": "stream",
     "text": [
      "images/charts/france/dep-map-incid/2020-09-28.jpeg\n"
     ]
    },
    {
     "name": "stderr",
     "output_type": "stream",
     "text": [
      "\n",
      " 30%|███       | 9/30 [00:02<00:04,  4.30it/s]\u001b[A\n",
      " 33%|███▎      | 10/30 [00:02<00:04,  4.50it/s]\u001b[A"
     ]
    },
    {
     "name": "stdout",
     "output_type": "stream",
     "text": [
      "images/charts/france/dep-map-incid/2020-09-29.jpeg\n",
      "images/charts/france/dep-map-incid/2020-09-30.jpeg\n"
     ]
    },
    {
     "name": "stderr",
     "output_type": "stream",
     "text": [
      "\n",
      " 37%|███▋      | 11/30 [00:02<00:04,  4.47it/s]\u001b[A\n",
      " 40%|████      | 12/30 [00:02<00:03,  4.82it/s]\u001b[A"
     ]
    },
    {
     "name": "stdout",
     "output_type": "stream",
     "text": [
      "images/charts/france/dep-map-incid/2020-10-01.jpeg\n",
      "images/charts/france/dep-map-incid/2020-10-02.jpeg\n"
     ]
    },
    {
     "name": "stderr",
     "output_type": "stream",
     "text": [
      "\n",
      " 43%|████▎     | 13/30 [00:02<00:03,  4.79it/s]\u001b[A"
     ]
    },
    {
     "name": "stdout",
     "output_type": "stream",
     "text": [
      "images/charts/france/dep-map-incid/2020-10-03.jpeg\n"
     ]
    },
    {
     "name": "stderr",
     "output_type": "stream",
     "text": [
      "\n",
      " 47%|████▋     | 14/30 [00:03<00:03,  4.77it/s]\u001b[A"
     ]
    },
    {
     "name": "stdout",
     "output_type": "stream",
     "text": [
      "images/charts/france/dep-map-incid/2020-10-04.jpeg\n"
     ]
    },
    {
     "name": "stderr",
     "output_type": "stream",
     "text": [
      "\n",
      " 50%|█████     | 15/30 [00:03<00:03,  4.35it/s]\u001b[A"
     ]
    },
    {
     "name": "stdout",
     "output_type": "stream",
     "text": [
      "images/charts/france/dep-map-incid/2020-10-05.jpeg\n"
     ]
    },
    {
     "name": "stderr",
     "output_type": "stream",
     "text": [
      "\n",
      " 53%|█████▎    | 16/30 [00:03<00:04,  3.35it/s]\u001b[A"
     ]
    },
    {
     "name": "stdout",
     "output_type": "stream",
     "text": [
      "images/charts/france/dep-map-incid/2020-10-06.jpeg\n"
     ]
    },
    {
     "name": "stderr",
     "output_type": "stream",
     "text": [
      "\n",
      " 57%|█████▋    | 17/30 [00:04<00:04,  3.08it/s]\u001b[A"
     ]
    },
    {
     "name": "stdout",
     "output_type": "stream",
     "text": [
      "images/charts/france/dep-map-incid/2020-10-07.jpeg\n"
     ]
    },
    {
     "name": "stderr",
     "output_type": "stream",
     "text": [
      "\n",
      " 60%|██████    | 18/30 [00:04<00:03,  3.10it/s]\u001b[A"
     ]
    },
    {
     "name": "stdout",
     "output_type": "stream",
     "text": [
      "images/charts/france/dep-map-incid/2020-10-08.jpeg\n"
     ]
    },
    {
     "name": "stderr",
     "output_type": "stream",
     "text": [
      "\n",
      " 63%|██████▎   | 19/30 [00:04<00:03,  3.08it/s]\u001b[A"
     ]
    },
    {
     "name": "stdout",
     "output_type": "stream",
     "text": [
      "images/charts/france/dep-map-incid/2020-10-09.jpeg\n"
     ]
    },
    {
     "name": "stderr",
     "output_type": "stream",
     "text": [
      "\n",
      " 67%|██████▋   | 20/30 [00:05<00:03,  3.15it/s]\u001b[A"
     ]
    },
    {
     "name": "stdout",
     "output_type": "stream",
     "text": [
      "images/charts/france/dep-map-incid/2020-10-10.jpeg\n"
     ]
    },
    {
     "name": "stderr",
     "output_type": "stream",
     "text": [
      "\n",
      " 70%|███████   | 21/30 [00:05<00:03,  2.85it/s]\u001b[A"
     ]
    },
    {
     "name": "stdout",
     "output_type": "stream",
     "text": [
      "images/charts/france/dep-map-incid/2020-10-11.jpeg\n"
     ]
    },
    {
     "name": "stderr",
     "output_type": "stream",
     "text": [
      "\n",
      " 73%|███████▎  | 22/30 [00:06<00:03,  2.62it/s]\u001b[A"
     ]
    },
    {
     "name": "stdout",
     "output_type": "stream",
     "text": [
      "images/charts/france/dep-map-incid/2020-10-12.jpeg\n"
     ]
    },
    {
     "name": "stderr",
     "output_type": "stream",
     "text": [
      "\n",
      " 77%|███████▋  | 23/30 [00:06<00:02,  2.68it/s]\u001b[A"
     ]
    },
    {
     "name": "stdout",
     "output_type": "stream",
     "text": [
      "images/charts/france/dep-map-incid/2020-10-13.jpeg\n"
     ]
    },
    {
     "name": "stderr",
     "output_type": "stream",
     "text": [
      "\n",
      " 80%|████████  | 24/30 [00:06<00:02,  2.64it/s]\u001b[A"
     ]
    },
    {
     "name": "stdout",
     "output_type": "stream",
     "text": [
      "images/charts/france/dep-map-incid/2020-10-14.jpeg\n"
     ]
    },
    {
     "name": "stderr",
     "output_type": "stream",
     "text": [
      "\n",
      " 83%|████████▎ | 25/30 [00:07<00:01,  2.59it/s]\u001b[A"
     ]
    },
    {
     "name": "stdout",
     "output_type": "stream",
     "text": [
      "images/charts/france/dep-map-incid/2020-10-15.jpeg\n"
     ]
    },
    {
     "name": "stderr",
     "output_type": "stream",
     "text": [
      "\n",
      " 87%|████████▋ | 26/30 [00:07<00:01,  2.48it/s]\u001b[A"
     ]
    },
    {
     "name": "stdout",
     "output_type": "stream",
     "text": [
      "images/charts/france/dep-map-incid/2020-10-16.jpeg\n"
     ]
    },
    {
     "name": "stderr",
     "output_type": "stream",
     "text": [
      "\n",
      " 90%|█████████ | 27/30 [00:07<00:01,  2.52it/s]\u001b[A"
     ]
    },
    {
     "name": "stdout",
     "output_type": "stream",
     "text": [
      "images/charts/france/dep-map-incid/2020-10-17.jpeg\n"
     ]
    },
    {
     "name": "stderr",
     "output_type": "stream",
     "text": [
      "\n",
      " 93%|█████████▎| 28/30 [00:08<00:00,  2.39it/s]\u001b[A"
     ]
    },
    {
     "name": "stdout",
     "output_type": "stream",
     "text": [
      "images/charts/france/dep-map-incid/2020-10-18.jpeg\n"
     ]
    },
    {
     "name": "stderr",
     "output_type": "stream",
     "text": [
      "\n",
      " 97%|█████████▋| 29/30 [00:09<00:00,  2.15it/s]\u001b[A"
     ]
    },
    {
     "name": "stdout",
     "output_type": "stream",
     "text": [
      "images/charts/france/dep-map-incid/2020-10-19.jpeg\n"
     ]
    },
    {
     "name": "stderr",
     "output_type": "stream",
     "text": [
      "\n",
      "100%|██████████| 30/30 [00:12<00:00,  2.41it/s]\u001b[A\n",
      "\n",
      "  0%|          | 0/30 [00:00<?, ?it/s]\u001b[A\n",
      "  3%|▎         | 1/30 [00:07<03:45,  7.77s/it]\u001b[A\n",
      "  7%|▋         | 2/30 [00:14<03:32,  7.58s/it]\u001b[A\n",
      " 10%|█         | 3/30 [00:22<03:21,  7.46s/it]\u001b[A\n",
      " 13%|█▎        | 4/30 [00:30<03:18,  7.63s/it]\u001b[A\n",
      " 17%|█▋        | 5/30 [00:36<03:03,  7.35s/it]\u001b[A\n",
      " 20%|██        | 6/30 [00:43<02:54,  7.28s/it]\u001b[A\n",
      " 23%|██▎       | 7/30 [00:51<02:47,  7.27s/it]\u001b[A\n",
      " 27%|██▋       | 8/30 [00:57<02:32,  6.93s/it]\u001b[A\n",
      " 30%|███       | 9/30 [01:03<02:20,  6.69s/it]\u001b[A\n",
      " 33%|███▎      | 10/30 [01:11<02:21,  7.05s/it]\u001b[A\n",
      " 37%|███▋      | 11/30 [01:18<02:15,  7.13s/it]\u001b[A\n",
      " 40%|████      | 12/30 [01:26<02:14,  7.46s/it]\u001b[A\n",
      " 43%|████▎     | 13/30 [01:33<02:00,  7.11s/it]\u001b[A\n",
      " 47%|████▋     | 14/30 [01:40<01:54,  7.15s/it]\u001b[A\n",
      " 50%|█████     | 15/30 [01:47<01:46,  7.10s/it]\u001b[A\n",
      " 53%|█████▎    | 16/30 [01:53<01:36,  6.91s/it]\u001b[A\n",
      " 57%|█████▋    | 17/30 [02:00<01:27,  6.72s/it]\u001b[A\n",
      " 60%|██████    | 18/30 [02:06<01:21,  6.75s/it]\u001b[A\n",
      " 63%|██████▎   | 19/30 [02:14<01:16,  6.92s/it]\u001b[A\n",
      " 67%|██████▋   | 20/30 [02:22<01:12,  7.26s/it]\u001b[A\n",
      " 70%|███████   | 21/30 [02:29<01:03,  7.08s/it]\u001b[A\n",
      " 73%|███████▎  | 22/30 [02:36<00:57,  7.24s/it]\u001b[A\n",
      " 77%|███████▋  | 23/30 [02:43<00:50,  7.22s/it]\u001b[A\n",
      " 80%|████████  | 24/30 [02:50<00:42,  7.04s/it]\u001b[A\n",
      " 83%|████████▎ | 25/30 [02:57<00:35,  7.07s/it]\u001b[A\n",
      " 87%|████████▋ | 26/30 [03:05<00:28,  7.19s/it]\u001b[A\n",
      " 90%|█████████ | 27/30 [03:12<00:21,  7.16s/it]\u001b[A\n",
      " 93%|█████████▎| 28/30 [03:20<00:14,  7.48s/it]\u001b[A\n",
      " 97%|█████████▋| 29/30 [03:27<00:07,  7.47s/it]\u001b[A\n",
      "100%|██████████| 30/30 [03:37<00:00,  7.25s/it]\u001b[A\n",
      "\n",
      "  0%|          | 0/30 [00:00<?, ?it/s]\u001b[A"
     ]
    },
    {
     "name": "stdout",
     "output_type": "stream",
     "text": [
      "images/charts/france/dep-map-img/2020-09-22.jpeg\n"
     ]
    },
    {
     "name": "stderr",
     "output_type": "stream",
     "text": [
      "\n",
      "  3%|▎         | 1/30 [00:00<00:06,  4.34it/s]\u001b[A"
     ]
    },
    {
     "name": "stdout",
     "output_type": "stream",
     "text": [
      "images/charts/france/dep-map-img/2020-09-23.jpeg\n"
     ]
    },
    {
     "name": "stderr",
     "output_type": "stream",
     "text": [
      "\n",
      "  7%|▋         | 2/30 [00:00<00:06,  4.22it/s]\u001b[A"
     ]
    },
    {
     "name": "stdout",
     "output_type": "stream",
     "text": [
      "images/charts/france/dep-map-img/2020-09-24.jpeg\n"
     ]
    },
    {
     "name": "stderr",
     "output_type": "stream",
     "text": [
      "\n",
      " 10%|█         | 3/30 [00:00<00:06,  4.25it/s]\u001b[A"
     ]
    },
    {
     "name": "stdout",
     "output_type": "stream",
     "text": [
      "images/charts/france/dep-map-img/2020-09-25.jpeg\n"
     ]
    },
    {
     "name": "stderr",
     "output_type": "stream",
     "text": [
      "\n",
      " 13%|█▎        | 4/30 [00:00<00:06,  4.28it/s]\u001b[A\n",
      " 17%|█▋        | 5/30 [00:01<00:05,  4.66it/s]\u001b[A"
     ]
    },
    {
     "name": "stdout",
     "output_type": "stream",
     "text": [
      "images/charts/france/dep-map-img/2020-09-26.jpeg\n",
      "images/charts/france/dep-map-img/2020-09-27.jpeg\n"
     ]
    },
    {
     "name": "stderr",
     "output_type": "stream",
     "text": [
      "\n",
      " 20%|██        | 6/30 [00:01<00:04,  4.85it/s]\u001b[A\n",
      " 23%|██▎       | 7/30 [00:01<00:04,  5.08it/s]\u001b[A"
     ]
    },
    {
     "name": "stdout",
     "output_type": "stream",
     "text": [
      "images/charts/france/dep-map-img/2020-09-28.jpeg\n",
      "images/charts/france/dep-map-img/2020-09-29.jpeg\n"
     ]
    },
    {
     "name": "stderr",
     "output_type": "stream",
     "text": [
      "\n",
      " 27%|██▋       | 8/30 [00:01<00:04,  5.18it/s]\u001b[A\n",
      " 30%|███       | 9/30 [00:01<00:04,  5.23it/s]\u001b[A"
     ]
    },
    {
     "name": "stdout",
     "output_type": "stream",
     "text": [
      "images/charts/france/dep-map-img/2020-09-30.jpeg\n",
      "images/charts/france/dep-map-img/2020-10-01.jpeg\n"
     ]
    },
    {
     "name": "stderr",
     "output_type": "stream",
     "text": [
      "\n",
      " 33%|███▎      | 10/30 [00:02<00:03,  5.05it/s]\u001b[A"
     ]
    },
    {
     "name": "stdout",
     "output_type": "stream",
     "text": [
      "images/charts/france/dep-map-img/2020-10-02.jpeg\n"
     ]
    },
    {
     "name": "stderr",
     "output_type": "stream",
     "text": [
      "\n",
      " 37%|███▋      | 11/30 [00:02<00:05,  3.46it/s]\u001b[A"
     ]
    },
    {
     "name": "stdout",
     "output_type": "stream",
     "text": [
      "images/charts/france/dep-map-img/2020-10-03.jpeg\n"
     ]
    },
    {
     "name": "stderr",
     "output_type": "stream",
     "text": [
      "\n",
      " 40%|████      | 12/30 [00:02<00:05,  3.53it/s]\u001b[A\n",
      " 43%|████▎     | 13/30 [00:03<00:04,  3.87it/s]\u001b[A"
     ]
    },
    {
     "name": "stdout",
     "output_type": "stream",
     "text": [
      "images/charts/france/dep-map-img/2020-10-04.jpeg\n",
      "images/charts/france/dep-map-img/2020-10-05.jpeg\n"
     ]
    },
    {
     "name": "stderr",
     "output_type": "stream",
     "text": [
      "\n",
      " 47%|████▋     | 14/30 [00:03<00:03,  4.19it/s]\u001b[A\n",
      " 50%|█████     | 15/30 [00:03<00:03,  4.43it/s]\u001b[A"
     ]
    },
    {
     "name": "stdout",
     "output_type": "stream",
     "text": [
      "images/charts/france/dep-map-img/2020-10-06.jpeg\n",
      "images/charts/france/dep-map-img/2020-10-07.jpeg\n"
     ]
    },
    {
     "name": "stderr",
     "output_type": "stream",
     "text": [
      "\n",
      " 53%|█████▎    | 16/30 [00:03<00:03,  4.61it/s]\u001b[A"
     ]
    },
    {
     "name": "stdout",
     "output_type": "stream",
     "text": [
      "images/charts/france/dep-map-img/2020-10-08.jpeg\n"
     ]
    },
    {
     "name": "stderr",
     "output_type": "stream",
     "text": [
      "\n",
      " 57%|█████▋    | 17/30 [00:03<00:02,  4.48it/s]\u001b[A"
     ]
    },
    {
     "name": "stdout",
     "output_type": "stream",
     "text": [
      "images/charts/france/dep-map-img/2020-10-09.jpeg\n"
     ]
    },
    {
     "name": "stderr",
     "output_type": "stream",
     "text": [
      "\n",
      " 60%|██████    | 18/30 [00:04<00:03,  3.23it/s]\u001b[A"
     ]
    },
    {
     "name": "stdout",
     "output_type": "stream",
     "text": [
      "images/charts/france/dep-map-img/2020-10-10.jpeg\n"
     ]
    },
    {
     "name": "stderr",
     "output_type": "stream",
     "text": [
      "\n",
      " 63%|██████▎   | 19/30 [00:04<00:03,  2.77it/s]\u001b[A"
     ]
    },
    {
     "name": "stdout",
     "output_type": "stream",
     "text": [
      "images/charts/france/dep-map-img/2020-10-11.jpeg\n"
     ]
    },
    {
     "name": "stderr",
     "output_type": "stream",
     "text": [
      "\n",
      " 67%|██████▋   | 20/30 [00:05<00:04,  2.44it/s]\u001b[A"
     ]
    },
    {
     "name": "stdout",
     "output_type": "stream",
     "text": [
      "images/charts/france/dep-map-img/2020-10-12.jpeg\n"
     ]
    },
    {
     "name": "stderr",
     "output_type": "stream",
     "text": [
      "\n",
      " 70%|███████   | 21/30 [00:05<00:03,  2.33it/s]\u001b[A"
     ]
    },
    {
     "name": "stdout",
     "output_type": "stream",
     "text": [
      "images/charts/france/dep-map-img/2020-10-13.jpeg\n"
     ]
    },
    {
     "name": "stderr",
     "output_type": "stream",
     "text": [
      "\n",
      " 73%|███████▎  | 22/30 [00:06<00:03,  2.20it/s]\u001b[A"
     ]
    },
    {
     "name": "stdout",
     "output_type": "stream",
     "text": [
      "images/charts/france/dep-map-img/2020-10-14.jpeg\n"
     ]
    },
    {
     "name": "stderr",
     "output_type": "stream",
     "text": [
      "\n",
      " 77%|███████▋  | 23/30 [00:06<00:03,  1.99it/s]\u001b[A"
     ]
    },
    {
     "name": "stdout",
     "output_type": "stream",
     "text": [
      "images/charts/france/dep-map-img/2020-10-16.jpeg\n"
     ]
    },
    {
     "name": "stderr",
     "output_type": "stream",
     "text": [
      "\n",
      " 80%|████████  | 24/30 [00:07<00:02,  2.15it/s]\u001b[A"
     ]
    },
    {
     "name": "stdout",
     "output_type": "stream",
     "text": [
      "images/charts/france/dep-map-img/2020-10-17.jpeg\n"
     ]
    },
    {
     "name": "stderr",
     "output_type": "stream",
     "text": [
      "\n",
      " 83%|████████▎ | 25/30 [00:07<00:02,  2.05it/s]\u001b[A"
     ]
    },
    {
     "name": "stdout",
     "output_type": "stream",
     "text": [
      "images/charts/france/dep-map-img/2020-10-18.jpeg\n"
     ]
    },
    {
     "name": "stderr",
     "output_type": "stream",
     "text": [
      "\n",
      " 87%|████████▋ | 26/30 [00:08<00:02,  1.81it/s]\u001b[A"
     ]
    },
    {
     "name": "stdout",
     "output_type": "stream",
     "text": [
      "images/charts/france/dep-map-img/2020-10-19.jpeg\n"
     ]
    },
    {
     "name": "stderr",
     "output_type": "stream",
     "text": [
      "\n",
      " 90%|█████████ | 27/30 [00:09<00:01,  1.88it/s]\u001b[A"
     ]
    },
    {
     "name": "stdout",
     "output_type": "stream",
     "text": [
      "images/charts/france/dep-map-img/2020-10-20.jpeg\n"
     ]
    },
    {
     "name": "stderr",
     "output_type": "stream",
     "text": [
      "\n",
      " 93%|█████████▎| 28/30 [00:09<00:01,  1.76it/s]\u001b[A"
     ]
    },
    {
     "name": "stdout",
     "output_type": "stream",
     "text": [
      "images/charts/france/dep-map-img/2020-10-21.jpeg\n"
     ]
    },
    {
     "name": "stderr",
     "output_type": "stream",
     "text": [
      "\n",
      " 97%|█████████▋| 29/30 [00:10<00:00,  1.90it/s]\u001b[A"
     ]
    },
    {
     "name": "stdout",
     "output_type": "stream",
     "text": [
      "images/charts/france/dep-map-img/2020-10-22.jpeg\n"
     ]
    },
    {
     "name": "stderr",
     "output_type": "stream",
     "text": [
      "\n",
      "100%|██████████| 30/30 [00:13<00:00,  2.18it/s]\u001b[A\n",
      "\n",
      "  0%|          | 0/30 [00:00<?, ?it/s]\u001b[A\n",
      "  3%|▎         | 1/30 [00:10<05:06, 10.58s/it]\u001b[A\n",
      "  7%|▋         | 2/30 [00:19<04:39, 10.00s/it]\u001b[A\n",
      " 10%|█         | 3/30 [00:28<04:20,  9.65s/it]\u001b[A\n",
      " 13%|█▎        | 4/30 [00:34<03:46,  8.71s/it]\u001b[A\n",
      " 17%|█▋        | 5/30 [00:41<03:27,  8.30s/it]\u001b[A\n",
      " 20%|██        | 6/30 [00:53<03:44,  9.34s/it]\u001b[A\n",
      " 23%|██▎       | 7/30 [01:01<03:22,  8.80s/it]\u001b[A\n",
      " 27%|██▋       | 8/30 [01:10<03:18,  9.03s/it]\u001b[A\n",
      " 30%|███       | 9/30 [01:19<03:09,  9.03s/it]\u001b[A\n",
      " 33%|███▎      | 10/30 [01:28<03:01,  9.07s/it]\u001b[A\n",
      " 37%|███▋      | 11/30 [01:35<02:39,  8.38s/it]\u001b[A\n",
      " 40%|████      | 12/30 [01:42<02:23,  7.98s/it]\u001b[A\n",
      " 43%|████▎     | 13/30 [01:49<02:10,  7.66s/it]\u001b[A\n",
      " 47%|████▋     | 14/30 [01:57<02:02,  7.66s/it]\u001b[A\n",
      " 50%|█████     | 15/30 [02:06<01:59,  7.96s/it]\u001b[A\n",
      " 53%|█████▎    | 16/30 [02:13<01:47,  7.68s/it]\u001b[A\n",
      " 57%|█████▋    | 17/30 [02:20<01:38,  7.54s/it]\u001b[A\n",
      " 60%|██████    | 18/30 [02:27<01:31,  7.59s/it]\u001b[A\n",
      " 63%|██████▎   | 19/30 [02:36<01:25,  7.75s/it]\u001b[A\n",
      " 67%|██████▋   | 20/30 [02:43<01:15,  7.55s/it]\u001b[A\n",
      " 70%|███████   | 21/30 [02:50<01:07,  7.54s/it]\u001b[A\n",
      " 73%|███████▎  | 22/30 [02:57<00:58,  7.34s/it]\u001b[A\n",
      " 77%|███████▋  | 23/30 [03:05<00:52,  7.56s/it]\u001b[A\n",
      " 80%|████████  | 24/30 [03:12<00:44,  7.45s/it]\u001b[A\n",
      " 83%|████████▎ | 25/30 [03:26<00:46,  9.37s/it]\u001b[A\n",
      " 87%|████████▋ | 26/30 [03:36<00:38,  9.60s/it]\u001b[A\n",
      " 90%|█████████ | 27/30 [03:46<00:28,  9.61s/it]\u001b[A\n",
      " 93%|█████████▎| 28/30 [03:53<00:17,  8.72s/it]\u001b[A\n",
      " 97%|█████████▋| 29/30 [04:01<00:08,  8.73s/it]\u001b[A\n",
      "100%|██████████| 30/30 [04:10<00:00,  8.35s/it]\u001b[A\n",
      "\n",
      "  0%|          | 0/30 [00:00<?, ?it/s]\u001b[A"
     ]
    },
    {
     "name": "stdout",
     "output_type": "stream",
     "text": [
      "images/charts/france/dep-map-img-dc-journ/2020-09-22.jpeg\n"
     ]
    },
    {
     "name": "stderr",
     "output_type": "stream",
     "text": [
      "\n",
      "  3%|▎         | 1/30 [00:00<00:06,  4.17it/s]\u001b[A"
     ]
    },
    {
     "name": "stdout",
     "output_type": "stream",
     "text": [
      "images/charts/france/dep-map-img-dc-journ/2020-09-23.jpeg\n"
     ]
    },
    {
     "name": "stderr",
     "output_type": "stream",
     "text": [
      "\n",
      "  7%|▋         | 2/30 [00:00<00:06,  4.21it/s]\u001b[A"
     ]
    },
    {
     "name": "stdout",
     "output_type": "stream",
     "text": [
      "images/charts/france/dep-map-img-dc-journ/2020-09-24.jpeg\n"
     ]
    },
    {
     "name": "stderr",
     "output_type": "stream",
     "text": [
      "\n",
      " 10%|█         | 3/30 [00:00<00:06,  4.29it/s]\u001b[A"
     ]
    },
    {
     "name": "stdout",
     "output_type": "stream",
     "text": [
      "images/charts/france/dep-map-img-dc-journ/2020-09-25.jpeg\n"
     ]
    },
    {
     "name": "stderr",
     "output_type": "stream",
     "text": [
      "\n",
      " 13%|█▎        | 4/30 [00:00<00:05,  4.39it/s]\u001b[A\n",
      " 17%|█▋        | 5/30 [00:01<00:05,  4.76it/s]\u001b[A"
     ]
    },
    {
     "name": "stdout",
     "output_type": "stream",
     "text": [
      "images/charts/france/dep-map-img-dc-journ/2020-09-26.jpeg\n",
      "images/charts/france/dep-map-img-dc-journ/2020-09-27.jpeg\n"
     ]
    },
    {
     "name": "stderr",
     "output_type": "stream",
     "text": [
      "\n",
      " 20%|██        | 6/30 [00:01<00:04,  4.91it/s]\u001b[A\n",
      " 23%|██▎       | 7/30 [00:01<00:04,  5.34it/s]\u001b[A"
     ]
    },
    {
     "name": "stdout",
     "output_type": "stream",
     "text": [
      "images/charts/france/dep-map-img-dc-journ/2020-09-28.jpeg\n",
      "images/charts/france/dep-map-img-dc-journ/2020-09-29.jpeg\n"
     ]
    },
    {
     "name": "stderr",
     "output_type": "stream",
     "text": [
      "\n",
      " 27%|██▋       | 8/30 [00:01<00:04,  5.48it/s]\u001b[A\n",
      " 30%|███       | 9/30 [00:01<00:03,  5.39it/s]\u001b[A"
     ]
    },
    {
     "name": "stdout",
     "output_type": "stream",
     "text": [
      "images/charts/france/dep-map-img-dc-journ/2020-09-30.jpeg\n",
      "images/charts/france/dep-map-img-dc-journ/2020-10-01.jpeg\n"
     ]
    },
    {
     "name": "stderr",
     "output_type": "stream",
     "text": [
      "\n",
      " 33%|███▎      | 10/30 [00:01<00:03,  5.65it/s]\u001b[A\n",
      " 37%|███▋      | 11/30 [00:02<00:03,  5.57it/s]\u001b[A"
     ]
    },
    {
     "name": "stdout",
     "output_type": "stream",
     "text": [
      "images/charts/france/dep-map-img-dc-journ/2020-10-02.jpeg\n",
      "images/charts/france/dep-map-img-dc-journ/2020-10-03.jpeg\n"
     ]
    },
    {
     "name": "stderr",
     "output_type": "stream",
     "text": [
      "\n",
      " 40%|████      | 12/30 [00:02<00:03,  5.25it/s]\u001b[A\n",
      " 43%|████▎     | 13/30 [00:02<00:03,  5.39it/s]\u001b[A"
     ]
    },
    {
     "name": "stdout",
     "output_type": "stream",
     "text": [
      "images/charts/france/dep-map-img-dc-journ/2020-10-04.jpeg\n",
      "images/charts/france/dep-map-img-dc-journ/2020-10-05.jpeg\n"
     ]
    },
    {
     "name": "stderr",
     "output_type": "stream",
     "text": [
      "\n",
      " 47%|████▋     | 14/30 [00:02<00:02,  5.41it/s]\u001b[A\n",
      " 50%|█████     | 15/30 [00:02<00:02,  5.40it/s]\u001b[A"
     ]
    },
    {
     "name": "stdout",
     "output_type": "stream",
     "text": [
      "images/charts/france/dep-map-img-dc-journ/2020-10-06.jpeg\n",
      "images/charts/france/dep-map-img-dc-journ/2020-10-07.jpeg\n"
     ]
    },
    {
     "name": "stderr",
     "output_type": "stream",
     "text": [
      "\n",
      " 53%|█████▎    | 16/30 [00:03<00:02,  5.51it/s]\u001b[A\n",
      " 57%|█████▋    | 17/30 [00:03<00:02,  5.44it/s]\u001b[A"
     ]
    },
    {
     "name": "stdout",
     "output_type": "stream",
     "text": [
      "images/charts/france/dep-map-img-dc-journ/2020-10-08.jpeg\n",
      "images/charts/france/dep-map-img-dc-journ/2020-10-09.jpeg\n"
     ]
    },
    {
     "name": "stderr",
     "output_type": "stream",
     "text": [
      "\n",
      " 60%|██████    | 18/30 [00:03<00:02,  5.00it/s]\u001b[A"
     ]
    },
    {
     "name": "stdout",
     "output_type": "stream",
     "text": [
      "images/charts/france/dep-map-img-dc-journ/2020-10-10.jpeg\n"
     ]
    },
    {
     "name": "stderr",
     "output_type": "stream",
     "text": [
      "\n",
      " 63%|██████▎   | 19/30 [00:03<00:02,  4.68it/s]\u001b[A"
     ]
    },
    {
     "name": "stdout",
     "output_type": "stream",
     "text": [
      "images/charts/france/dep-map-img-dc-journ/2020-10-11.jpeg\n"
     ]
    },
    {
     "name": "stderr",
     "output_type": "stream",
     "text": [
      "\n",
      " 67%|██████▋   | 20/30 [00:03<00:02,  4.68it/s]\u001b[A\n",
      " 70%|███████   | 21/30 [00:04<00:01,  4.88it/s]\u001b[A"
     ]
    },
    {
     "name": "stdout",
     "output_type": "stream",
     "text": [
      "images/charts/france/dep-map-img-dc-journ/2020-10-12.jpeg\n",
      "images/charts/france/dep-map-img-dc-journ/2020-10-13.jpeg\n"
     ]
    },
    {
     "name": "stderr",
     "output_type": "stream",
     "text": [
      "\n",
      " 73%|███████▎  | 22/30 [00:04<00:01,  4.80it/s]\u001b[A\n",
      " 77%|███████▋  | 23/30 [00:04<00:01,  4.88it/s]\u001b[A"
     ]
    },
    {
     "name": "stdout",
     "output_type": "stream",
     "text": [
      "images/charts/france/dep-map-img-dc-journ/2020-10-14.jpeg\n",
      "images/charts/france/dep-map-img-dc-journ/2020-10-16.jpeg\n"
     ]
    },
    {
     "name": "stderr",
     "output_type": "stream",
     "text": [
      "\n",
      " 80%|████████  | 24/30 [00:04<00:01,  4.96it/s]\u001b[A\n",
      " 83%|████████▎ | 25/30 [00:04<00:00,  5.18it/s]\u001b[A"
     ]
    },
    {
     "name": "stdout",
     "output_type": "stream",
     "text": [
      "images/charts/france/dep-map-img-dc-journ/2020-10-17.jpeg\n",
      "images/charts/france/dep-map-img-dc-journ/2020-10-18.jpeg\n"
     ]
    },
    {
     "name": "stderr",
     "output_type": "stream",
     "text": [
      "\n",
      " 87%|████████▋ | 26/30 [00:05<00:00,  5.51it/s]\u001b[A"
     ]
    },
    {
     "name": "stdout",
     "output_type": "stream",
     "text": [
      "images/charts/france/dep-map-img-dc-journ/2020-10-19.jpeg\n"
     ]
    },
    {
     "name": "stderr",
     "output_type": "stream",
     "text": [
      "\n",
      " 90%|█████████ | 27/30 [00:05<00:00,  5.27it/s]\u001b[A"
     ]
    },
    {
     "name": "stdout",
     "output_type": "stream",
     "text": [
      "images/charts/france/dep-map-img-dc-journ/2020-10-20.jpeg\n"
     ]
    },
    {
     "name": "stderr",
     "output_type": "stream",
     "text": [
      "\n",
      " 93%|█████████▎| 28/30 [00:05<00:00,  4.73it/s]\u001b[A"
     ]
    },
    {
     "name": "stdout",
     "output_type": "stream",
     "text": [
      "images/charts/france/dep-map-img-dc-journ/2020-10-21.jpeg\n"
     ]
    },
    {
     "name": "stderr",
     "output_type": "stream",
     "text": [
      "\n",
      " 97%|█████████▋| 29/30 [00:05<00:00,  4.63it/s]\u001b[A"
     ]
    },
    {
     "name": "stdout",
     "output_type": "stream",
     "text": [
      "images/charts/france/dep-map-img-dc-journ/2020-10-22.jpeg\n"
     ]
    },
    {
     "name": "stderr",
     "output_type": "stream",
     "text": [
      "\n",
      "100%|██████████| 30/30 [00:08<00:00,  3.70it/s]\u001b[A\n"
     ]
    }
   ],
   "source": [
    "dep_map_incidence()\n",
    "dep_map()\n",
    "#dep_map_dc_cum()\n",
    "dep_map_dc_journ()"
   ]
  },
  {
   "cell_type": "code",
   "execution_count": 18,
   "metadata": {},
   "outputs": [
    {
     "data": {
      "text/plain": [
       "'\\n# INSEE\\n# GIF mortalité par rapport à 2018 et 2019\\nimgs_folder = \"images/charts/france/dep-map-surmortalite-img/{}.png\"\\nppl = \"surmortalite20\"\\nsub = \\'Comparaison de la <b>mortalité journalière</b> entre 2020 <br>et les deux années précédentes.\\'\\nmap_gif(dates_insee, imgs_folder, df = df_insee.dropna(), type_ppl = ppl, legend_title=\"Sur-mortalité (%)\", min_scale=-50, max_scale=50, colorscale = [\"green\", \"white\", \"red\"], subtitle = sub)\\nbuild_gif(file_gif = \"images/charts/france/dep-map-surmortalite.gif\", imgs_folder = imgs_folder, dates=dates_insee)'"
      ]
     },
     "execution_count": 18,
     "metadata": {},
     "output_type": "execute_result"
    }
   ],
   "source": [
    "\"\"\"\n",
    "# INSEE\n",
    "# GIF mortalité par rapport à 2018 et 2019\n",
    "imgs_folder = \"images/charts/france/dep-map-surmortalite-img/{}.png\"\n",
    "ppl = \"surmortalite20\"\n",
    "sub = 'Comparaison de la <b>mortalité journalière</b> entre 2020 <br>et les deux années précédentes.'\n",
    "map_gif(dates_insee, imgs_folder, df = df_insee.dropna(), type_ppl = ppl, legend_title=\"Sur-mortalité (%)\", min_scale=-50, max_scale=50, colorscale = [\"green\", \"white\", \"red\"], subtitle = sub)\n",
    "build_gif(file_gif = \"images/charts/france/dep-map-surmortalite.gif\", imgs_folder = imgs_folder, dates=dates_insee)\"\"\""
   ]
  },
  {
   "cell_type": "code",
   "execution_count": 19,
   "metadata": {},
   "outputs": [
    {
     "data": {
      "text/plain": [
       "'# Line chart évolution de la mortalité\\n\\nimport plotly.graph_objects as go\\nimport plotly\\nfig = go.Figure()\\n\\nfig.add_trace(go.Scatter(\\n    x = df_insee_france[\"jour\"],\\n    y = df_insee_france[\"surmortalite20\"],\\n    name = \"Bilan autre hosp\",\\n    marker_color=\\'black\\',\\n    mode=\"lines+markers\",\\n    opacity=1\\n))\\n\\n\\n# Here we modify the tickangle of the xaxis, resulting in rotated labels.\\nfig.update_layout(\\n    legend_orientation=\"v\",\\n    barmode=\\'relative\\',\\n    title={\\n                \\'text\\': \"Variation de la <b>mortalité en mars 2020</b> par rapport à 2018 et 2019\",\\n                \\'y\\':0.95,\\n                \\'x\\':0.5,\\n                \\'xanchor\\': \\'center\\',\\n                \\'yanchor\\': \\'top\\'},\\n                titlefont = dict(\\n                size=20),\\n    xaxis=dict(\\n        title=\\'\\',\\n        tickformat=\\'%d/%m\\'),\\n    yaxis_title=\"Surmortalité (%)\",\\n    \\n    annotations = [\\n                dict(\\n                    x=0,\\n                    y=1.05,\\n                    xref=\\'paper\\',\\n                    yref=\\'paper\\',\\n                    text=\\'Date : {}. Source : INSEE et CSSE. Auteur : @guillaumerozier (Twitter).\\'.format(datetime.strptime(dates[-1], \\'%Y-%m-%d\\').strftime(\\'%d %B %Y\\')),                    showarrow = False\\n                )]\\n                 )\\n\\nfig.update_layout(\\n    yaxis = go.layout.YAxis(\\n        tickformat = \\'%\\'\\n    ),\\n    annotations = [\\n                dict(\\n                    x=0.5,\\n                    y=1.05,\\n                    xref=\\'paper\\',\\n                    yref=\\'paper\\',\\n                    xanchor=\\'center\\',\\n                    text=\\'\\',\\n                    showarrow = False\\n                )]\\n                 )\\n\\nname_fig = \"insee_surmortalite\"\\nfig.write_image(\"images/charts/france/{}.png\".format(name_fig), scale=2, width=1200, height=800)\\nplotly.offline.plot(fig, filename = \\'images/html_exports/france/{}.html\\'.format(name_fig), auto_open=False)\\nprint(\"> \" + name_fig)\\n\\nfig.show()'"
      ]
     },
     "execution_count": 19,
     "metadata": {},
     "output_type": "execute_result"
    }
   ],
   "source": [
    "\"\"\"# Line chart évolution de la mortalité\n",
    "\n",
    "import plotly.graph_objects as go\n",
    "import plotly\n",
    "fig = go.Figure()\n",
    "\n",
    "fig.add_trace(go.Scatter(\n",
    "    x = df_insee_france[\"jour\"],\n",
    "    y = df_insee_france[\"surmortalite20\"],\n",
    "    name = \"Bilan autre hosp\",\n",
    "    marker_color='black',\n",
    "    mode=\"lines+markers\",\n",
    "    opacity=1\n",
    "))\n",
    "\n",
    "\n",
    "# Here we modify the tickangle of the xaxis, resulting in rotated labels.\n",
    "fig.update_layout(\n",
    "    legend_orientation=\"v\",\n",
    "    barmode='relative',\n",
    "    title={\n",
    "                'text': \"Variation de la <b>mortalité en mars 2020</b> par rapport à 2018 et 2019\",\n",
    "                'y':0.95,\n",
    "                'x':0.5,\n",
    "                'xanchor': 'center',\n",
    "                'yanchor': 'top'},\n",
    "                titlefont = dict(\n",
    "                size=20),\n",
    "    xaxis=dict(\n",
    "        title='',\n",
    "        tickformat='%d/%m'),\n",
    "    yaxis_title=\"Surmortalité (%)\",\n",
    "    \n",
    "    annotations = [\n",
    "                dict(\n",
    "                    x=0,\n",
    "                    y=1.05,\n",
    "                    xref='paper',\n",
    "                    yref='paper',\n",
    "                    text='Date : {}. Source : INSEE et CSSE. Auteur : @guillaumerozier (Twitter).'.format(datetime.strptime(dates[-1], '%Y-%m-%d').strftime('%d %B %Y')),                    showarrow = False\n",
    "                )]\n",
    "                 )\n",
    "\n",
    "fig.update_layout(\n",
    "    yaxis = go.layout.YAxis(\n",
    "        tickformat = '%'\n",
    "    ),\n",
    "    annotations = [\n",
    "                dict(\n",
    "                    x=0.5,\n",
    "                    y=1.05,\n",
    "                    xref='paper',\n",
    "                    yref='paper',\n",
    "                    xanchor='center',\n",
    "                    text='',\n",
    "                    showarrow = False\n",
    "                )]\n",
    "                 )\n",
    "\n",
    "name_fig = \"insee_surmortalite\"\n",
    "fig.write_image(\"images/charts/france/{}.png\".format(name_fig), scale=2, width=1200, height=800)\n",
    "plotly.offline.plot(fig, filename = 'images/html_exports/france/{}.html'.format(name_fig), auto_open=False)\n",
    "print(\"> \" + name_fig)\n",
    "\n",
    "fig.show()\"\"\""
   ]
  }
 ],
 "metadata": {
  "kernelspec": {
   "display_name": "Python 3",
   "language": "python",
   "name": "python3"
  },
  "language_info": {
   "codemirror_mode": {
    "name": "ipython",
    "version": 3
   },
   "file_extension": ".py",
   "mimetype": "text/x-python",
   "name": "python",
   "nbconvert_exporter": "python",
   "pygments_lexer": "ipython3",
   "version": "3.7.4"
  }
 },
 "nbformat": 4,
 "nbformat_minor": 2
}

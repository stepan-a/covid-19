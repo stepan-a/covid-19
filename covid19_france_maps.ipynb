{
 "cells": [
  {
   "cell_type": "markdown",
   "metadata": {},
   "source": [
    "# COVID-19 French Maps\n",
    "Guillaume Rozier, 2020"
   ]
  },
  {
   "cell_type": "code",
   "execution_count": 1,
   "metadata": {},
   "outputs": [
    {
     "data": {
      "text/plain": [
       "\"\\n\\nLICENSE MIT\\n2020\\nGuillaume Rozier\\nWebsite : http://www.guillaumerozier.fr\\nMail : guillaume.rozier@telecomnancy.net\\n\\nREADME:s\\nThis file contains script that generate France maps and GIFs. \\nSingle images are exported to folders in 'charts/image/france'. GIFs are exported to 'charts/image/france'.\\nI'm currently cleaning this file, please ask me is something is not clear enough!\\nRequirements: please see the imports below (use pip3 to install them).\\n\\n\""
      ]
     },
     "execution_count": 1,
     "metadata": {},
     "output_type": "execute_result"
    }
   ],
   "source": [
    "\"\"\"\n",
    "\n",
    "LICENSE MIT\n",
    "2020\n",
    "Guillaume Rozier\n",
    "Website : http://www.guillaumerozier.fr\n",
    "Mail : guillaume.rozier@telecomnancy.net\n",
    "\n",
    "README:s\n",
    "This file contains script that generate France maps and GIFs. \n",
    "Single images are exported to folders in 'charts/image/france'. GIFs are exported to 'charts/image/france'.\n",
    "I'm currently cleaning this file, please ask me is something is not clear enough!\n",
    "Requirements: please see the imports below (use pip3 to install them).\n",
    "\n",
    "\"\"\""
   ]
  },
  {
   "cell_type": "code",
   "execution_count": 2,
   "metadata": {},
   "outputs": [
    {
     "data": {
      "text/plain": [
       "'fr_FR.UTF-8'"
      ]
     },
     "execution_count": 2,
     "metadata": {},
     "output_type": "execute_result"
    }
   ],
   "source": [
    "import france_data_management as data\n",
    "import pandas as pd\n",
    "from tqdm import tqdm\n",
    "import json\n",
    "import plotly.express as px\n",
    "from datetime import datetime\n",
    "import imageio\n",
    "import multiprocessing\n",
    "import locale\n",
    "import shutil\n",
    "import os\n",
    "locale.setlocale(locale.LC_ALL, 'fr_FR.UTF-8')\n"
   ]
  },
  {
   "cell_type": "markdown",
   "metadata": {},
   "source": [
    "## Data import"
   ]
  },
  {
   "cell_type": "code",
   "execution_count": 3,
   "metadata": {},
   "outputs": [
    {
     "name": "stderr",
     "output_type": "stream",
     "text": [
      "  0%|          | 0/4 [00:00<?, ?it/s]/Users/guillaumerozier/opt/anaconda3/lib/python3.7/site-packages/IPython/core/interactiveshell.py:3249: DtypeWarning:\n",
      "\n",
      "Columns (0) have mixed types. Specify dtype option on import or set low_memory=False.\n",
      "\n",
      " 75%|███████▌  | 3/4 [00:02<00:00,  1.48it/s]"
     ]
    },
    {
     "name": "stdout",
     "output_type": "stream",
     "text": [
      "       dep        jour        pop     P  cl_age90 departmentCode  \\\n",
      "123750  75  2020-05-13   198578.0     0         9             75   \n",
      "123751  75  2020-05-13   208074.0     0        19             75   \n",
      "123752  75  2020-05-13   386230.0     6        29             75   \n",
      "123753  75  2020-05-13   332595.0     2        39             75   \n",
      "123754  75  2020-05-13   277369.0     2        49             75   \n",
      "...     ..         ...        ...   ...       ...            ...   \n",
      "125395  75  2020-10-09   213755.0    97        69             75   \n",
      "125396  75  2020-10-09   163119.0    49        79             75   \n",
      "125397  75  2020-10-09    82607.0    21        89             75   \n",
      "125398  75  2020-10-09    26637.0     9        90             75   \n",
      "125399  75  2020-10-09  2148271.0  1349         0             75   \n",
      "\n",
      "       departmentName  regionCode     regionName     T   incidence  \\\n",
      "123750          Paris        11.0  Ile-de-France  1450         NaN   \n",
      "123751          Paris        11.0  Ile-de-France  1450         NaN   \n",
      "123752          Paris        11.0  Ile-de-France  1450         NaN   \n",
      "123753          Paris        11.0  Ile-de-France  1450         NaN   \n",
      "123754          Paris        11.0  Ile-de-France  1450         NaN   \n",
      "...               ...         ...            ...   ...         ...   \n",
      "125395          Paris        11.0  Ile-de-France  9126  306.425581   \n",
      "125396          Paris        11.0  Ile-de-France  9126  169.201626   \n",
      "125397          Paris        11.0  Ile-de-France  9126  164.634958   \n",
      "125398          Paris        11.0  Ile-de-France  9126  150.167061   \n",
      "125399          Paris        11.0  Ile-de-France  9126  413.169474   \n",
      "\n",
      "         incidence_color  \n",
      "123750     Risque Faible  \n",
      "123751     Risque Faible  \n",
      "123752     Risque Faible  \n",
      "123753     Risque Faible  \n",
      "123754     Risque Faible  \n",
      "...                  ...  \n",
      "125395   Alerte Maximale  \n",
      "125396  Alerte Renforcée  \n",
      "125397  Alerte Renforcée  \n",
      "125398  Alerte Renforcée  \n",
      "125399   Alerte Maximale  \n",
      "\n",
      "[1650 rows x 12 columns]\n"
     ]
    }
   ],
   "source": [
    "# Import data from Santé publique France\n",
    "df, df_confirmed, dates, _, _, df_deconf, df_sursaud, df_incid, _ = data.import_data()\n",
    "df_incid = df_incid[df_incid[\"cl_age90\"] == 0]"
   ]
  },
  {
   "cell_type": "code",
   "execution_count": 4,
   "metadata": {},
   "outputs": [],
   "source": [
    "#df_incid[\"incidence\"] = df_incid[\"P\"]/df_incid[\"pop\"]*100\n",
    "#df_incid.loc[:,\"incidence_color\"] = [\"white\"] * len(df_incid)\n",
    "for dep in pd.unique(df_incid[\"dep\"].values):\n",
    "    df_incid.loc[df_incid[\"dep\"] == dep,\"incidence\"] = df_incid[\"P\"].rolling(window=7).sum()/df_incid[\"pop\"]*100000\n",
    "df_incid.loc[:,\"incidence_color\"] = ['Rouge (>50)' if x >= 50 else 'Orange (25-50)' if x >= 25 else 'Vert (<25)' for x in df_incid['incidence']]"
   ]
  },
  {
   "cell_type": "code",
   "execution_count": 5,
   "metadata": {},
   "outputs": [
    {
     "data": {
      "text/plain": [
       "'# Download and import data from INSEE\\ndict_insee = pd.read_excel(\\'data/france/deces_quotidiens_departement.xlsx\\', header=[3], index_col=None, sheet_name=None, usecols=\\'A:H\\', nrows=44)\\ndict_insee.pop(\\'France\\')\\ndict_insee.pop(\\'Documentation\\')\\n\\nfor key in dict_insee:\\n    dict_insee[key][\"dep\"] = [key for i in range(len(dict_insee[key]))]\\n    \\ndf_insee = pd.concat(dict_insee)\\ndf_insee = df_insee.rename(columns={\"Ensemble des communes\": \"dc20\", \"Ensemble des communes.1\": \"dc19\", \"Ensemble des communes.2\": \"dc18\", \"Date d\\'événement\": \"jour\"})\\ndf_insee = df_insee.drop(columns=[\\'Communes à envoi dématérialisé au 1er avril 2020 (1)\\', \\'Communes à envoi dématérialisé au 1er avril 2020 (1)\\', \\'Communes à envoi dématérialisé au 1er avril 2020 (1)\\', \\'Unnamed: 7\\'])\\ndf_insee[\"moy1819\"] = (df_insee[\"dc19\"] + df_insee[\"dc20\"])/2\\ndf_insee[\"surmortalite20\"] = (df_insee[\"dc20\"] - df_insee[\"moy1819\"])/df_insee[\"moy1819\"]*100\\ndf_insee[\\'jour\\'] = pd.to_datetime(df_insee[\\'jour\\'])\\ndf_insee[\\'jour\\'] = df_insee[\\'jour\\'].dt.strftime(\\'%Y-%m-%d\\')\\n\\ndates_insee = list(dict.fromkeys(list(df_insee.dropna()[\\'jour\\'].values))) '"
      ]
     },
     "execution_count": 5,
     "metadata": {},
     "output_type": "execute_result"
    }
   ],
   "source": [
    "\"\"\"# Download and import data from INSEE\n",
    "dict_insee = pd.read_excel('data/france/deces_quotidiens_departement.xlsx', header=[3], index_col=None, sheet_name=None, usecols='A:H', nrows=44)\n",
    "dict_insee.pop('France')\n",
    "dict_insee.pop('Documentation')\n",
    "\n",
    "for key in dict_insee:\n",
    "    dict_insee[key][\"dep\"] = [key for i in range(len(dict_insee[key]))]\n",
    "    \n",
    "df_insee = pd.concat(dict_insee)\n",
    "df_insee = df_insee.rename(columns={\"Ensemble des communes\": \"dc20\", \"Ensemble des communes.1\": \"dc19\", \"Ensemble des communes.2\": \"dc18\", \"Date d'événement\": \"jour\"})\n",
    "df_insee = df_insee.drop(columns=['Communes à envoi dématérialisé au 1er avril 2020 (1)', 'Communes à envoi dématérialisé au 1er avril 2020 (1)', 'Communes à envoi dématérialisé au 1er avril 2020 (1)', 'Unnamed: 7'])\n",
    "df_insee[\"moy1819\"] = (df_insee[\"dc19\"] + df_insee[\"dc20\"])/2\n",
    "df_insee[\"surmortalite20\"] = (df_insee[\"dc20\"] - df_insee[\"moy1819\"])/df_insee[\"moy1819\"]*100\n",
    "df_insee['jour'] = pd.to_datetime(df_insee['jour'])\n",
    "df_insee['jour'] = df_insee['jour'].dt.strftime('%Y-%m-%d')\n",
    "\n",
    "dates_insee = list(dict.fromkeys(list(df_insee.dropna()['jour'].values))) \"\"\""
   ]
  },
  {
   "cell_type": "code",
   "execution_count": 6,
   "metadata": {},
   "outputs": [
    {
     "data": {
      "text/plain": [
       "'df_insee_france = df_insee.groupby(\\'jour\\').sum().reset_index()\\ndf_insee_france[\"surmortalite20\"] = (df_insee_france[\"dc20\"] - df_insee_france[\"moy1819\"])/df_insee_france[\"moy1819\"]'"
      ]
     },
     "execution_count": 6,
     "metadata": {},
     "output_type": "execute_result"
    }
   ],
   "source": [
    "\"\"\"df_insee_france = df_insee.groupby('jour').sum().reset_index()\n",
    "df_insee_france[\"surmortalite20\"] = (df_insee_france[\"dc20\"] - df_insee_france[\"moy1819\"])/df_insee_france[\"moy1819\"]\"\"\""
   ]
  },
  {
   "cell_type": "markdown",
   "metadata": {},
   "source": [
    "<br>\n",
    "<br>\n",
    "\n",
    "## Function definition"
   ]
  },
  {
   "cell_type": "code",
   "execution_count": 7,
   "metadata": {},
   "outputs": [],
   "source": [
    "with open('data/france/dep.geojson') as response:\n",
    "    depa = json.load(response)"
   ]
  },
  {
   "cell_type": "code",
   "execution_count": 8,
   "metadata": {},
   "outputs": [],
   "source": [
    "\n",
    "def map_gif(dates, imgs_folder, df, type_ppl, legend_title, min_scale, max_scale, colorscale, subtitle):\n",
    "    try:\n",
    "        shutil.rmtree(imgs_folder)\n",
    "    except:\n",
    "        print(\"folder not removed\")\n",
    "    os.mkdir(imgs_folder)\n",
    "    i=1\n",
    "    \n",
    "    df = df[df['jour'].isin(dates)]\n",
    "    \n",
    "    for date in tqdm(dates):\n",
    "        if max_scale == -1:\n",
    "            max_scale = df[type_ppl].max()\n",
    "        df_map = pd.melt(df, id_vars=['jour','dep'], value_vars=[type_ppl])\n",
    "        df_map = df_map[df_map[\"jour\"] == date]\n",
    "\n",
    "        fig = px.choropleth(geojson=depa, \n",
    "                            locations=df_map['dep'], \n",
    "                            color=df_map['value'],\n",
    "                            color_continuous_scale = colorscale,\n",
    "                            range_color=(min_scale, max_scale),\n",
    "                            featureidkey=\"properties.code\",\n",
    "                            scope='europe',\n",
    "                            labels={'color':legend_title}\n",
    "                                  )\n",
    "        date_title = datetime.strptime(date, '%Y-%m-%d').strftime('%d %B')\n",
    "        \n",
    "        fig.update_geos(fitbounds=\"locations\", visible=False)\n",
    "        \n",
    "        var_hab = 'pour 100k. hab.'\n",
    "        pourcent = ''\n",
    "        \n",
    "        val_mean = round(df_map['value'].mean(), 1)\n",
    "        \n",
    "        n = len(dates)\n",
    "        progression = round((i / n) * 50)\n",
    "        progressbar = progression * '█' + (50 - progression) * '░'\n",
    "        i += 1\n",
    "        \n",
    "        if type_ppl == 'surmortalite20':\n",
    "            var_hab = ''\n",
    "            pourcent = \" %\"\n",
    "            if val_mean < 0:\n",
    "                val_mean = \"– \" + str(abs(val_mean))\n",
    "            else:\n",
    "                val_mean = \"+ \" + str(val_mean)\n",
    "                \n",
    "        val_mean = str(val_mean).replace(\".\", \",\")\n",
    "        \n",
    "        fig.update_layout(\n",
    "            margin={\"r\":0,\"t\":0,\"l\":0,\"b\":0},\n",
    "            title={\n",
    "            'text': \"{}\".format(date_title),\n",
    "            'y':0.95,\n",
    "            'x':0.5,\n",
    "            'xanchor': 'center',\n",
    "            'yanchor': 'top'},\n",
    "            titlefont = dict(\n",
    "            size=30),\n",
    "            annotations = [\n",
    "                dict(\n",
    "                    x=0.54,\n",
    "                    y=0.08,\n",
    "                    xref='paper',\n",
    "                    yref='paper',\n",
    "                    xanchor = 'center',\n",
    "                    text='Source : Santé publique France. Auteur : @guillaumerozier - CovidTracker.fr',\n",
    "                    showarrow = False\n",
    "                ),\n",
    "                dict(\n",
    "                    x=0.54,\n",
    "                    y=0.03,\n",
    "                    xref = 'paper',\n",
    "                    yref = 'paper',\n",
    "                    text = progressbar,\n",
    "                    xanchor = 'center',\n",
    "                    showarrow = False,\n",
    "                    font=dict(\n",
    "                        size=9\n",
    "                            )\n",
    "                ),\n",
    "                dict(\n",
    "                    x=0.07,\n",
    "                    y=0.47,\n",
    "                    xref='paper',\n",
    "                    yref='paper',\n",
    "                    xanchor='left',\n",
    "                    text='Moyenne France',\n",
    "                    showarrow = False,\n",
    "                    font=dict(\n",
    "                        size=14\n",
    "                            )\n",
    "                ),\n",
    "                dict(\n",
    "                    x=0.07,\n",
    "                    y=0.50,\n",
    "                    xref='paper',\n",
    "                    yref='paper',\n",
    "                    xanchor='left',\n",
    "                    text='{}{}'.format(val_mean, pourcent),\n",
    "                    showarrow = False,\n",
    "                    font=dict(\n",
    "                        size=25\n",
    "                            )\n",
    "                ),\n",
    "                \n",
    "                dict(\n",
    "                    x=0.07,\n",
    "                    y=0.45,\n",
    "                    xref='paper',\n",
    "                    yref='paper',\n",
    "                    xanchor='left',\n",
    "                    text = var_hab,\n",
    "                    showarrow = False,\n",
    "                    font=dict(\n",
    "                        size=14\n",
    "                            )\n",
    "                ),\n",
    "                dict(\n",
    "                    x=0.55,\n",
    "                    y=0.9,\n",
    "                    xref='paper',\n",
    "                    yref='paper',\n",
    "                    text=subtitle,\n",
    "                    showarrow = False,\n",
    "                    font=dict(\n",
    "                        size=20\n",
    "                            )\n",
    "                )]\n",
    "             ) \n",
    "        \n",
    "        fig.update_geos(\n",
    "            #center=dict(lon=-30, lat=-30),\n",
    "            projection_rotation=dict(lon=12, lat=30, roll=8),\n",
    "            #lataxis_range=[-50,20], lonaxis_range=[0, 200]\n",
    "        )\n",
    "        fig.write_image((imgs_folder+\"/{}.jpeg\").format(date), scale=1, width=900, height=700)\n",
    "    return max_scale\n",
    "\n",
    "def build_gif(file_gif, imgs_folder, dates):\n",
    "    i=0\n",
    "    with imageio.get_writer(file_gif, mode='I', duration=0.3) as writer: \n",
    "        for date in tqdm(dates):\n",
    "            print((imgs_folder+\"/{}.jpeg\").format(date))\n",
    "            image = imageio.imread((imgs_folder+\"/{}.jpeg\").format(date))\n",
    "            writer.append_data(image)\n",
    "            i+=1\n",
    "            if i==len(dates):\n",
    "                for k in range(8):\n",
    "                    writer.append_data(image)"
   ]
  },
  {
   "cell_type": "code",
   "execution_count": 9,
   "metadata": {},
   "outputs": [],
   "source": [
    "#build_map(df_deconf, img_folder=\"images/charts/france/deconf_synthese/{}.png\", title=\"Départements déconfinés le 11/05\")\n"
   ]
  },
  {
   "cell_type": "code",
   "execution_count": 10,
   "metadata": {},
   "outputs": [],
   "source": [
    "def build_map_indic1(data_df, img_folder, legend_title=\"legend_title\", title=\"title\"):\n",
    "    dates_deconf = list(dict.fromkeys(list(data_df['date_de_passage'].values))) \n",
    "    date = dates_deconf[-1]\n",
    "    \n",
    "    data_df = data_df[data_df[\"date_de_passage\"] == date]\n",
    "    \n",
    "    fig = px.choropleth(geojson = depa, \n",
    "                        locations = data_df['dep'], \n",
    "                        featureidkey=\"properties.code\",\n",
    "                        color = data_df['taux_corona'],\n",
    "                        scope='europe',\n",
    "                        range_color=(0, 0.1),\n",
    "                        #labels={'red':\"Couleur\", 'orange':'bla', 'green':'lol'},\n",
    "                        #color_discrete_sequence = [\"green\", \"orange\", \"red\"],\n",
    "                        #color_discrete_map = {\"vert\":\"green\", \"orange\":\"orange\", \"rouge\":\"red\"}\n",
    "                        #category_orders = {\"indic_synthese\" :[\"vert\", \"orange\", \"rouge\"]}\n",
    "                              )\n",
    "    date_title = datetime.strptime(dates_deconf[-1], '%Y-%m-%d').strftime('%d %B')\n",
    "\n",
    "    fig.update_geos(fitbounds=\"locations\", visible=False)\n",
    "\n",
    "    fig.update_layout(\n",
    "        margin={\"r\":0,\"t\":20,\"l\":0,\"b\":0},\n",
    "        title={\n",
    "            'text': title,\n",
    "            'y':0.98,\n",
    "            'x':0.5,\n",
    "            'xanchor': 'center',\n",
    "            'yanchor': 'top'},\n",
    "        \n",
    "        titlefont = dict(\n",
    "            size=30),\n",
    "        \n",
    "        annotations = [\n",
    "            dict(\n",
    "                x=0.54,\n",
    "                y=0.03,\n",
    "                xref='paper',\n",
    "                yref='paper',\n",
    "                xanchor = 'center',\n",
    "                text='Source : Ministère de la Santé. Auteur : @guillaumerozier.',\n",
    "                showarrow = False\n",
    "            ),\n",
    "\n",
    "            dict(\n",
    "                x=0.55,\n",
    "                y=0.94,\n",
    "                xref='paper',\n",
    "                yref='paper',\n",
    "                text= \"Mis à jour le {}\".format(date_title),\n",
    "                showarrow = False,\n",
    "                font=dict(\n",
    "                    size=20\n",
    "                        )\n",
    "            )]\n",
    "         ) \n",
    "\n",
    "    fig.update_geos(\n",
    "        #center=dict(lon=-30, lat=-30),\n",
    "        projection_rotation=dict(lon=12, lat=30, roll=8),\n",
    "        #lataxis_range=[-50,20], lonaxis_range=[0, 200]\n",
    "    )\n",
    "    #fig.show()\n",
    "    if date == dates_deconf[-1]:\n",
    "        fig.write_image(img_folder.format(\"latest\"), scale=2, width=1200, height=800)\n",
    "    fig.write_image(img_folder.format(date), scale=2, width=1200, height=800)\n",
    "    \n"
   ]
  },
  {
   "cell_type": "code",
   "execution_count": 11,
   "metadata": {},
   "outputs": [
    {
     "data": {
      "text/plain": [
       "'df_sursaud = df_sursaud[df_sursaud[\"sursaud_cl_age_corona\"] == \"0\"]\\ndf_sursaud_gb = df_sursaud.groupby([\"dep\", \"date_de_passage\"]).rolling(window=7).sum().reset_index()\\n\\ndf_sursaud[\"taux_corona\"] = df_sursaud[\"nbre_pass_corona\"]/df_sursaud[\"nbre_pass_tot\"]\\ndf_sursaud[\"taux_corona\"] = df_sursaud[\"taux_corona\"].rolling(window=7).sum()\\n\\ndf_sursaud_gb[\"taux_corona\"] = df_sursaud_gb[\"nbre_pass_corona\"]/df_sursaud_gb[\"nbre_pass_tot\"]\\n'"
      ]
     },
     "execution_count": 11,
     "metadata": {},
     "output_type": "execute_result"
    }
   ],
   "source": [
    "\"\"\"df_sursaud = df_sursaud[df_sursaud[\"sursaud_cl_age_corona\"] == \"0\"]\n",
    "df_sursaud_gb = df_sursaud.groupby([\"dep\", \"date_de_passage\"]).rolling(window=7).sum().reset_index()\n",
    "\n",
    "df_sursaud[\"taux_corona\"] = df_sursaud[\"nbre_pass_corona\"]/df_sursaud[\"nbre_pass_tot\"]\n",
    "df_sursaud[\"taux_corona\"] = df_sursaud[\"taux_corona\"].rolling(window=7).sum()\n",
    "\n",
    "df_sursaud_gb[\"taux_corona\"] = df_sursaud_gb[\"nbre_pass_corona\"]/df_sursaud_gb[\"nbre_pass_tot\"]\n",
    "\"\"\"\n",
    "#build_map_indic1(df_sursaud_gb, img_folder=\"images/charts/france/deconf_indic1/{}.png\", title=\"Indic 1\")"
   ]
  },
  {
   "cell_type": "code",
   "execution_count": 12,
   "metadata": {},
   "outputs": [],
   "source": [
    "#df_sursaud_gb = df_sursaud.groupby([\"dep\"]).rolling(window=7, on=\"date_de_passage\").mean().reset_index()\n",
    "#df_sursaud_gb[\"date_de_passage\"] = df_sursaud[\"date_de_passage\"].values\n",
    "#df_sursaud_gb[df_sursaud_gb[\"dep\"]==\"01\"]\n",
    "#df_sursaud_gb\n"
   ]
  },
  {
   "cell_type": "markdown",
   "metadata": {},
   "source": [
    "<br>\n",
    "\n",
    "<br>\n",
    "\n",
    "<br>\n",
    "\n",
    "<br>\n",
    "\n",
    "## Function calls"
   ]
  },
  {
   "cell_type": "code",
   "execution_count": 13,
   "metadata": {},
   "outputs": [],
   "source": [
    "def dep_map():\n",
    "    # GIF carte nb réanimations par habitant\n",
    "    imgs_folder = \"images/charts/france/dep-map-img\"\n",
    "    sub = 'Nombre de <b>personnes en réanimation</b> <br>par habitant de chaque département.'\n",
    "    map_gif(dates[-30:], imgs_folder, df = df, type_ppl = \"rea_deppop\", legend_title=\"réan./100k hab\", min_scale = 0, max_scale=-1, colorscale =\"Reds\", subtitle=sub)\n",
    "    build_gif(file_gif = \"images/charts/france/dep-map.gif\", imgs_folder = \"images/charts/france/dep-map-img\", dates=dates[-30:])"
   ]
  },
  {
   "cell_type": "code",
   "execution_count": 14,
   "metadata": {},
   "outputs": [],
   "source": [
    "def dep_map_dc_cum():\n",
    "    # GIF carte décès cumulés par habitant\n",
    "    imgs_folder = \"images/charts/france/dep-map-img-dc-cum\"\n",
    "    sub = 'Nombre de <b>décès cumulés</b> <br>par habitant de chaque département.'\n",
    "    map_gif(dates[-30:], imgs_folder, df = df, type_ppl = \"dc_deppop\", legend_title=\"décès/100k hab\", min_scale = 0, max_scale=-1, colorscale =\"Reds\", subtitle=sub)\n",
    "    build_gif(file_gif = \"images/charts/france/dep-map-dc-cum.gif\", imgs_folder = \"images/charts/france/dep-map-img-dc-cum\", dates=dates[-30:])"
   ]
  },
  {
   "cell_type": "code",
   "execution_count": 15,
   "metadata": {},
   "outputs": [],
   "source": [
    "def dep_map_dc_journ():\n",
    "    # GIF carte décès quotidiens \n",
    "    imgs_folder = \"images/charts/france/dep-map-img-dc-journ\"\n",
    "    sub = 'Nombre de <b>décès quotidien</b> <br>par habitant de chaque département.'\n",
    "    map_gif(dates[-30:], imgs_folder, df = df, type_ppl = \"dc_new_deppop\", legend_title=\"décès/100k hab\", min_scale = 0, max_scale=-1, colorscale =\"Reds\", subtitle=sub)\n",
    "    build_gif(file_gif = \"images/charts/france/dep-map-dc-journ.gif\", imgs_folder = \"images/charts/france/dep-map-img-dc-journ\", dates=dates[-30:])"
   ]
  },
  {
   "cell_type": "code",
   "execution_count": 16,
   "metadata": {},
   "outputs": [],
   "source": [
    "def dep_map_incidence():\n",
    "    # GIF carte décès quotidiens \n",
    "    imgs_folder = \"images/charts/france/dep-map-incid\"\n",
    "    dates_incid = list(dict.fromkeys(list(df_incid.dropna()['jour'].values)))\n",
    "    dates_incid.sort()\n",
    "    \n",
    "    sub = '<b>Incidence</b> : nombre de cas hebdomadaires <br>pour 100 000 habitants'\n",
    "    map_gif(dates_incid[-30:], imgs_folder, df = df_incid, type_ppl = \"incidence\", legend_title=\"cas sur 7j/100k hab\", min_scale = 0, max_scale=-1, \\\n",
    "                                    colorscale = \"Reds\", subtitle=sub)\n",
    "    build_gif(file_gif = \"images/charts/france/dep-map-incid.gif\", imgs_folder = \"images/charts/france/dep-map-incid\", dates=dates_incid[-30:])"
   ]
  },
  {
   "cell_type": "code",
   "execution_count": 17,
   "metadata": {},
   "outputs": [
    {
     "name": "stderr",
     "output_type": "stream",
     "text": [
      "\n",
      "  0%|          | 0/30 [00:00<?, ?it/s]\u001b[A\n",
      "  3%|▎         | 1/30 [00:09<04:36,  9.54s/it]\u001b[A\n",
      "  7%|▋         | 2/30 [00:15<03:59,  8.55s/it]\u001b[A\n",
      " 10%|█         | 3/30 [00:21<03:27,  7.69s/it]\u001b[A\n",
      " 13%|█▎        | 4/30 [00:28<03:11,  7.36s/it]\u001b[A\n",
      " 17%|█▋        | 5/30 [00:33<02:51,  6.86s/it]\u001b[A\n",
      " 20%|██        | 6/30 [00:41<02:50,  7.11s/it]\u001b[A\n",
      " 23%|██▎       | 7/30 [00:49<02:47,  7.29s/it]\u001b[A\n",
      " 27%|██▋       | 8/30 [00:55<02:34,  7.04s/it]\u001b[A\n",
      " 30%|███       | 9/30 [01:01<02:19,  6.65s/it]\u001b[A\n",
      " 33%|███▎      | 10/30 [01:07<02:10,  6.54s/it]\u001b[A\n",
      " 37%|███▋      | 11/30 [01:14<02:07,  6.74s/it]\u001b[A\n",
      " 40%|████      | 12/30 [01:22<02:06,  7.03s/it]\u001b[A\n",
      " 43%|████▎     | 13/30 [01:28<01:54,  6.74s/it]\u001b[A\n",
      " 47%|████▋     | 14/30 [01:34<01:45,  6.60s/it]\u001b[A\n",
      " 50%|█████     | 15/30 [01:41<01:36,  6.46s/it]\u001b[A\n",
      " 53%|█████▎    | 16/30 [01:47<01:30,  6.47s/it]\u001b[A\n",
      " 57%|█████▋    | 17/30 [01:53<01:23,  6.40s/it]\u001b[A\n",
      " 60%|██████    | 18/30 [01:59<01:15,  6.31s/it]\u001b[A\n",
      " 63%|██████▎   | 19/30 [02:06<01:09,  6.30s/it]\u001b[A\n",
      " 67%|██████▋   | 20/30 [02:13<01:06,  6.67s/it]\u001b[A\n",
      " 70%|███████   | 21/30 [02:19<00:58,  6.50s/it]\u001b[A\n",
      " 73%|███████▎  | 22/30 [02:26<00:51,  6.44s/it]\u001b[A\n",
      " 77%|███████▋  | 23/30 [02:33<00:47,  6.72s/it]\u001b[A\n",
      " 80%|████████  | 24/30 [02:42<00:43,  7.30s/it]\u001b[A\n",
      " 83%|████████▎ | 25/30 [02:49<00:36,  7.29s/it]\u001b[A\n",
      " 87%|████████▋ | 26/30 [02:55<00:28,  7.03s/it]\u001b[A\n",
      " 90%|█████████ | 27/30 [03:03<00:21,  7.29s/it]\u001b[A\n",
      " 93%|█████████▎| 28/30 [03:09<00:13,  7.00s/it]\u001b[A\n",
      " 97%|█████████▋| 29/30 [03:15<00:06,  6.63s/it]\u001b[A\n",
      "100%|██████████| 30/30 [03:21<00:00,  6.72s/it]\u001b[A\n",
      "\n",
      "  0%|          | 0/30 [00:00<?, ?it/s]\u001b[A"
     ]
    },
    {
     "name": "stdout",
     "output_type": "stream",
     "text": [
      "images/charts/france/dep-map-incid/2020-09-10.jpeg\n"
     ]
    },
    {
     "name": "stderr",
     "output_type": "stream",
     "text": [
      "\n",
      "  3%|▎         | 1/30 [00:00<00:07,  4.14it/s]\u001b[A\n",
      "  7%|▋         | 2/30 [00:00<00:06,  4.35it/s]\u001b[A"
     ]
    },
    {
     "name": "stdout",
     "output_type": "stream",
     "text": [
      "images/charts/france/dep-map-incid/2020-09-11.jpeg\n",
      "images/charts/france/dep-map-incid/2020-09-12.jpeg\n"
     ]
    },
    {
     "name": "stderr",
     "output_type": "stream",
     "text": [
      "\n",
      " 10%|█         | 3/30 [00:00<00:06,  4.36it/s]\u001b[A\n",
      " 13%|█▎        | 4/30 [00:00<00:05,  4.57it/s]\u001b[A"
     ]
    },
    {
     "name": "stdout",
     "output_type": "stream",
     "text": [
      "images/charts/france/dep-map-incid/2020-09-13.jpeg\n",
      "images/charts/france/dep-map-incid/2020-09-14.jpeg\n"
     ]
    },
    {
     "name": "stderr",
     "output_type": "stream",
     "text": [
      "\n",
      " 17%|█▋        | 5/30 [00:01<00:05,  4.67it/s]\u001b[A\n",
      " 20%|██        | 6/30 [00:01<00:05,  4.74it/s]"
     ]
    },
    {
     "name": "stdout",
     "output_type": "stream",
     "text": [
      "images/charts/france/dep-map-incid/2020-09-15.jpeg\n"
     ]
    },
    {
     "name": "stderr",
     "output_type": "stream",
     "text": [
      "\u001b[A"
     ]
    },
    {
     "name": "stdout",
     "output_type": "stream",
     "text": [
      "images/charts/france/dep-map-incid/2020-09-16.jpeg\n"
     ]
    },
    {
     "name": "stderr",
     "output_type": "stream",
     "text": [
      "\n",
      " 23%|██▎       | 7/30 [00:01<00:04,  4.75it/s]\u001b[A"
     ]
    },
    {
     "name": "stdout",
     "output_type": "stream",
     "text": [
      "images/charts/france/dep-map-incid/2020-09-17.jpeg\n"
     ]
    },
    {
     "name": "stderr",
     "output_type": "stream",
     "text": [
      "\n",
      " 27%|██▋       | 8/30 [00:01<00:04,  4.69it/s]\u001b[A"
     ]
    },
    {
     "name": "stdout",
     "output_type": "stream",
     "text": [
      "images/charts/france/dep-map-incid/2020-09-18.jpeg\n"
     ]
    },
    {
     "name": "stderr",
     "output_type": "stream",
     "text": [
      "\n",
      " 30%|███       | 9/30 [00:01<00:05,  4.20it/s]\u001b[A"
     ]
    },
    {
     "name": "stdout",
     "output_type": "stream",
     "text": [
      "images/charts/france/dep-map-incid/2020-09-19.jpeg\n"
     ]
    },
    {
     "name": "stderr",
     "output_type": "stream",
     "text": [
      "\n",
      " 33%|███▎      | 10/30 [00:02<00:04,  4.13it/s]\u001b[A"
     ]
    },
    {
     "name": "stdout",
     "output_type": "stream",
     "text": [
      "images/charts/france/dep-map-incid/2020-09-20.jpeg\n"
     ]
    },
    {
     "name": "stderr",
     "output_type": "stream",
     "text": [
      "\n",
      " 37%|███▋      | 11/30 [00:02<00:04,  4.02it/s]\u001b[A"
     ]
    },
    {
     "name": "stdout",
     "output_type": "stream",
     "text": [
      "images/charts/france/dep-map-incid/2020-09-21.jpeg\n"
     ]
    },
    {
     "name": "stderr",
     "output_type": "stream",
     "text": [
      "\n",
      " 40%|████      | 12/30 [00:02<00:04,  3.79it/s]\u001b[A"
     ]
    },
    {
     "name": "stdout",
     "output_type": "stream",
     "text": [
      "images/charts/france/dep-map-incid/2020-09-22.jpeg\n"
     ]
    },
    {
     "name": "stderr",
     "output_type": "stream",
     "text": [
      "\n",
      " 43%|████▎     | 13/30 [00:03<00:04,  3.94it/s]\u001b[A"
     ]
    },
    {
     "name": "stdout",
     "output_type": "stream",
     "text": [
      "images/charts/france/dep-map-incid/2020-09-23.jpeg\n"
     ]
    },
    {
     "name": "stderr",
     "output_type": "stream",
     "text": [
      "\n",
      " 47%|████▋     | 14/30 [00:03<00:04,  3.69it/s]\u001b[A"
     ]
    },
    {
     "name": "stdout",
     "output_type": "stream",
     "text": [
      "images/charts/france/dep-map-incid/2020-09-24.jpeg\n"
     ]
    },
    {
     "name": "stderr",
     "output_type": "stream",
     "text": [
      "\n",
      " 50%|█████     | 15/30 [00:03<00:04,  3.75it/s]\u001b[A\n",
      " 53%|█████▎    | 16/30 [00:03<00:03,  4.06it/s]\u001b[A"
     ]
    },
    {
     "name": "stdout",
     "output_type": "stream",
     "text": [
      "images/charts/france/dep-map-incid/2020-09-25.jpeg\n",
      "images/charts/france/dep-map-incid/2020-09-26.jpeg\n"
     ]
    },
    {
     "name": "stderr",
     "output_type": "stream",
     "text": [
      "\n",
      " 57%|█████▋    | 17/30 [00:04<00:03,  3.88it/s]\u001b[A"
     ]
    },
    {
     "name": "stdout",
     "output_type": "stream",
     "text": [
      "images/charts/france/dep-map-incid/2020-09-27.jpeg\n"
     ]
    },
    {
     "name": "stderr",
     "output_type": "stream",
     "text": [
      "\n",
      " 60%|██████    | 18/30 [00:04<00:02,  4.14it/s]\u001b[A"
     ]
    },
    {
     "name": "stdout",
     "output_type": "stream",
     "text": [
      "images/charts/france/dep-map-incid/2020-09-28.jpeg\n"
     ]
    },
    {
     "name": "stderr",
     "output_type": "stream",
     "text": [
      "\n",
      " 63%|██████▎   | 19/30 [00:04<00:02,  4.19it/s]\u001b[A\n",
      " 67%|██████▋   | 20/30 [00:04<00:02,  4.45it/s]\u001b[A"
     ]
    },
    {
     "name": "stdout",
     "output_type": "stream",
     "text": [
      "images/charts/france/dep-map-incid/2020-09-29.jpeg\n",
      "images/charts/france/dep-map-incid/2020-09-30.jpeg\n"
     ]
    },
    {
     "name": "stderr",
     "output_type": "stream",
     "text": [
      "\n",
      " 70%|███████   | 21/30 [00:04<00:01,  4.80it/s]\u001b[A"
     ]
    },
    {
     "name": "stdout",
     "output_type": "stream",
     "text": [
      "images/charts/france/dep-map-incid/2020-10-01.jpeg\n"
     ]
    },
    {
     "name": "stderr",
     "output_type": "stream",
     "text": [
      "\n",
      " 73%|███████▎  | 22/30 [00:05<00:01,  4.83it/s]\u001b[A"
     ]
    },
    {
     "name": "stdout",
     "output_type": "stream",
     "text": [
      "images/charts/france/dep-map-incid/2020-10-02.jpeg\n"
     ]
    },
    {
     "name": "stderr",
     "output_type": "stream",
     "text": [
      "\n",
      " 77%|███████▋  | 23/30 [00:05<00:01,  4.38it/s]\u001b[A"
     ]
    },
    {
     "name": "stdout",
     "output_type": "stream",
     "text": [
      "images/charts/france/dep-map-incid/2020-10-03.jpeg\n"
     ]
    },
    {
     "name": "stderr",
     "output_type": "stream",
     "text": [
      "\n",
      " 80%|████████  | 24/30 [00:05<00:01,  4.22it/s]\u001b[A"
     ]
    },
    {
     "name": "stdout",
     "output_type": "stream",
     "text": [
      "images/charts/france/dep-map-incid/2020-10-04.jpeg\n"
     ]
    },
    {
     "name": "stderr",
     "output_type": "stream",
     "text": [
      "\n",
      " 83%|████████▎ | 25/30 [00:05<00:01,  4.29it/s]\u001b[A"
     ]
    },
    {
     "name": "stdout",
     "output_type": "stream",
     "text": [
      "images/charts/france/dep-map-incid/2020-10-05.jpeg\n"
     ]
    },
    {
     "name": "stderr",
     "output_type": "stream",
     "text": [
      "\n",
      " 87%|████████▋ | 26/30 [00:06<00:01,  3.57it/s]\u001b[A"
     ]
    },
    {
     "name": "stdout",
     "output_type": "stream",
     "text": [
      "images/charts/france/dep-map-incid/2020-10-06.jpeg\n"
     ]
    },
    {
     "name": "stderr",
     "output_type": "stream",
     "text": [
      "\n",
      " 90%|█████████ | 27/30 [00:06<00:00,  3.08it/s]\u001b[A"
     ]
    },
    {
     "name": "stdout",
     "output_type": "stream",
     "text": [
      "images/charts/france/dep-map-incid/2020-10-07.jpeg\n"
     ]
    },
    {
     "name": "stderr",
     "output_type": "stream",
     "text": [
      "\n",
      " 93%|█████████▎| 28/30 [00:06<00:00,  3.33it/s]\u001b[A"
     ]
    },
    {
     "name": "stdout",
     "output_type": "stream",
     "text": [
      "images/charts/france/dep-map-incid/2020-10-08.jpeg\n"
     ]
    },
    {
     "name": "stderr",
     "output_type": "stream",
     "text": [
      "\n",
      " 97%|█████████▋| 29/30 [00:07<00:00,  2.83it/s]\u001b[A"
     ]
    },
    {
     "name": "stdout",
     "output_type": "stream",
     "text": [
      "images/charts/france/dep-map-incid/2020-10-09.jpeg\n"
     ]
    },
    {
     "name": "stderr",
     "output_type": "stream",
     "text": [
      "\n",
      "100%|██████████| 30/30 [00:09<00:00,  3.21it/s]\u001b[A\n",
      "\n",
      "  0%|          | 0/30 [00:00<?, ?it/s]\u001b[A\n",
      "  3%|▎         | 1/30 [00:06<03:08,  6.52s/it]\u001b[A\n",
      "  7%|▋         | 2/30 [00:13<03:06,  6.67s/it]\u001b[A\n",
      " 10%|█         | 3/30 [00:22<03:16,  7.28s/it]\u001b[A\n",
      " 13%|█▎        | 4/30 [00:28<03:03,  7.06s/it]\u001b[A\n",
      " 17%|█▋        | 5/30 [00:34<02:48,  6.73s/it]\u001b[A\n",
      " 20%|██        | 6/30 [00:40<02:35,  6.49s/it]\u001b[A\n",
      " 23%|██▎       | 7/30 [00:47<02:30,  6.54s/it]\u001b[A\n",
      " 27%|██▋       | 8/30 [00:53<02:24,  6.55s/it]\u001b[A\n",
      " 30%|███       | 9/30 [01:00<02:17,  6.56s/it]\u001b[A\n",
      " 33%|███▎      | 10/30 [01:06<02:07,  6.36s/it]\u001b[A\n",
      " 37%|███▋      | 11/30 [01:12<02:00,  6.34s/it]\u001b[A\n",
      " 40%|████      | 12/30 [01:18<01:53,  6.32s/it]\u001b[A\n",
      " 43%|████▎     | 13/30 [01:24<01:45,  6.19s/it]\u001b[A\n",
      " 47%|████▋     | 14/30 [01:31<01:40,  6.25s/it]\u001b[A\n",
      " 50%|█████     | 15/30 [01:38<01:37,  6.53s/it]\u001b[A\n",
      " 53%|█████▎    | 16/30 [01:44<01:30,  6.46s/it]\u001b[A\n",
      " 57%|█████▋    | 17/30 [01:51<01:23,  6.43s/it]\u001b[A\n",
      " 60%|██████    | 18/30 [01:57<01:17,  6.49s/it]\u001b[A\n",
      " 63%|██████▎   | 19/30 [02:05<01:14,  6.77s/it]\u001b[A\n",
      " 67%|██████▋   | 20/30 [02:11<01:07,  6.79s/it]\u001b[A\n",
      " 70%|███████   | 21/30 [02:18<01:01,  6.78s/it]\u001b[A\n",
      " 73%|███████▎  | 22/30 [02:25<00:53,  6.65s/it]\u001b[A\n",
      " 77%|███████▋  | 23/30 [02:31<00:45,  6.51s/it]\u001b[A\n",
      " 80%|████████  | 24/30 [02:37<00:39,  6.51s/it]\u001b[A\n",
      " 83%|████████▎ | 25/30 [02:43<00:32,  6.42s/it]\u001b[A\n",
      " 87%|████████▋ | 26/30 [02:50<00:25,  6.32s/it]\u001b[A\n",
      " 90%|█████████ | 27/30 [02:56<00:19,  6.47s/it]\u001b[A\n",
      " 93%|█████████▎| 28/30 [03:05<00:13,  6.98s/it]\u001b[A\n",
      " 97%|█████████▋| 29/30 [03:14<00:07,  7.74s/it]\u001b[A\n",
      "100%|██████████| 30/30 [03:21<00:00,  6.72s/it]\u001b[A\n",
      "\n",
      "  0%|          | 0/30 [00:00<?, ?it/s]\u001b[A\n",
      "  3%|▎         | 1/30 [00:00<00:05,  5.42it/s]\u001b[A"
     ]
    },
    {
     "name": "stdout",
     "output_type": "stream",
     "text": [
      "images/charts/france/dep-map-img/2020-09-13.jpeg\n",
      "images/charts/france/dep-map-img/2020-09-14.jpeg\n"
     ]
    },
    {
     "name": "stderr",
     "output_type": "stream",
     "text": [
      "\n",
      "  7%|▋         | 2/30 [00:00<00:05,  4.81it/s]\u001b[A"
     ]
    },
    {
     "name": "stdout",
     "output_type": "stream",
     "text": [
      "images/charts/france/dep-map-img/2020-09-15.jpeg\n"
     ]
    },
    {
     "name": "stderr",
     "output_type": "stream",
     "text": [
      "\n",
      " 10%|█         | 3/30 [00:00<00:05,  4.62it/s]\u001b[A"
     ]
    },
    {
     "name": "stdout",
     "output_type": "stream",
     "text": [
      "images/charts/france/dep-map-img/2020-09-16.jpeg\n"
     ]
    },
    {
     "name": "stderr",
     "output_type": "stream",
     "text": [
      "\n",
      " 13%|█▎        | 4/30 [00:01<00:06,  4.03it/s]\u001b[A"
     ]
    },
    {
     "name": "stdout",
     "output_type": "stream",
     "text": [
      "images/charts/france/dep-map-img/2020-09-17.jpeg\n"
     ]
    },
    {
     "name": "stderr",
     "output_type": "stream",
     "text": [
      "\n",
      " 17%|█▋        | 5/30 [00:01<00:06,  3.70it/s]\u001b[A"
     ]
    },
    {
     "name": "stdout",
     "output_type": "stream",
     "text": [
      "images/charts/france/dep-map-img/2020-09-18.jpeg\n"
     ]
    },
    {
     "name": "stderr",
     "output_type": "stream",
     "text": [
      "\n",
      " 20%|██        | 6/30 [00:01<00:06,  3.53it/s]\u001b[A"
     ]
    },
    {
     "name": "stdout",
     "output_type": "stream",
     "text": [
      "images/charts/france/dep-map-img/2020-09-19.jpeg\n"
     ]
    },
    {
     "name": "stderr",
     "output_type": "stream",
     "text": [
      "\n",
      " 23%|██▎       | 7/30 [00:01<00:06,  3.78it/s]\u001b[A"
     ]
    },
    {
     "name": "stdout",
     "output_type": "stream",
     "text": [
      "images/charts/france/dep-map-img/2020-09-20.jpeg\n"
     ]
    },
    {
     "name": "stderr",
     "output_type": "stream",
     "text": [
      "\n",
      " 27%|██▋       | 8/30 [00:02<00:06,  3.45it/s]\u001b[A"
     ]
    },
    {
     "name": "stdout",
     "output_type": "stream",
     "text": [
      "images/charts/france/dep-map-img/2020-09-21.jpeg\n"
     ]
    },
    {
     "name": "stderr",
     "output_type": "stream",
     "text": [
      "\n",
      " 30%|███       | 9/30 [00:02<00:05,  3.58it/s]\u001b[A"
     ]
    },
    {
     "name": "stdout",
     "output_type": "stream",
     "text": [
      "images/charts/france/dep-map-img/2020-09-22.jpeg\n"
     ]
    },
    {
     "name": "stderr",
     "output_type": "stream",
     "text": [
      "\n",
      " 33%|███▎      | 10/30 [00:02<00:05,  3.73it/s]\u001b[A"
     ]
    },
    {
     "name": "stdout",
     "output_type": "stream",
     "text": [
      "images/charts/france/dep-map-img/2020-09-23.jpeg\n"
     ]
    },
    {
     "name": "stderr",
     "output_type": "stream",
     "text": [
      "\n",
      " 37%|███▋      | 11/30 [00:02<00:05,  3.64it/s]\u001b[A"
     ]
    },
    {
     "name": "stdout",
     "output_type": "stream",
     "text": [
      "images/charts/france/dep-map-img/2020-09-24.jpeg\n"
     ]
    },
    {
     "name": "stderr",
     "output_type": "stream",
     "text": [
      "\n",
      " 40%|████      | 12/30 [00:03<00:04,  3.69it/s]\u001b[A"
     ]
    },
    {
     "name": "stdout",
     "output_type": "stream",
     "text": [
      "images/charts/france/dep-map-img/2020-09-25.jpeg\n"
     ]
    },
    {
     "name": "stderr",
     "output_type": "stream",
     "text": [
      "\n",
      " 43%|████▎     | 13/30 [00:03<00:04,  3.56it/s]\u001b[A"
     ]
    },
    {
     "name": "stdout",
     "output_type": "stream",
     "text": [
      "images/charts/france/dep-map-img/2020-09-26.jpeg\n"
     ]
    },
    {
     "name": "stderr",
     "output_type": "stream",
     "text": [
      "\n",
      " 47%|████▋     | 14/30 [00:03<00:04,  3.44it/s]\u001b[A"
     ]
    },
    {
     "name": "stdout",
     "output_type": "stream",
     "text": [
      "images/charts/france/dep-map-img/2020-09-27.jpeg\n"
     ]
    },
    {
     "name": "stderr",
     "output_type": "stream",
     "text": [
      "\n",
      " 50%|█████     | 15/30 [00:04<00:04,  3.59it/s]\u001b[A"
     ]
    },
    {
     "name": "stdout",
     "output_type": "stream",
     "text": [
      "images/charts/france/dep-map-img/2020-09-28.jpeg\n"
     ]
    },
    {
     "name": "stderr",
     "output_type": "stream",
     "text": [
      "\n",
      " 53%|█████▎    | 16/30 [00:04<00:04,  2.90it/s]\u001b[A"
     ]
    },
    {
     "name": "stdout",
     "output_type": "stream",
     "text": [
      "images/charts/france/dep-map-img/2020-09-29.jpeg\n"
     ]
    },
    {
     "name": "stderr",
     "output_type": "stream",
     "text": [
      "\n",
      " 57%|█████▋    | 17/30 [00:04<00:03,  3.26it/s]\u001b[A"
     ]
    },
    {
     "name": "stdout",
     "output_type": "stream",
     "text": [
      "images/charts/france/dep-map-img/2020-09-30.jpeg\n"
     ]
    },
    {
     "name": "stderr",
     "output_type": "stream",
     "text": [
      "\n",
      " 60%|██████    | 18/30 [00:05<00:03,  3.43it/s]\u001b[A"
     ]
    },
    {
     "name": "stdout",
     "output_type": "stream",
     "text": [
      "images/charts/france/dep-map-img/2020-10-01.jpeg\n"
     ]
    },
    {
     "name": "stderr",
     "output_type": "stream",
     "text": [
      "\n",
      " 63%|██████▎   | 19/30 [00:05<00:03,  3.55it/s]\u001b[A"
     ]
    },
    {
     "name": "stdout",
     "output_type": "stream",
     "text": [
      "images/charts/france/dep-map-img/2020-10-02.jpeg\n"
     ]
    },
    {
     "name": "stderr",
     "output_type": "stream",
     "text": [
      "\n",
      " 67%|██████▋   | 20/30 [00:05<00:02,  3.70it/s]\u001b[A"
     ]
    },
    {
     "name": "stdout",
     "output_type": "stream",
     "text": [
      "images/charts/france/dep-map-img/2020-10-03.jpeg\n"
     ]
    },
    {
     "name": "stderr",
     "output_type": "stream",
     "text": [
      "\n",
      " 70%|███████   | 21/30 [00:05<00:02,  3.79it/s]\u001b[A"
     ]
    },
    {
     "name": "stdout",
     "output_type": "stream",
     "text": [
      "images/charts/france/dep-map-img/2020-10-04.jpeg\n"
     ]
    },
    {
     "name": "stderr",
     "output_type": "stream",
     "text": [
      "\n",
      " 73%|███████▎  | 22/30 [00:06<00:02,  3.01it/s]\u001b[A"
     ]
    },
    {
     "name": "stdout",
     "output_type": "stream",
     "text": [
      "images/charts/france/dep-map-img/2020-10-05.jpeg\n"
     ]
    },
    {
     "name": "stderr",
     "output_type": "stream",
     "text": [
      "\n",
      " 77%|███████▋  | 23/30 [00:06<00:02,  2.69it/s]\u001b[A"
     ]
    },
    {
     "name": "stdout",
     "output_type": "stream",
     "text": [
      "images/charts/france/dep-map-img/2020-10-06.jpeg\n"
     ]
    },
    {
     "name": "stderr",
     "output_type": "stream",
     "text": [
      "\n",
      " 80%|████████  | 24/30 [00:07<00:02,  2.78it/s]\u001b[A"
     ]
    },
    {
     "name": "stdout",
     "output_type": "stream",
     "text": [
      "images/charts/france/dep-map-img/2020-10-07.jpeg\n"
     ]
    },
    {
     "name": "stderr",
     "output_type": "stream",
     "text": [
      "\n",
      " 83%|████████▎ | 25/30 [00:07<00:02,  2.28it/s]\u001b[A"
     ]
    },
    {
     "name": "stdout",
     "output_type": "stream",
     "text": [
      "images/charts/france/dep-map-img/2020-10-08.jpeg\n"
     ]
    },
    {
     "name": "stderr",
     "output_type": "stream",
     "text": [
      "\n",
      " 87%|████████▋ | 26/30 [00:08<00:01,  2.35it/s]\u001b[A"
     ]
    },
    {
     "name": "stdout",
     "output_type": "stream",
     "text": [
      "images/charts/france/dep-map-img/2020-10-09.jpeg\n"
     ]
    },
    {
     "name": "stderr",
     "output_type": "stream",
     "text": [
      "\n",
      " 90%|█████████ | 27/30 [00:08<00:01,  2.53it/s]\u001b[A"
     ]
    },
    {
     "name": "stdout",
     "output_type": "stream",
     "text": [
      "images/charts/france/dep-map-img/2020-10-10.jpeg\n"
     ]
    },
    {
     "name": "stderr",
     "output_type": "stream",
     "text": [
      "\n",
      " 93%|█████████▎| 28/30 [00:08<00:00,  2.55it/s]\u001b[A"
     ]
    },
    {
     "name": "stdout",
     "output_type": "stream",
     "text": [
      "images/charts/france/dep-map-img/2020-10-11.jpeg\n"
     ]
    },
    {
     "name": "stderr",
     "output_type": "stream",
     "text": [
      "\n",
      " 97%|█████████▋| 29/30 [00:09<00:00,  2.92it/s]\u001b[A"
     ]
    },
    {
     "name": "stdout",
     "output_type": "stream",
     "text": [
      "images/charts/france/dep-map-img/2020-10-12.jpeg\n"
     ]
    },
    {
     "name": "stderr",
     "output_type": "stream",
     "text": [
      "\n",
      "100%|██████████| 30/30 [00:12<00:00,  2.50it/s]\u001b[A\n",
      "\n",
      "  0%|          | 0/30 [00:00<?, ?it/s]\u001b[A\n",
      "  3%|▎         | 1/30 [00:07<03:33,  7.35s/it]\u001b[A\n",
      "  7%|▋         | 2/30 [00:13<03:19,  7.12s/it]\u001b[A\n",
      " 10%|█         | 3/30 [00:20<03:08,  7.00s/it]\u001b[A\n",
      " 13%|█▎        | 4/30 [00:27<03:00,  6.93s/it]\u001b[A\n",
      " 17%|█▋        | 5/30 [00:37<03:14,  7.77s/it]\u001b[A\n",
      " 20%|██        | 6/30 [00:44<03:07,  7.79s/it]\u001b[A\n",
      " 23%|██▎       | 7/30 [00:52<02:59,  7.79s/it]\u001b[A\n",
      " 27%|██▋       | 8/30 [01:01<02:56,  8.01s/it]\u001b[A\n",
      " 30%|███       | 9/30 [01:10<02:55,  8.34s/it]\u001b[A\n",
      " 33%|███▎      | 10/30 [01:17<02:39,  7.99s/it]\u001b[A\n",
      " 37%|███▋      | 11/30 [01:25<02:28,  7.83s/it]\u001b[A\n",
      " 40%|████      | 12/30 [01:32<02:21,  7.86s/it]\u001b[A\n",
      " 43%|████▎     | 13/30 [01:40<02:10,  7.65s/it]\u001b[A\n",
      " 47%|████▋     | 14/30 [01:46<01:56,  7.30s/it]\u001b[A\n",
      " 50%|█████     | 15/30 [01:52<01:44,  6.99s/it]\u001b[A\n",
      " 53%|█████▎    | 16/30 [01:59<01:37,  6.93s/it]\u001b[A\n",
      " 57%|█████▋    | 17/30 [02:06<01:29,  6.87s/it]\u001b[A\n",
      " 60%|██████    | 18/30 [02:13<01:21,  6.80s/it]\u001b[A\n",
      " 63%|██████▎   | 19/30 [02:20<01:15,  6.89s/it]\u001b[A\n",
      " 67%|██████▋   | 20/30 [02:26<01:08,  6.88s/it]\u001b[A\n",
      " 70%|███████   | 21/30 [02:33<01:02,  6.89s/it]\u001b[A\n",
      " 73%|███████▎  | 22/30 [02:45<01:05,  8.18s/it]\u001b[A\n",
      " 77%|███████▋  | 23/30 [02:52<00:55,  7.89s/it]\u001b[A\n",
      " 80%|████████  | 24/30 [02:58<00:44,  7.45s/it]\u001b[A\n",
      " 83%|████████▎ | 25/30 [03:04<00:35,  7.01s/it]\u001b[A\n",
      " 87%|████████▋ | 26/30 [03:10<00:27,  6.78s/it]\u001b[A\n",
      " 90%|█████████ | 27/30 [03:18<00:20,  6.88s/it]\u001b[A\n",
      " 93%|█████████▎| 28/30 [03:25<00:13,  6.96s/it]\u001b[A\n",
      " 97%|█████████▋| 29/30 [03:31<00:06,  6.69s/it]\u001b[A\n",
      "100%|██████████| 30/30 [03:38<00:00,  7.29s/it]\u001b[A\n",
      "\n",
      "  0%|          | 0/30 [00:00<?, ?it/s]\u001b[A"
     ]
    },
    {
     "name": "stdout",
     "output_type": "stream",
     "text": [
      "images/charts/france/dep-map-img-dc-journ/2020-09-13.jpeg\n"
     ]
    },
    {
     "name": "stderr",
     "output_type": "stream",
     "text": [
      "\n",
      "  3%|▎         | 1/30 [00:00<00:06,  4.69it/s]\u001b[A"
     ]
    },
    {
     "name": "stdout",
     "output_type": "stream",
     "text": [
      "images/charts/france/dep-map-img-dc-journ/2020-09-14.jpeg\n"
     ]
    },
    {
     "name": "stderr",
     "output_type": "stream",
     "text": [
      "\n",
      "  7%|▋         | 2/30 [00:00<00:06,  4.12it/s]\u001b[A"
     ]
    },
    {
     "name": "stdout",
     "output_type": "stream",
     "text": [
      "images/charts/france/dep-map-img-dc-journ/2020-09-15.jpeg\n"
     ]
    },
    {
     "name": "stderr",
     "output_type": "stream",
     "text": [
      "\n",
      " 10%|█         | 3/30 [00:00<00:06,  4.09it/s]\u001b[A"
     ]
    },
    {
     "name": "stdout",
     "output_type": "stream",
     "text": [
      "images/charts/france/dep-map-img-dc-journ/2020-09-16.jpeg\n"
     ]
    },
    {
     "name": "stderr",
     "output_type": "stream",
     "text": [
      "\n",
      " 13%|█▎        | 4/30 [00:01<00:06,  3.91it/s]\u001b[A\n",
      " 17%|█▋        | 5/30 [00:01<00:05,  4.24it/s]\u001b[A"
     ]
    },
    {
     "name": "stdout",
     "output_type": "stream",
     "text": [
      "images/charts/france/dep-map-img-dc-journ/2020-09-17.jpeg\n",
      "images/charts/france/dep-map-img-dc-journ/2020-09-18.jpeg\n"
     ]
    },
    {
     "name": "stderr",
     "output_type": "stream",
     "text": [
      "\n",
      " 20%|██        | 6/30 [00:01<00:06,  3.87it/s]\u001b[A"
     ]
    },
    {
     "name": "stdout",
     "output_type": "stream",
     "text": [
      "images/charts/france/dep-map-img-dc-journ/2020-09-19.jpeg\n"
     ]
    },
    {
     "name": "stderr",
     "output_type": "stream",
     "text": [
      "\n",
      " 23%|██▎       | 7/30 [00:02<00:10,  2.25it/s]\u001b[A"
     ]
    },
    {
     "name": "stdout",
     "output_type": "stream",
     "text": [
      "images/charts/france/dep-map-img-dc-journ/2020-09-20.jpeg\n"
     ]
    },
    {
     "name": "stderr",
     "output_type": "stream",
     "text": [
      "\n",
      " 27%|██▋       | 8/30 [00:02<00:08,  2.50it/s]\u001b[A"
     ]
    },
    {
     "name": "stdout",
     "output_type": "stream",
     "text": [
      "images/charts/france/dep-map-img-dc-journ/2020-09-21.jpeg\n"
     ]
    },
    {
     "name": "stderr",
     "output_type": "stream",
     "text": [
      "\n",
      " 30%|███       | 9/30 [00:03<00:12,  1.71it/s]\u001b[A"
     ]
    },
    {
     "name": "stdout",
     "output_type": "stream",
     "text": [
      "images/charts/france/dep-map-img-dc-journ/2020-09-22.jpeg\n"
     ]
    },
    {
     "name": "stderr",
     "output_type": "stream",
     "text": [
      "\n",
      " 33%|███▎      | 10/30 [00:04<00:09,  2.01it/s]\u001b[A\n",
      " 37%|███▋      | 11/30 [00:04<00:07,  2.49it/s]\u001b[A"
     ]
    },
    {
     "name": "stdout",
     "output_type": "stream",
     "text": [
      "images/charts/france/dep-map-img-dc-journ/2020-09-23.jpeg\n",
      "images/charts/france/dep-map-img-dc-journ/2020-09-24.jpeg\n"
     ]
    },
    {
     "name": "stderr",
     "output_type": "stream",
     "text": [
      "\n",
      " 40%|████      | 12/30 [00:04<00:06,  2.90it/s]\u001b[A"
     ]
    },
    {
     "name": "stdout",
     "output_type": "stream",
     "text": [
      "images/charts/france/dep-map-img-dc-journ/2020-09-25.jpeg\n"
     ]
    },
    {
     "name": "stderr",
     "output_type": "stream",
     "text": [
      "\n",
      " 43%|████▎     | 13/30 [00:04<00:05,  3.25it/s]\u001b[A\n",
      " 47%|████▋     | 14/30 [00:04<00:04,  3.71it/s]\u001b[A"
     ]
    },
    {
     "name": "stdout",
     "output_type": "stream",
     "text": [
      "images/charts/france/dep-map-img-dc-journ/2020-09-26.jpeg\n",
      "images/charts/france/dep-map-img-dc-journ/2020-09-27.jpeg\n"
     ]
    },
    {
     "name": "stderr",
     "output_type": "stream",
     "text": [
      "\n",
      " 50%|█████     | 15/30 [00:05<00:03,  4.13it/s]\u001b[A\n",
      " 53%|█████▎    | 16/30 [00:05<00:02,  4.69it/s]\u001b[A"
     ]
    },
    {
     "name": "stdout",
     "output_type": "stream",
     "text": [
      "images/charts/france/dep-map-img-dc-journ/2020-09-28.jpeg\n",
      "images/charts/france/dep-map-img-dc-journ/2020-09-29.jpeg\n"
     ]
    },
    {
     "name": "stderr",
     "output_type": "stream",
     "text": [
      "\n",
      " 57%|█████▋    | 17/30 [00:05<00:02,  4.91it/s]\u001b[A"
     ]
    },
    {
     "name": "stdout",
     "output_type": "stream",
     "text": [
      "images/charts/france/dep-map-img-dc-journ/2020-09-30.jpeg\n"
     ]
    },
    {
     "name": "stderr",
     "output_type": "stream",
     "text": [
      "\n",
      " 60%|██████    | 18/30 [00:05<00:03,  3.99it/s]\u001b[A\n",
      " 63%|██████▎   | 19/30 [00:05<00:02,  4.18it/s]\u001b[A"
     ]
    },
    {
     "name": "stdout",
     "output_type": "stream",
     "text": [
      "images/charts/france/dep-map-img-dc-journ/2020-10-01.jpeg\n",
      "images/charts/france/dep-map-img-dc-journ/2020-10-02.jpeg\n"
     ]
    },
    {
     "name": "stderr",
     "output_type": "stream",
     "text": [
      "\n",
      " 67%|██████▋   | 20/30 [00:06<00:02,  4.67it/s]\u001b[A\n",
      " 70%|███████   | 21/30 [00:06<00:01,  5.14it/s]\u001b[A"
     ]
    },
    {
     "name": "stdout",
     "output_type": "stream",
     "text": [
      "images/charts/france/dep-map-img-dc-journ/2020-10-03.jpeg\n",
      "images/charts/france/dep-map-img-dc-journ/2020-10-04.jpeg\n"
     ]
    },
    {
     "name": "stderr",
     "output_type": "stream",
     "text": [
      "\n",
      " 73%|███████▎  | 22/30 [00:06<00:01,  5.48it/s]\u001b[A\n",
      " 77%|███████▋  | 23/30 [00:06<00:01,  5.46it/s]\u001b[A"
     ]
    },
    {
     "name": "stdout",
     "output_type": "stream",
     "text": [
      "images/charts/france/dep-map-img-dc-journ/2020-10-05.jpeg\n",
      "images/charts/france/dep-map-img-dc-journ/2020-10-06.jpeg\n"
     ]
    },
    {
     "name": "stderr",
     "output_type": "stream",
     "text": [
      "\n",
      " 80%|████████  | 24/30 [00:06<00:01,  5.53it/s]\u001b[A"
     ]
    },
    {
     "name": "stdout",
     "output_type": "stream",
     "text": [
      "images/charts/france/dep-map-img-dc-journ/2020-10-07.jpeg\n"
     ]
    },
    {
     "name": "stderr",
     "output_type": "stream",
     "text": [
      "\n",
      " 83%|████████▎ | 25/30 [00:06<00:00,  5.32it/s]\u001b[A"
     ]
    },
    {
     "name": "stdout",
     "output_type": "stream",
     "text": [
      "images/charts/france/dep-map-img-dc-journ/2020-10-08.jpeg\n"
     ]
    },
    {
     "name": "stderr",
     "output_type": "stream",
     "text": [
      "\n",
      " 87%|████████▋ | 26/30 [00:07<00:00,  4.87it/s]\u001b[A"
     ]
    },
    {
     "name": "stdout",
     "output_type": "stream",
     "text": [
      "images/charts/france/dep-map-img-dc-journ/2020-10-09.jpeg\n"
     ]
    },
    {
     "name": "stderr",
     "output_type": "stream",
     "text": [
      "\n",
      " 90%|█████████ | 27/30 [00:07<00:00,  4.20it/s]\u001b[A\n",
      " 93%|█████████▎| 28/30 [00:07<00:00,  4.23it/s]\u001b[A"
     ]
    },
    {
     "name": "stdout",
     "output_type": "stream",
     "text": [
      "images/charts/france/dep-map-img-dc-journ/2020-10-10.jpeg\n",
      "images/charts/france/dep-map-img-dc-journ/2020-10-11.jpeg\n"
     ]
    },
    {
     "name": "stderr",
     "output_type": "stream",
     "text": [
      "\n",
      " 97%|█████████▋| 29/30 [00:07<00:00,  4.44it/s]\u001b[A"
     ]
    },
    {
     "name": "stdout",
     "output_type": "stream",
     "text": [
      "images/charts/france/dep-map-img-dc-journ/2020-10-12.jpeg\n"
     ]
    },
    {
     "name": "stderr",
     "output_type": "stream",
     "text": [
      "\n",
      "100%|██████████| 30/30 [00:09<00:00,  3.06it/s]\u001b[A\n"
     ]
    }
   ],
   "source": [
    "dep_map_incidence()\n",
    "dep_map()\n",
    "#dep_map_dc_cum()\n",
    "dep_map_dc_journ()"
   ]
  },
  {
   "cell_type": "code",
   "execution_count": 18,
   "metadata": {},
   "outputs": [
    {
     "data": {
      "text/plain": [
       "'\\n# INSEE\\n# GIF mortalité par rapport à 2018 et 2019\\nimgs_folder = \"images/charts/france/dep-map-surmortalite-img/{}.png\"\\nppl = \"surmortalite20\"\\nsub = \\'Comparaison de la <b>mortalité journalière</b> entre 2020 <br>et les deux années précédentes.\\'\\nmap_gif(dates_insee, imgs_folder, df = df_insee.dropna(), type_ppl = ppl, legend_title=\"Sur-mortalité (%)\", min_scale=-50, max_scale=50, colorscale = [\"green\", \"white\", \"red\"], subtitle = sub)\\nbuild_gif(file_gif = \"images/charts/france/dep-map-surmortalite.gif\", imgs_folder = imgs_folder, dates=dates_insee)'"
      ]
     },
     "execution_count": 18,
     "metadata": {},
     "output_type": "execute_result"
    }
   ],
   "source": [
    "\"\"\"\n",
    "# INSEE\n",
    "# GIF mortalité par rapport à 2018 et 2019\n",
    "imgs_folder = \"images/charts/france/dep-map-surmortalite-img/{}.png\"\n",
    "ppl = \"surmortalite20\"\n",
    "sub = 'Comparaison de la <b>mortalité journalière</b> entre 2020 <br>et les deux années précédentes.'\n",
    "map_gif(dates_insee, imgs_folder, df = df_insee.dropna(), type_ppl = ppl, legend_title=\"Sur-mortalité (%)\", min_scale=-50, max_scale=50, colorscale = [\"green\", \"white\", \"red\"], subtitle = sub)\n",
    "build_gif(file_gif = \"images/charts/france/dep-map-surmortalite.gif\", imgs_folder = imgs_folder, dates=dates_insee)\"\"\""
   ]
  },
  {
   "cell_type": "code",
   "execution_count": 19,
   "metadata": {},
   "outputs": [
    {
     "data": {
      "text/plain": [
       "'# Line chart évolution de la mortalité\\n\\nimport plotly.graph_objects as go\\nimport plotly\\nfig = go.Figure()\\n\\nfig.add_trace(go.Scatter(\\n    x = df_insee_france[\"jour\"],\\n    y = df_insee_france[\"surmortalite20\"],\\n    name = \"Bilan autre hosp\",\\n    marker_color=\\'black\\',\\n    mode=\"lines+markers\",\\n    opacity=1\\n))\\n\\n\\n# Here we modify the tickangle of the xaxis, resulting in rotated labels.\\nfig.update_layout(\\n    legend_orientation=\"v\",\\n    barmode=\\'relative\\',\\n    title={\\n                \\'text\\': \"Variation de la <b>mortalité en mars 2020</b> par rapport à 2018 et 2019\",\\n                \\'y\\':0.95,\\n                \\'x\\':0.5,\\n                \\'xanchor\\': \\'center\\',\\n                \\'yanchor\\': \\'top\\'},\\n                titlefont = dict(\\n                size=20),\\n    xaxis=dict(\\n        title=\\'\\',\\n        tickformat=\\'%d/%m\\'),\\n    yaxis_title=\"Surmortalité (%)\",\\n    \\n    annotations = [\\n                dict(\\n                    x=0,\\n                    y=1.05,\\n                    xref=\\'paper\\',\\n                    yref=\\'paper\\',\\n                    text=\\'Date : {}. Source : INSEE et CSSE. Auteur : @guillaumerozier (Twitter).\\'.format(datetime.strptime(dates[-1], \\'%Y-%m-%d\\').strftime(\\'%d %B %Y\\')),                    showarrow = False\\n                )]\\n                 )\\n\\nfig.update_layout(\\n    yaxis = go.layout.YAxis(\\n        tickformat = \\'%\\'\\n    ),\\n    annotations = [\\n                dict(\\n                    x=0.5,\\n                    y=1.05,\\n                    xref=\\'paper\\',\\n                    yref=\\'paper\\',\\n                    xanchor=\\'center\\',\\n                    text=\\'\\',\\n                    showarrow = False\\n                )]\\n                 )\\n\\nname_fig = \"insee_surmortalite\"\\nfig.write_image(\"images/charts/france/{}.png\".format(name_fig), scale=2, width=1200, height=800)\\nplotly.offline.plot(fig, filename = \\'images/html_exports/france/{}.html\\'.format(name_fig), auto_open=False)\\nprint(\"> \" + name_fig)\\n\\nfig.show()'"
      ]
     },
     "execution_count": 19,
     "metadata": {},
     "output_type": "execute_result"
    }
   ],
   "source": [
    "\"\"\"# Line chart évolution de la mortalité\n",
    "\n",
    "import plotly.graph_objects as go\n",
    "import plotly\n",
    "fig = go.Figure()\n",
    "\n",
    "fig.add_trace(go.Scatter(\n",
    "    x = df_insee_france[\"jour\"],\n",
    "    y = df_insee_france[\"surmortalite20\"],\n",
    "    name = \"Bilan autre hosp\",\n",
    "    marker_color='black',\n",
    "    mode=\"lines+markers\",\n",
    "    opacity=1\n",
    "))\n",
    "\n",
    "\n",
    "# Here we modify the tickangle of the xaxis, resulting in rotated labels.\n",
    "fig.update_layout(\n",
    "    legend_orientation=\"v\",\n",
    "    barmode='relative',\n",
    "    title={\n",
    "                'text': \"Variation de la <b>mortalité en mars 2020</b> par rapport à 2018 et 2019\",\n",
    "                'y':0.95,\n",
    "                'x':0.5,\n",
    "                'xanchor': 'center',\n",
    "                'yanchor': 'top'},\n",
    "                titlefont = dict(\n",
    "                size=20),\n",
    "    xaxis=dict(\n",
    "        title='',\n",
    "        tickformat='%d/%m'),\n",
    "    yaxis_title=\"Surmortalité (%)\",\n",
    "    \n",
    "    annotations = [\n",
    "                dict(\n",
    "                    x=0,\n",
    "                    y=1.05,\n",
    "                    xref='paper',\n",
    "                    yref='paper',\n",
    "                    text='Date : {}. Source : INSEE et CSSE. Auteur : @guillaumerozier (Twitter).'.format(datetime.strptime(dates[-1], '%Y-%m-%d').strftime('%d %B %Y')),                    showarrow = False\n",
    "                )]\n",
    "                 )\n",
    "\n",
    "fig.update_layout(\n",
    "    yaxis = go.layout.YAxis(\n",
    "        tickformat = '%'\n",
    "    ),\n",
    "    annotations = [\n",
    "                dict(\n",
    "                    x=0.5,\n",
    "                    y=1.05,\n",
    "                    xref='paper',\n",
    "                    yref='paper',\n",
    "                    xanchor='center',\n",
    "                    text='',\n",
    "                    showarrow = False\n",
    "                )]\n",
    "                 )\n",
    "\n",
    "name_fig = \"insee_surmortalite\"\n",
    "fig.write_image(\"images/charts/france/{}.png\".format(name_fig), scale=2, width=1200, height=800)\n",
    "plotly.offline.plot(fig, filename = 'images/html_exports/france/{}.html'.format(name_fig), auto_open=False)\n",
    "print(\"> \" + name_fig)\n",
    "\n",
    "fig.show()\"\"\""
   ]
  }
 ],
 "metadata": {
  "kernelspec": {
   "display_name": "Python 3",
   "language": "python",
   "name": "python3"
  },
  "language_info": {
   "codemirror_mode": {
    "name": "ipython",
    "version": 3
   },
   "file_extension": ".py",
   "mimetype": "text/x-python",
   "name": "python",
   "nbconvert_exporter": "python",
   "pygments_lexer": "ipython3",
   "version": "3.7.4"
  }
 },
 "nbformat": 4,
 "nbformat_minor": 2
}

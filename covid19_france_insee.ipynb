{
 "cells": [
  {
   "cell_type": "code",
   "execution_count": 28,
   "metadata": {},
   "outputs": [],
   "source": [
    "import pandas as pd\n",
    "from plotly.subplots import make_subplots\n",
    "import plotly.graph_objects as go\n",
    "import plotly\n",
    "from datetime import datetime"
   ]
  },
  {
   "cell_type": "code",
   "execution_count": 58,
   "metadata": {},
   "outputs": [],
   "source": [
    "df_mortalite = pd.read_csv('data/france/deces_quotidiens_departement_csv.csv', sep=\";\", encoding=\"'windows-1252'\")\n",
    "\n",
    "df_mortalite_france = df_mortalite[df_mortalite[\"Zone\"] == \"France\"]\n",
    "df_mortalite_france.loc[:,\"Total_deces_2018_diff\"] = df_mortalite_france[\"Total_deces_2018\"].diff().rolling(window=7).mean()\n",
    "df_mortalite_france.loc[:,\"Total_deces_2019_diff\"] = df_mortalite_france[\"Total_deces_2019\"].diff().rolling(window=7).mean()\n",
    "df_mortalite_france.loc[:,\"Total_deces_2020_diff\"] = df_mortalite_france[\"Total_deces_2020\"].diff().rolling(window=7).mean()"
   ]
  },
  {
   "cell_type": "code",
   "execution_count": 80,
   "metadata": {},
   "outputs": [
    {
     "name": "stdout",
     "output_type": "stream",
     "text": [
      "> mortalite\n"
     ]
    }
   ],
   "source": [
    "#### Construction du graphique\n",
    "fig = make_subplots(specs=[[{\"secondary_y\": False}]])\n",
    "\n",
    "# Ajout R_effectif estimé via les urgences au graph\n",
    "fig.add_trace(go.Scatter(x = df_mortalite_france[\"Date_evenement\"], y = df_mortalite_france[\"Total_deces_2018_diff\"],\n",
    "                    mode='lines',\n",
    "                    line=dict(width=4, color=\"rgb(96, 178, 219)\"),\n",
    "                    name=\"Décès 2018\",\n",
    "                    marker_size=4,\n",
    "                    showlegend=True\n",
    "                       ))\n",
    "fig.add_trace(go.Scatter(x = df_mortalite_france[\"Date_evenement\"], y = df_mortalite_france[\"Total_deces_2019_diff\"],\n",
    "                    mode='lines',\n",
    "                    line=dict(width=4, color=\"rgb(11, 131, 191)\"),\n",
    "                    name=\"Décès 2019\",\n",
    "                    marker_size=4,\n",
    "                    showlegend=True\n",
    "                       ))\n",
    "fig.add_trace(go.Scatter(x = df_mortalite_france[\"Date_evenement\"], y = df_mortalite_france[\"Total_deces_2020_diff\"],\n",
    "                    mode='lines',\n",
    "                    line=dict(width=4, color=\"red\"),\n",
    "                    name=\"Décès 2020\",\n",
    "                    marker_size=4,\n",
    "                    showlegend=True\n",
    "                       ))\n",
    "\n",
    "# Mise en valeur de la dernière valeur du R_effectif\n",
    "mortalite_now = df_mortalite_france.dropna()[\"Total_deces_2020_diff\"].values[-1]\n",
    "fig.add_trace(go.Scatter(x = [df_mortalite_france.dropna()[\"Date_evenement\"].values[-1]], y = [mortalite_now],\n",
    "                    mode='markers',\n",
    "                    name=\"\",\n",
    "                    line=dict(width=4, color=\"red\"),\n",
    "                    marker_color='red',\n",
    "                    marker_size=10,\n",
    "                    showlegend=False\n",
    "                            ))\n",
    "# Modification du layout\n",
    "fig.update_layout(\n",
    "    margin=dict(\n",
    "            l=0,\n",
    "            r=0,\n",
    "            b=50,\n",
    "            t=70,\n",
    "            pad=0\n",
    "        ),\n",
    "    legend_orientation=\"h\",\n",
    "    title={\n",
    "                'text': \"<b>Mortalité en France</b><br><sub>Moyenne mobile de 7 jours pour lisser les irrégularités\".format(),\n",
    "                'y':0.95,\n",
    "                'x':0.5,\n",
    "                'xanchor': 'center',\n",
    "                'yanchor': 'top'},\n",
    "    titlefont = dict(\n",
    "                size=20),\n",
    "    annotations = [\n",
    "                dict(\n",
    "                    x=0.5,\n",
    "                    y=-0.1,\n",
    "                    xref='paper',\n",
    "                    yref='paper',\n",
    "                    opacity=0.8,\n",
    "                    text='Date : {}. Source : Santé publique France. Auteur : Guillaume Rozier - covidtracker.fr.'.format(datetime.now().strftime('%d %B %Y')),                    showarrow = False\n",
    "                )]\n",
    "                 )\n",
    "fig.update_xaxes(title=\"\", nticks=10)\n",
    "fig.update_yaxes(title=\"\")\n",
    "\n",
    "name_fig = \"mortalite\"\n",
    "fig.write_image(\"images/charts/france/{}.jpeg\".format(name_fig), scale=3, width=900, height=550)\n",
    "\n",
    "fig.update_layout(\n",
    "    annotations = [\n",
    "                dict(\n",
    "                    x=0.5,\n",
    "                    y=1.05,\n",
    "                    xref='paper',\n",
    "                    yref='paper',\n",
    "                    xanchor='center',\n",
    "                    text='Cliquez sur des éléments de légende pour les ajouter/supprimer',\n",
    "                    showarrow = False\n",
    "                )]\n",
    "                 )\n",
    "plotly.offline.plot(fig, filename = 'images/html_exports/france/{}.html'.format(name_fig), auto_open=False)\n",
    "print(\"> \" + name_fig)"
   ]
  }
 ],
 "metadata": {
  "kernelspec": {
   "display_name": "Python 3",
   "language": "python",
   "name": "python3"
  },
  "language_info": {
   "codemirror_mode": {
    "name": "ipython",
    "version": 3
   },
   "file_extension": ".py",
   "mimetype": "text/x-python",
   "name": "python",
   "nbconvert_exporter": "python",
   "pygments_lexer": "ipython3",
   "version": "3.7.4"
  }
 },
 "nbformat": 4,
 "nbformat_minor": 2
}

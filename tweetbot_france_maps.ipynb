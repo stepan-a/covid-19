{
 "cells": [
  {
   "cell_type": "code",
   "execution_count": 1,
   "metadata": {},
   "outputs": [],
   "source": [
    "# Guillaume Rozier - 2020 - MIT License\n",
    "# This script will automatically tweet new data and graphes on the account @covidtracker_fr\n",
    "\n",
    "# importing the module \n",
    "\n",
    "import france_data_management as data\n",
    "import math\n",
    "from datetime import datetime\n",
    "import locale\n",
    "import tweepy\n",
    "import pandas as pd\n",
    "import secrets as s\n",
    "from datetime import timedelta\n",
    "\n",
    "locale.setlocale(locale.LC_ALL, 'fr_FR.UTF-8')\n",
    "\n",
    "\"\"\"\n",
    "Secrets :\n",
    "    consumer_key =\"xxxxxxxxxxxxxxxx\"\n",
    "    consumer_secret =\"xxxxxxxxxxxxxxxx\"\n",
    "    access_token =\"xxxxxxxxxxxxxxxx\"\n",
    "    access_token_secret =\"xxxxxxxxxxxxxxxx\"\n",
    "\"\"\"\n",
    "\n",
    "# authentication \n",
    "auth = tweepy.OAuthHandler(s.consumer_key, s.consumer_secret) \n",
    "auth.set_access_token(s.access_token, s.access_token_secret) \n",
    "\n",
    "api = tweepy.API(auth) \n",
    "    \n",
    "def tweet_france_maps():\n",
    "    _, _, dates, _, _, _, _, df_incid, _ = data.import_data()\n",
    "    df_incid = df_incid[df_incid[\"cl_age90\"] == 0]\n",
    "    \n",
    "    lastday_df_incid = datetime.strptime(df_incid['jour'].max(), '%Y-%m-%d')\n",
    "    \n",
    "    ## TWEET2\n",
    "    df_incid_lastday = df_incid.loc[df_incid['jour']==df_incid['jour'].max(), :]\n",
    "    nb_dep = len(df_incid_lastday.loc[df_incid_lastday['incidence_color']=='Alerte', :]) + len(df_incid_lastday.loc[df_incid_lastday['incidence_color']=='Alerte Renforcée', :]) + len(df_incid_lastday.loc[df_incid_lastday['incidence_color']=='Alerte Maximale', :])\n",
    "    \n",
    "    images_path2 =[\"images/charts/france/dep-map-incid-cat/latest.jpeg\"]\n",
    "    media_ids2 = []\n",
    "    \n",
    "    for filename in images_path2:\n",
    "        res = api.media_upload(filename)\n",
    "        media_ids2.append(res.media_id)\n",
    "        \n",
    "    tweet2 = \"🔴 {} départements devraient être classés rouge, car ils dépassent le niveau d'alerte de 50 cas pour 100 000 habitants en 7 jours (données du {})\\n➡️ Plus d'infos : covidtracker.fr/covidtracker-france\".format(nb_dep, lastday_df_incid.strftime('%d/%m'))\n",
    "    api.update_status(status=tweet2, media_ids=media_ids2)\n",
    "    #print(tweet2)\n",
    "    \n",
    "tweet_france_maps()"
   ]
  }
 ],
 "metadata": {
  "kernelspec": {
   "display_name": "Python 3",
   "language": "python",
   "name": "python3"
  },
  "language_info": {
   "codemirror_mode": {
    "name": "ipython",
    "version": 3
   },
   "file_extension": ".py",
   "mimetype": "text/x-python",
   "name": "python",
   "nbconvert_exporter": "python",
   "pygments_lexer": "ipython3",
   "version": "3.7.4"
  }
 },
 "nbformat": 4,
 "nbformat_minor": 2
}

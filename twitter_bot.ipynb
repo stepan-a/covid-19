{
 "cells": [
  {
   "cell_type": "code",
   "execution_count": 47,
   "metadata": {},
   "outputs": [
    {
     "name": "stderr",
     "output_type": "stream",
     "text": [
      "10it [00:05,  1.80it/s]                      "
     ]
    },
    {
     "name": "stdout",
     "output_type": "stream",
     "text": [
      "#Covid19 en #France le 01 juillet :\n",
      "• 212 nouveaux cas positifs\n",
      "• 106 personnes décédées en milieu hosp.\n",
      "• 19 nouvelles hospitalisations\n",
      "➡️ Plus d'infos : covidtracker.fr/covidtracker-france\n"
     ]
    },
    {
     "name": "stderr",
     "output_type": "stream",
     "text": [
      "\n"
     ]
    }
   ],
   "source": [
    "# Guillaume Rozier - 2020 - MIT License\n",
    "# This script will automatically tweet new data and graphes on the account @covidtracker_fr\n",
    "\n",
    "# importing the module \n",
    "\n",
    "import france_data_management as data\n",
    "import math\n",
    "from datetime import datetime\n",
    "import locale\n",
    "\n",
    "try:\n",
    "    import tweepy\n",
    "except ImportError as e:\n",
    "    !sudo pip3 install tweepy\n",
    "\n",
    "import secrets as s\n",
    "\n",
    "locale.setlocale(locale.LC_ALL, 'fr_FR.UTF-8')\n",
    "\n",
    "\"\"\"\n",
    "Secrets :\n",
    "    consumer_key =\"xxxxxxxxxxxxxxxx\"\n",
    "    consumer_secret =\"xxxxxxxxxxxxxxxx\"\n",
    "    access_token =\"xxxxxxxxxxxxxxxx\"\n",
    "    access_token_secret =\"xxxxxxxxxxxxxxxx\"\n",
    "\"\"\"\n",
    "\n",
    "_, _, dates, df_new, _, _, _, df_incid = data.import_data()\n",
    "df_new_france = df_new.groupby([\"jour\"]).sum()\n",
    "df_incid_france = df_incid.groupby([\"jour\"]).sum()\n",
    "\n",
    "hosp = math.trunc(df_new_france.iloc[len(df_new_france)-1]['incid_hosp'])\n",
    "deaths = math.trunc(df_new_france.iloc[len(df_new_france)-1]['incid_dc'])\n",
    "cases = math.trunc(df_incid_france.iloc[len(df_incid_france)-1]['p'])\n",
    "\n",
    "# authentication \n",
    "auth = tweepy.OAuthHandler(s.consumer_key, s.consumer_secret) \n",
    "auth.set_access_token(s.access_token, s.access_token_secret) \n",
    "   \n",
    "api = tweepy.API(auth) \n",
    "tweet =\"#Covid19 en #France le {} :\\n• {} nouveaux cas positifs\\n• {} personnes décédées en milieu hosp.\\n• {} nouvelles hospitalisations\\n➡️ Plus d'infos : covidtracker.fr/covidtracker-france\".format(datetime.strptime(dates[-1], '%Y-%m-%d').strftime('%d %B'), cases, hosp, deaths) # toDo \n",
    "image_path =\"charts/images/france/var_journ.png\"\n",
    "  \n",
    "# to attach the media file \n",
    "#status = api.update_with_media(image_path, tweet)  \n",
    "#api.update_status(status = tweet) \n",
    "print(tweet)"
   ]
  },
  {
   "cell_type": "code",
   "execution_count": 3,
   "metadata": {},
   "outputs": [
    {
     "name": "stderr",
     "output_type": "stream",
     "text": [
      "10it [00:02,  3.45it/s]                      \n"
     ]
    }
   ],
   "source": [
    "#import france_data_management as data\n",
    "#df, df_confirmed, dates, df_new, df_tests, df_deconf, df_sursaud, df_incid = data.import_data()"
   ]
  }
 ],
 "metadata": {
  "kernelspec": {
   "display_name": "Python 3",
   "language": "python",
   "name": "python3"
  },
  "language_info": {
   "codemirror_mode": {
    "name": "ipython",
    "version": 3
   },
   "file_extension": ".py",
   "mimetype": "text/x-python",
   "name": "python",
   "nbconvert_exporter": "python",
   "pygments_lexer": "ipython3",
   "version": "3.7.4"
  }
 },
 "nbformat": 4,
 "nbformat_minor": 2
}

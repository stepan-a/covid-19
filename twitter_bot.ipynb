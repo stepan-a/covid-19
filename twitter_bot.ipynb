{
 "cells": [
  {
   "cell_type": "code",
   "execution_count": 24,
   "metadata": {},
   "outputs": [
    {
     "name": "stderr",
     "output_type": "stream",
     "text": [
      "10it [00:02,  3.46it/s]                      \n"
     ]
    }
   ],
   "source": [
    "# Guillaume Rozier - 2020 - MIT License\n",
    "# This script will automatically tweet new data and graphes on the account @covidtracker_fr\n",
    "\n",
    "# importing the module \n",
    "\n",
    "import france_data_management as data\n",
    "import math\n",
    "from datetime import datetime\n",
    "import locale\n",
    "import tweepy\n",
    "\n",
    "import secrets as s\n",
    "\n",
    "def tweet():\n",
    "    locale.setlocale(locale.LC_ALL, 'fr_FR.UTF-8')\n",
    "\n",
    "    \"\"\"\n",
    "    Secrets :\n",
    "        consumer_key =\"xxxxxxxxxxxxxxxx\"\n",
    "        consumer_secret =\"xxxxxxxxxxxxxxxx\"\n",
    "        access_token =\"xxxxxxxxxxxxxxxx\"\n",
    "        access_token_secret =\"xxxxxxxxxxxxxxxx\"\n",
    "    \"\"\"\n",
    "\n",
    "    _, _, dates, df_new, _, _, _, df_incid = data.import_data()\n",
    "    df_new_france = df_new.groupby([\"jour\"]).sum().reset_index()\n",
    "    df_incid_france = df_incid.groupby([\"jour\"]).sum().reset_index()\n",
    "\n",
    "    hosp = df_new_france.iloc[len(df_new_france)-1]['incid_hosp']\n",
    "    deaths = df_new_france.iloc[len(df_new_france)-1]['incid_dc']\n",
    "    cases = df_incid_france.iloc[len(df_incid_france)-1]['p']\n",
    "\n",
    "    # authentication \n",
    "    auth = tweepy.OAuthHandler(s.consumer_key, s.consumer_secret) \n",
    "    auth.set_access_token(s.access_token, s.access_token_secret) \n",
    "\n",
    "    api = tweepy.API(auth) \n",
    "\n",
    "    date = datetime.strptime(dates[-1], '%Y-%m-%d').strftime('%d %B')\n",
    "    date_incid = datetime.strptime(sorted(list(dict.fromkeys(list(df_incid_france['jour'].values))))[-1], '%Y-%m-%d').strftime('%d %B')\n",
    "    tweet =\"#Covid19 en #France - Données du jour :\\n• {} nouveaux cas positifs ({})\\n• {} personnes décédées en milieu hosp. ({})\\n• {} admissions à l'hôpital ({})\\n➡️ Plus d'infos : covidtracker.fr/covidtracker-france\".format(cases, date_incid, deaths, date, hosp, date) # toDo \n",
    "    image_path =\"images/charts/france/var_journ_lines.jpeg\"\n",
    "\n",
    "    # to attach the media file \n",
    "    status = api.update_with_media(image_path, tweet)\n",
    "    #print(tweet)"
   ]
  },
  {
   "cell_type": "code",
   "execution_count": 18,
   "metadata": {},
   "outputs": [
    {
     "data": {
      "text/plain": [
       "106"
      ]
     },
     "execution_count": 18,
     "metadata": {},
     "output_type": "execute_result"
    }
   ],
   "source": [
    "#import france_data_management as data\n",
    "#df, df_confirmed, dates, df_new, df_tests, df_deconf, df_sursaud, df_incid = data.import_data()\n"
   ]
  }
 ],
 "metadata": {
  "kernelspec": {
   "display_name": "Python 3",
   "language": "python",
   "name": "python3"
  },
  "language_info": {
   "codemirror_mode": {
    "name": "ipython",
    "version": 3
   },
   "file_extension": ".py",
   "mimetype": "text/x-python",
   "name": "python",
   "nbconvert_exporter": "python",
   "pygments_lexer": "ipython3",
   "version": "3.7.4"
  }
 },
 "nbformat": 4,
 "nbformat_minor": 2
}

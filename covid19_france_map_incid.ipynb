{
 "cells": [
  {
   "cell_type": "code",
   "execution_count": 1,
   "metadata": {},
   "outputs": [
    {
     "data": {
      "text/plain": [
       "\"\\n\\nLICENSE MIT\\n2020\\nGuillaume Rozier\\nWebsite : http://www.guillaumerozier.fr\\nMail : guillaume.rozier@telecomnancy.net\\n\\nREADME:s\\nThis file contains script that generate France maps and GIFs. \\nSingle images are exported to folders in 'charts/image/france'. GIFs are exported to 'charts/image/france'.\\nI'm currently cleaning this file, please ask me is something is not clear enough!\\nRequirements: please see the imports below (use pip3 to install them).\\n\\n\""
      ]
     },
     "execution_count": 1,
     "metadata": {},
     "output_type": "execute_result"
    }
   ],
   "source": [
    "\"\"\"\n",
    "\n",
    "LICENSE MIT\n",
    "2020\n",
    "Guillaume Rozier\n",
    "Website : http://www.guillaumerozier.fr\n",
    "Mail : guillaume.rozier@telecomnancy.net\n",
    "\n",
    "README:s\n",
    "This file contains script that generate France maps and GIFs. \n",
    "Single images are exported to folders in 'charts/image/france'. GIFs are exported to 'charts/image/france'.\n",
    "I'm currently cleaning this file, please ask me is something is not clear enough!\n",
    "Requirements: please see the imports below (use pip3 to install them).\n",
    "\n",
    "\"\"\""
   ]
  },
  {
   "cell_type": "code",
   "execution_count": 2,
   "metadata": {},
   "outputs": [
    {
     "data": {
      "text/plain": [
       "'fr_FR.UTF-8'"
      ]
     },
     "execution_count": 2,
     "metadata": {},
     "output_type": "execute_result"
    }
   ],
   "source": [
    "import france_data_management as data\n",
    "import pandas as pd\n",
    "from tqdm import tqdm\n",
    "import json\n",
    "import plotly.express as px\n",
    "from datetime import datetime\n",
    "import imageio\n",
    "import multiprocessing\n",
    "import locale\n",
    "import shutil\n",
    "import os\n",
    "locale.setlocale(locale.LC_ALL, 'fr_FR.UTF-8')"
   ]
  },
  {
   "cell_type": "code",
   "execution_count": 3,
   "metadata": {},
   "outputs": [
    {
     "name": "stderr",
     "output_type": "stream",
     "text": [
      "  0%|          | 0/4 [00:00<?, ?it/s]/Users/guillaumerozier/opt/anaconda3/lib/python3.7/site-packages/IPython/core/interactiveshell.py:3249: DtypeWarning:\n",
      "\n",
      "Columns (0) have mixed types. Specify dtype option on import or set low_memory=False.\n",
      "\n",
      " 75%|███████▌  | 3/4 [00:04<00:01,  1.47s/it]"
     ]
    }
   ],
   "source": [
    "# Import data from Santé publique France\n",
    "_, _, _, _, _, _, _, df_incid, _ = data.import_data()\n",
    "df_incid = df_incid[df_incid[\"cl_age90\"] == 0]\n",
    "\n",
    "with open('data/france/dep.geojson') as response:\n",
    "    depa = json.load(response)"
   ]
  },
  {
   "cell_type": "code",
   "execution_count": 4,
   "metadata": {},
   "outputs": [],
   "source": [
    "def build_map(data_df, img_folder, date_val, date_str = \"date\", dep_str = \"departement\", color_str = 'indic_synthese', legend_title=\"legend_title\", title=\"title\", subtitle=\"\", subsubtitle=\"{}<br>{} (données du {})\", color_descrete_map={\"Risque Faible\":\"#DAF7A6\", \"Alerte\":\"#b8002a\", \"Alerte Renforcée\":\"#7c0030\", \"Alerte Maximale\":\"#460d37\"}):\n",
    "    for date in date_val:\n",
    "        data_df_temp = data_df[data_df[date_str] == date]\n",
    "        \n",
    "        if len(data_df_temp) > 0:\n",
    "            fig = px.choropleth(geojson = depa, \n",
    "                                locations = data_df_temp[dep_str], \n",
    "                                featureidkey=\"properties.code\",\n",
    "                                color = data_df_temp[color_str],\n",
    "                                scope='europe',\n",
    "                                #labels={color_str:\"Couleur\"},\n",
    "                                #color_discrete_sequence = [\"green\", \"orange\", \"red\"],\n",
    "                                #labels={'red':\"Couleur\", 'orange':'bla', 'green':'lol'},\n",
    "                                color_discrete_map = color_descrete_map\n",
    "                                #color_discrete_map = ,\n",
    "                                #category_orders = {color_str :[\"Risque Faible\", \"Alerte\", \"Alerte Renforcée\", \"Alerte Maximale\"]}\n",
    "                                      )\n",
    "            date_title = datetime.strptime(date, '%Y-%m-%d').strftime('%d %B')\n",
    "            date_now = datetime.now().strftime('%d %B')\n",
    "\n",
    "            fig.update_geos(fitbounds=\"locations\", visible=False)\n",
    "\n",
    "            fig.update_layout(\n",
    "                legend_title_text = \"Couleur\",\n",
    "                margin={\"r\":0,\"t\":0,\"l\":0,\"b\":0},\n",
    "                title={\n",
    "                    'text': title,\n",
    "                    'y':0.98,\n",
    "                    'x':0.5,\n",
    "                    'xanchor': 'center',\n",
    "                    'yanchor': 'top'},\n",
    "\n",
    "                titlefont = dict(\n",
    "                    size=30),\n",
    "\n",
    "                annotations = [\n",
    "                    dict(\n",
    "                        x=0.54,\n",
    "                        y=0.03,\n",
    "                        xref='paper',\n",
    "                        yref='paper',\n",
    "                        xanchor = 'center',\n",
    "                        text='Source : Santé publique France. Auteur : @guillaumerozier.',\n",
    "                        showarrow = False\n",
    "                    ),\n",
    "\n",
    "                    dict(\n",
    "                        x=0.55,\n",
    "                        y=0.94,\n",
    "                        xref='paper',\n",
    "                        yref='paper',\n",
    "                        text= subsubtitle.format(subtitle, date_now, date_title),\n",
    "                        showarrow = False,\n",
    "                        font=dict(\n",
    "                            size=20\n",
    "                                )\n",
    "                    )]\n",
    "                 ) \n",
    "\n",
    "            fig.update_geos(\n",
    "                #center=dict(lon=-30, lat=-30),\n",
    "                projection_rotation=dict(lon=12, lat=30, roll=8),\n",
    "                #lataxis_range=[-50,20], lonaxis_range=[0, 200]\n",
    "            )\n",
    "            #fig.show()\n",
    "            if date == dates_deconf[-1]:\n",
    "                fig.write_image((img_folder+\"/{}.jpeg\").format(\"latest\"), scale=2, width=960, height=640)\n",
    "            fig.write_image((img_folder+\"/{}.jpeg\").format(date), scale=2, width=960, height=640)\n",
    "        else:\n",
    "            print(\"no data\")"
   ]
  },
  {
   "cell_type": "code",
   "execution_count": 5,
   "metadata": {},
   "outputs": [],
   "source": [
    "def build_gif(file_gif, imgs_folder, dates):\n",
    "    i=0\n",
    "    with imageio.get_writer(file_gif, mode='I', duration=0.3) as writer: \n",
    "        for date in tqdm(dates):\n",
    "            try:\n",
    "                print((imgs_folder+\"/{}.jpeg\").format(date))\n",
    "                image = imageio.imread((imgs_folder+\"/{}.jpeg\").format(date))\n",
    "                writer.append_data(image)\n",
    "                i+=1\n",
    "                if (i==len(dates)-1) or (i==0):\n",
    "                    for k in range(8):\n",
    "                        writer.append_data(image)\n",
    "            except:\n",
    "                print(\"no image for \"+str(date))"
   ]
  },
  {
   "cell_type": "code",
   "execution_count": null,
   "metadata": {},
   "outputs": [],
   "source": [
    "dates_deconf = list(dict.fromkeys(list(df_incid[\"jour\"].values)))\n",
    "\n",
    "date = dates_deconf[-30:]\n",
    "build_map(df_incid.sort_values(by=['incidence']), \"images/charts/france/dep-map-incid-cat\", date_val=date, date_str = \"jour\", dep_str = \"dep\", color_str = 'incidence_color', legend_title=\"\", title=\"Incidence\", subtitle=\"Nombre de cas hebdomadaires pour 100 000 habitants\")"
   ]
  },
  {
   "cell_type": "code",
   "execution_count": null,
   "metadata": {},
   "outputs": [],
   "source": [
    "df_incid #df_incid.loc[:,\"color_couvre_feu\"] = \n",
    "deps_couvre_feu = [\"01\", \"05\", \"06\", \"07\", \"08\", \"09\", \"10\", \"12\", \"13\", \"14\", \"67\", \"2A\", \"2B\", \"21\", \"26\", \"30\", \"31\", \"34\", \"35\", \"37\", \"38\", \"39\", \"42\", \"43\", \"45\", \"48\", \"49\", \"51\", \"54\", \"59\", \"60\",\"62\", \"63\", \"64\", \"65\", \"66\",\"67\", \"69\", \"71\", \"73\",\"74\", \"75\", \"76\", \"77\", \"78\", \"81\", \"82\", \"83\", \"84\", \"87\", \"91\", \"92\", \"93\", \"94\", \"95\"]\n",
    "df_incid.loc[:,\"color_couvre_feu\"] = ['Couvre-feu' if dep in deps_couvre_feu else 'Pas de couvre-feu' for dep in df_incid['dep']]\n",
    "\n",
    "dates_deconf = list(dict.fromkeys(list(df_incid[\"jour\"].values)))\n",
    "date = [dates_deconf[-1]]\n",
    "build_map(df_incid.sort_values(by=['incidence']), \"images/charts/france/dep-map-couvre-feu\", date_val=date, date_str = \"jour\", dep_str = \"dep\", color_str = 'color_couvre_feu', legend_title=\"\", title=\"Départements possiblement en couvre feu samedi\", subsubtitle=\"\", color_descrete_map={\"Pas de couvre-feu\":\"#a4bda8\", \"Couvre-feu\":\"#bd2828\"})"
   ]
  },
  {
   "cell_type": "code",
   "execution_count": null,
   "metadata": {},
   "outputs": [],
   "source": [
    "deps_strings=[]\n",
    "for dep in deps_couvre_feu:\n",
    "    deps_strings += [df_incid[df_incid[\"dep\"] == dep][\"departmentName\"].values[0]]"
   ]
  },
  {
   "cell_type": "code",
   "execution_count": null,
   "metadata": {},
   "outputs": [],
   "source": [
    "to_disp=\"\"\n",
    "for val in deps_strings:\n",
    "    to_disp += val+\", \"\n",
    "to_disp"
   ]
  },
  {
   "cell_type": "code",
   "execution_count": null,
   "metadata": {},
   "outputs": [],
   "source": [
    "#df_incid.loc[df_incid[\"dep\"] == \"75\"][\"P\"].rolling(window=7).sum()/df_incid.loc[df_incid[\"dep\"] == \"75\"][\"pop\"]*100000"
   ]
  },
  {
   "cell_type": "code",
   "execution_count": null,
   "metadata": {},
   "outputs": [],
   "source": [
    "build_gif(\"images/charts/france/incid-cat.gif\", \"images/charts/france/dep-map-incid-cat\", dates_deconf[-30:])"
   ]
  }
 ],
 "metadata": {
  "kernelspec": {
   "display_name": "Python 3",
   "language": "python",
   "name": "python3"
  },
  "language_info": {
   "codemirror_mode": {
    "name": "ipython",
    "version": 3
   },
   "file_extension": ".py",
   "mimetype": "text/x-python",
   "name": "python",
   "nbconvert_exporter": "python",
   "pygments_lexer": "ipython3",
   "version": "3.7.4"
  }
 },
 "nbformat": 4,
 "nbformat_minor": 2
}

{
 "cells": [
  {
   "cell_type": "code",
   "execution_count": 1,
   "metadata": {},
   "outputs": [
    {
     "data": {
      "text/plain": [
       "\"\\n\\nLICENSE MIT\\n2020\\nGuillaume Rozier\\nWebsite : http://www.guillaumerozier.fr\\nMail : guillaume.rozier@telecomnancy.net\\n\\nREADME:s\\nThis file contains script that generate France maps and GIFs. \\nSingle images are exported to folders in 'charts/image/france'. GIFs are exported to 'charts/image/france'.\\nI'm currently cleaning this file, please ask me is something is not clear enough!\\nRequirements: please see the imports below (use pip3 to install them).\\n\\n\""
      ]
     },
     "execution_count": 1,
     "metadata": {},
     "output_type": "execute_result"
    }
   ],
   "source": [
    "\"\"\"\n",
    "\n",
    "LICENSE MIT\n",
    "2020\n",
    "Guillaume Rozier\n",
    "Website : http://www.guillaumerozier.fr\n",
    "Mail : guillaume.rozier@telecomnancy.net\n",
    "\n",
    "README:s\n",
    "This file contains script that generate France maps and GIFs. \n",
    "Single images are exported to folders in 'charts/image/france'. GIFs are exported to 'charts/image/france'.\n",
    "I'm currently cleaning this file, please ask me is something is not clear enough!\n",
    "Requirements: please see the imports below (use pip3 to install them).\n",
    "\n",
    "\"\"\""
   ]
  },
  {
   "cell_type": "code",
   "execution_count": 2,
   "metadata": {},
   "outputs": [
    {
     "data": {
      "text/plain": [
       "'fr_FR.UTF-8'"
      ]
     },
     "execution_count": 2,
     "metadata": {},
     "output_type": "execute_result"
    }
   ],
   "source": [
    "import france_data_management as data\n",
    "import pandas as pd\n",
    "from tqdm import tqdm\n",
    "import json\n",
    "import plotly.express as px\n",
    "from datetime import datetime\n",
    "import imageio\n",
    "import multiprocessing\n",
    "import locale\n",
    "import shutil\n",
    "import os\n",
    "locale.setlocale(locale.LC_ALL, 'fr_FR.UTF-8')"
   ]
  },
  {
   "cell_type": "code",
   "execution_count": 3,
   "metadata": {},
   "outputs": [
    {
     "name": "stderr",
     "output_type": "stream",
     "text": [
      "  0%|          | 0/4 [00:00<?, ?it/s]/Library/Frameworks/Python.framework/Versions/3.8/lib/python3.8/site-packages/IPython/core/interactiveshell.py:3337: DtypeWarning: Columns (0) have mixed types. Specify dtype option on import or set low_memory=False.\n",
      "  if (await self.run_code(code, result,  async_=asy)):\n",
      "10it [00:05,  1.97it/s]                      \n"
     ]
    }
   ],
   "source": [
    "# Import data from Santé publique France\n",
    "_, _, _, _, _, _, _, df_incid, _ = data.import_data()\n",
    "df_incid = df_incid[df_incid[\"cl_age90\"] == 0]\n",
    "\n",
    "with open('data/france/dep.geojson') as response:\n",
    "    depa = json.load(response)"
   ]
  },
  {
   "cell_type": "code",
   "execution_count": 4,
   "metadata": {},
   "outputs": [],
   "source": [
    "def build_map(data_df, img_folder, date_val, date_str = \"date\", dep_str = \"departement\", color_str = 'indic_synthese', legend_title=\"legend_title\", title=\"title\", subtitle=\"\"):\n",
    "    for date in date_val:\n",
    "        data_df_temp = data_df[data_df[date_str] == date]\n",
    "        \n",
    "        if len(data_df_temp) > 0:\n",
    "            fig = px.choropleth(geojson = depa, \n",
    "                                locations = data_df_temp[dep_str], \n",
    "                                featureidkey=\"properties.code\",\n",
    "                                color = data_df_temp[color_str],\n",
    "                                scope='europe',\n",
    "                                #labels={color_str:\"Couleur\"},\n",
    "                                #color_discrete_sequence = [\"green\", \"orange\", \"red\"],\n",
    "                                #labels={'red':\"Couleur\", 'orange':'bla', 'green':'lol'},\n",
    "                                color_discrete_map = {\"Risque Faible\":\"#DAF7A6\", \"Alerte\":\"#b8002a\", \"Alerte Renforcée\":\"#7c0030\", \"Alerte Maximale\":\"#460d37\"},\n",
    "                                category_orders = {color_str :[\"Risque Faible\", \"Alerte\", \"Alerte Renforcée\", \"Alerte Maximale\"]}\n",
    "                                      )\n",
    "            date_title = datetime.strptime(date, '%Y-%m-%d').strftime('%d %B')\n",
    "            date_now = datetime.now().strftime('%d %B')\n",
    "\n",
    "            fig.update_geos(fitbounds=\"locations\", visible=False)\n",
    "\n",
    "            fig.update_layout(\n",
    "                margin={\"r\":0,\"t\":0,\"l\":0,\"b\":0},\n",
    "                title={\n",
    "                    'text': title,\n",
    "                    'y':0.98,\n",
    "                    'x':0.5,\n",
    "                    'xanchor': 'center',\n",
    "                    'yanchor': 'top'},\n",
    "\n",
    "                titlefont = dict(\n",
    "                    size=30),\n",
    "\n",
    "                annotations = [\n",
    "                    dict(\n",
    "                        x=0.54,\n",
    "                        y=0.03,\n",
    "                        xref='paper',\n",
    "                        yref='paper',\n",
    "                        xanchor = 'center',\n",
    "                        text='Source : Santé publique France. Auteur : @guillaumerozier.',\n",
    "                        showarrow = False\n",
    "                    ),\n",
    "\n",
    "                    dict(\n",
    "                        x=0.55,\n",
    "                        y=0.94,\n",
    "                        xref='paper',\n",
    "                        yref='paper',\n",
    "                        text= \"{}<br>{} (données du {})\".format(subtitle, date_now, date_title),\n",
    "                        showarrow = False,\n",
    "                        font=dict(\n",
    "                            size=20\n",
    "                                )\n",
    "                    )]\n",
    "                 ) \n",
    "\n",
    "            fig.update_geos(\n",
    "                #center=dict(lon=-30, lat=-30),\n",
    "                projection_rotation=dict(lon=12, lat=30, roll=8),\n",
    "                #lataxis_range=[-50,20], lonaxis_range=[0, 200]\n",
    "            )\n",
    "            #fig.show()\n",
    "            if date == dates_deconf[-1]:\n",
    "                fig.write_image((img_folder+\"/{}.jpeg\").format(\"latest\"), scale=2, width=1200, height=800)\n",
    "            fig.write_image((img_folder+\"/{}.jpeg\").format(date), scale=2, width=1200, height=800)\n",
    "        else:\n",
    "            print(\"no data\")"
   ]
  },
  {
   "cell_type": "code",
   "execution_count": 5,
   "metadata": {},
   "outputs": [],
   "source": [
    "def build_gif(file_gif, imgs_folder, dates):\n",
    "    i=0\n",
    "    with imageio.get_writer(file_gif, mode='I', duration=0.3) as writer: \n",
    "        for date in tqdm(dates):\n",
    "            try:\n",
    "                print((imgs_folder+\"/{}.jpeg\").format(date))\n",
    "                image = imageio.imread((imgs_folder+\"/{}.jpeg\").format(date))\n",
    "                writer.append_data(image)\n",
    "                i+=1\n",
    "                if i==len(dates):\n",
    "                    for k in range(8):\n",
    "                        writer.append_data(image)\n",
    "            except:\n",
    "                print(\"no image for \"+str(date))"
   ]
  },
  {
   "cell_type": "code",
   "execution_count": 6,
   "metadata": {},
   "outputs": [],
   "source": [
    "dates_deconf = list(dict.fromkeys(list(df_incid[\"jour\"].values)))\n",
    "\n",
    "date = [dates_deconf[-1]]\n",
    "build_map(df_incid.sort_values(by=['incidence']), \"images/charts/france/dep-map-incid-cat\", date_val=date, date_str = \"jour\", dep_str = \"dep\", color_str = 'incidence_color', legend_title=\"\", title=\"Incidence\", subtitle=\"Nombre de cas hebdomadaires pour 100 000 habitants\")"
   ]
  },
  {
   "cell_type": "code",
   "execution_count": null,
   "metadata": {},
   "outputs": [
    {
     "name": "stderr",
     "output_type": "stream",
     "text": [
      "\r",
      "  0%|          | 0/30 [00:00<?, ?it/s]"
     ]
    },
    {
     "name": "stdout",
     "output_type": "stream",
     "text": [
      "images/charts/france/dep-map-incid-cat/2020-08-22.jpeg\n"
     ]
    },
    {
     "name": "stderr",
     "output_type": "stream",
     "text": [
      "\r",
      "  3%|▎         | 1/30 [00:00<00:20,  1.44it/s]"
     ]
    },
    {
     "name": "stdout",
     "output_type": "stream",
     "text": [
      "images/charts/france/dep-map-incid-cat/2020-08-23.jpeg\n"
     ]
    },
    {
     "name": "stderr",
     "output_type": "stream",
     "text": [
      "\r",
      "  7%|▋         | 2/30 [00:01<00:21,  1.32it/s]"
     ]
    },
    {
     "name": "stdout",
     "output_type": "stream",
     "text": [
      "images/charts/france/dep-map-incid-cat/2020-08-24.jpeg\n"
     ]
    },
    {
     "name": "stderr",
     "output_type": "stream",
     "text": [
      "\r",
      " 10%|█         | 3/30 [00:02<00:21,  1.26it/s]"
     ]
    },
    {
     "name": "stdout",
     "output_type": "stream",
     "text": [
      "images/charts/france/dep-map-incid-cat/2020-08-25.jpeg\n"
     ]
    },
    {
     "name": "stderr",
     "output_type": "stream",
     "text": [
      "\r",
      " 13%|█▎        | 4/30 [00:03<00:20,  1.24it/s]"
     ]
    },
    {
     "name": "stdout",
     "output_type": "stream",
     "text": [
      "images/charts/france/dep-map-incid-cat/2020-08-26.jpeg\n"
     ]
    },
    {
     "name": "stderr",
     "output_type": "stream",
     "text": [
      "\r",
      " 17%|█▋        | 5/30 [00:04<00:19,  1.27it/s]"
     ]
    },
    {
     "name": "stdout",
     "output_type": "stream",
     "text": [
      "images/charts/france/dep-map-incid-cat/2020-08-27.jpeg\n"
     ]
    },
    {
     "name": "stderr",
     "output_type": "stream",
     "text": [
      "\r",
      " 20%|██        | 6/30 [00:04<00:18,  1.32it/s]"
     ]
    },
    {
     "name": "stdout",
     "output_type": "stream",
     "text": [
      "images/charts/france/dep-map-incid-cat/2020-08-28.jpeg\n"
     ]
    },
    {
     "name": "stderr",
     "output_type": "stream",
     "text": [
      "\r",
      " 23%|██▎       | 7/30 [00:05<00:19,  1.21it/s]"
     ]
    },
    {
     "name": "stdout",
     "output_type": "stream",
     "text": [
      "images/charts/france/dep-map-incid-cat/2020-08-29.jpeg\n"
     ]
    },
    {
     "name": "stderr",
     "output_type": "stream",
     "text": [
      "\r",
      " 27%|██▋       | 8/30 [00:06<00:17,  1.25it/s]"
     ]
    },
    {
     "name": "stdout",
     "output_type": "stream",
     "text": [
      "images/charts/france/dep-map-incid-cat/2020-08-30.jpeg\n"
     ]
    },
    {
     "name": "stderr",
     "output_type": "stream",
     "text": [
      "\r",
      " 30%|███       | 9/30 [00:07<00:16,  1.29it/s]"
     ]
    },
    {
     "name": "stdout",
     "output_type": "stream",
     "text": [
      "images/charts/france/dep-map-incid-cat/2020-08-31.jpeg\n"
     ]
    },
    {
     "name": "stderr",
     "output_type": "stream",
     "text": [
      "\r",
      " 33%|███▎      | 10/30 [00:07<00:15,  1.32it/s]"
     ]
    },
    {
     "name": "stdout",
     "output_type": "stream",
     "text": [
      "images/charts/france/dep-map-incid-cat/2020-09-01.jpeg\n"
     ]
    },
    {
     "name": "stderr",
     "output_type": "stream",
     "text": [
      "\r",
      " 37%|███▋      | 11/30 [00:08<00:14,  1.33it/s]"
     ]
    },
    {
     "name": "stdout",
     "output_type": "stream",
     "text": [
      "images/charts/france/dep-map-incid-cat/2020-09-02.jpeg\n"
     ]
    },
    {
     "name": "stderr",
     "output_type": "stream",
     "text": [
      "\r",
      " 40%|████      | 12/30 [00:09<00:13,  1.31it/s]"
     ]
    },
    {
     "name": "stdout",
     "output_type": "stream",
     "text": [
      "images/charts/france/dep-map-incid-cat/2020-09-03.jpeg\n"
     ]
    },
    {
     "name": "stderr",
     "output_type": "stream",
     "text": [
      "\r",
      " 43%|████▎     | 13/30 [00:10<00:12,  1.31it/s]"
     ]
    },
    {
     "name": "stdout",
     "output_type": "stream",
     "text": [
      "images/charts/france/dep-map-incid-cat/2020-09-04.jpeg\n"
     ]
    },
    {
     "name": "stderr",
     "output_type": "stream",
     "text": [
      "\r",
      " 47%|████▋     | 14/30 [00:11<00:12,  1.27it/s]"
     ]
    },
    {
     "name": "stdout",
     "output_type": "stream",
     "text": [
      "images/charts/france/dep-map-incid-cat/2020-09-05.jpeg\n"
     ]
    },
    {
     "name": "stderr",
     "output_type": "stream",
     "text": [
      "\r",
      " 50%|█████     | 15/30 [00:11<00:11,  1.25it/s]"
     ]
    },
    {
     "name": "stdout",
     "output_type": "stream",
     "text": [
      "images/charts/france/dep-map-incid-cat/2020-09-06.jpeg\n"
     ]
    },
    {
     "name": "stderr",
     "output_type": "stream",
     "text": [
      "\r",
      " 53%|█████▎    | 16/30 [00:12<00:11,  1.24it/s]"
     ]
    },
    {
     "name": "stdout",
     "output_type": "stream",
     "text": [
      "images/charts/france/dep-map-incid-cat/2020-09-07.jpeg\n"
     ]
    },
    {
     "name": "stderr",
     "output_type": "stream",
     "text": [
      "\r",
      " 57%|█████▋    | 17/30 [00:13<00:10,  1.25it/s]"
     ]
    },
    {
     "name": "stdout",
     "output_type": "stream",
     "text": [
      "images/charts/france/dep-map-incid-cat/2020-09-08.jpeg\n"
     ]
    },
    {
     "name": "stderr",
     "output_type": "stream",
     "text": [
      "\r",
      " 60%|██████    | 18/30 [00:14<00:09,  1.23it/s]"
     ]
    },
    {
     "name": "stdout",
     "output_type": "stream",
     "text": [
      "images/charts/france/dep-map-incid-cat/2020-09-09.jpeg\n"
     ]
    },
    {
     "name": "stderr",
     "output_type": "stream",
     "text": [
      "\r",
      " 63%|██████▎   | 19/30 [00:15<00:08,  1.26it/s]"
     ]
    },
    {
     "name": "stdout",
     "output_type": "stream",
     "text": [
      "images/charts/france/dep-map-incid-cat/2020-09-10.jpeg\n"
     ]
    },
    {
     "name": "stderr",
     "output_type": "stream",
     "text": [
      "\r",
      " 67%|██████▋   | 20/30 [00:15<00:07,  1.28it/s]"
     ]
    },
    {
     "name": "stdout",
     "output_type": "stream",
     "text": [
      "images/charts/france/dep-map-incid-cat/2020-09-11.jpeg\n"
     ]
    },
    {
     "name": "stderr",
     "output_type": "stream",
     "text": [
      "\r",
      " 70%|███████   | 21/30 [00:16<00:06,  1.30it/s]"
     ]
    },
    {
     "name": "stdout",
     "output_type": "stream",
     "text": [
      "images/charts/france/dep-map-incid-cat/2020-09-12.jpeg\n"
     ]
    },
    {
     "name": "stderr",
     "output_type": "stream",
     "text": [
      "\r",
      " 73%|███████▎  | 22/30 [00:17<00:06,  1.28it/s]"
     ]
    },
    {
     "name": "stdout",
     "output_type": "stream",
     "text": [
      "images/charts/france/dep-map-incid-cat/2020-09-13.jpeg\n"
     ]
    },
    {
     "name": "stderr",
     "output_type": "stream",
     "text": [
      "\r",
      " 77%|███████▋  | 23/30 [00:18<00:05,  1.18it/s]"
     ]
    },
    {
     "name": "stdout",
     "output_type": "stream",
     "text": [
      "images/charts/france/dep-map-incid-cat/2020-09-14.jpeg\n"
     ]
    },
    {
     "name": "stderr",
     "output_type": "stream",
     "text": [
      "\r",
      " 80%|████████  | 24/30 [00:19<00:06,  1.04s/it]"
     ]
    },
    {
     "name": "stdout",
     "output_type": "stream",
     "text": [
      "images/charts/france/dep-map-incid-cat/2020-09-15.jpeg\n"
     ]
    },
    {
     "name": "stderr",
     "output_type": "stream",
     "text": [
      "\r",
      " 83%|████████▎ | 25/30 [00:20<00:04,  1.01it/s]"
     ]
    }
   ],
   "source": [
    "build_gif(\"images/charts/france/incid-cat.gif\", \"images/charts/france/dep-map-incid-cat\", dates_deconf[-30:])"
   ]
  }
 ],
 "metadata": {
  "kernelspec": {
   "display_name": "Python 3",
   "language": "python",
   "name": "python3"
  },
  "language_info": {
   "codemirror_mode": {
    "name": "ipython",
    "version": 3
   },
   "file_extension": ".py",
   "mimetype": "text/x-python",
   "name": "python",
   "nbconvert_exporter": "python",
   "pygments_lexer": "ipython3",
   "version": "3.8.0"
  }
 },
 "nbformat": 4,
 "nbformat_minor": 2
}

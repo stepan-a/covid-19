{
 "cells": [
  {
   "cell_type": "code",
   "execution_count": 12,
   "metadata": {},
   "outputs": [
    {
     "data": {
      "text/plain": [
       "\"\\n\\nLICENSE MIT\\n2020\\nGuillaume Rozier\\nWebsite : http://www.guillaumerozier.fr\\nMail : guillaume.rozier@telecomnancy.net\\n\\nREADME:s\\nThis file contains script that generate France maps and GIFs. \\nSingle images are exported to folders in 'charts/image/france'. GIFs are exported to 'charts/image/france'.\\nI'm currently cleaning this file, please ask me is something is not clear enough!\\nRequirements: please see the imports below (use pip3 to install them).\\n\\n\""
      ]
     },
     "execution_count": 12,
     "metadata": {},
     "output_type": "execute_result"
    }
   ],
   "source": [
    "\"\"\"\n",
    "\n",
    "LICENSE MIT\n",
    "2020\n",
    "Guillaume Rozier\n",
    "Website : http://www.guillaumerozier.fr\n",
    "Mail : guillaume.rozier@telecomnancy.net\n",
    "\n",
    "README:s\n",
    "This file contains script that generate France maps and GIFs. \n",
    "Single images are exported to folders in 'charts/image/france'. GIFs are exported to 'charts/image/france'.\n",
    "I'm currently cleaning this file, please ask me is something is not clear enough!\n",
    "Requirements: please see the imports below (use pip3 to install them).\n",
    "\n",
    "\"\"\""
   ]
  },
  {
   "cell_type": "code",
   "execution_count": 13,
   "metadata": {},
   "outputs": [
    {
     "data": {
      "text/plain": [
       "'fr_FR.UTF-8'"
      ]
     },
     "execution_count": 13,
     "metadata": {},
     "output_type": "execute_result"
    }
   ],
   "source": [
    "import france_data_management as data\n",
    "import pandas as pd\n",
    "from tqdm import tqdm\n",
    "import json\n",
    "import plotly.express as px\n",
    "from datetime import datetime\n",
    "import imageio\n",
    "import multiprocessing\n",
    "import locale\n",
    "import shutil\n",
    "import os\n",
    "locale.setlocale(locale.LC_ALL, 'fr_FR.UTF-8')"
   ]
  },
  {
   "cell_type": "code",
   "execution_count": 14,
   "metadata": {},
   "outputs": [
    {
     "name": "stderr",
     "output_type": "stream",
     "text": [
      "10it [00:07,  1.35it/s]                      \n"
     ]
    }
   ],
   "source": [
    "# Import data from Santé publique France\n",
    "_, _, _, _, _, _, _, df_incid, _ = data.import_data()\n",
    "with open('data/france/dep.geojson') as response:\n",
    "    depa = json.load(response)"
   ]
  },
  {
   "cell_type": "code",
   "execution_count": 15,
   "metadata": {},
   "outputs": [],
   "source": [
    "def build_map(data_df, img_folder, date_str = \"date\", dep_str = \"departement\", color_str = 'indic_synthese', legend_title=\"legend_title\", title=\"title\", subtitle=\"\"):\n",
    "    data_df = data_df[data_df[date_str] == date]\n",
    "\n",
    "    fig = px.choropleth(geojson = depa, \n",
    "                        locations = data_df[dep_str], \n",
    "                        featureidkey=\"properties.code\",\n",
    "                        color = data_df[color_str],\n",
    "                        scope='europe',\n",
    "                        labels={color_str:\"Couleur\"},\n",
    "                        #color_discrete_sequence = [\"green\", \"orange\", \"red\"],\n",
    "                        #labels={'red':\"Couleur\", 'orange':'bla', 'green':'lol'},\n",
    "                        color_discrete_map = {\"Vert (<25)\":\"green\", \"Orange (25-50)\":\"orange\", \"Rouge (>50)\":\"red\"}\n",
    "                        #category_orders = {\"indic_synthese\" :[\"vert\", \"orange\", \"rouge\"]}\n",
    "                              )\n",
    "    date_title = datetime.strptime(dates_deconf[-1], '%Y-%m-%d').strftime('%d %B')\n",
    "    date_now = datetime.now().strftime('%d %B')\n",
    "    \n",
    "    fig.update_geos(fitbounds=\"locations\", visible=False)\n",
    "\n",
    "    fig.update_layout(\n",
    "        margin={\"r\":0,\"t\":0,\"l\":0,\"b\":0},\n",
    "        title={\n",
    "            'text': title,\n",
    "            'y':0.98,\n",
    "            'x':0.5,\n",
    "            'xanchor': 'center',\n",
    "            'yanchor': 'top'},\n",
    "\n",
    "        titlefont = dict(\n",
    "            size=30),\n",
    "\n",
    "        annotations = [\n",
    "            dict(\n",
    "                x=0.54,\n",
    "                y=0.03,\n",
    "                xref='paper',\n",
    "                yref='paper',\n",
    "                xanchor = 'center',\n",
    "                text='Source : Santé publique France. Auteur : @guillaumerozier.',\n",
    "                showarrow = False\n",
    "            ),\n",
    "\n",
    "            dict(\n",
    "                x=0.55,\n",
    "                y=0.94,\n",
    "                xref='paper',\n",
    "                yref='paper',\n",
    "                text= \"{}<br>{} (données du {})\".format(subtitle, date_now, date_title),\n",
    "                showarrow = False,\n",
    "                font=dict(\n",
    "                    size=20\n",
    "                        )\n",
    "            )]\n",
    "         ) \n",
    "\n",
    "    fig.update_geos(\n",
    "        #center=dict(lon=-30, lat=-30),\n",
    "        projection_rotation=dict(lon=12, lat=30, roll=8),\n",
    "        #lataxis_range=[-50,20], lonaxis_range=[0, 200]\n",
    "    )\n",
    "    #fig.show()\n",
    "    if date == dates_deconf[-1]:\n",
    "        fig.write_image((img_folder+\"/{}.jpeg\").format(\"latest\"), scale=2, width=1200, height=800)\n",
    "    fig.write_image((img_folder+\"/{}.jpeg\").format(date), scale=2, width=1200, height=800)"
   ]
  },
  {
   "cell_type": "code",
   "execution_count": 16,
   "metadata": {},
   "outputs": [],
   "source": [
    "build_map(df_incid, \"images/charts/france/dep-map-incid-cat\", date_str = \"jour\", dep_str = \"dep\", color_str = 'incidence_color', legend_title=\"\", title=\"Incidence\", subtitle=\"Nombre de cas hebdomadaires pour 100 000 habitants\")"
   ]
  }
 ],
 "metadata": {
  "kernelspec": {
   "display_name": "Python 3",
   "language": "python",
   "name": "python3"
  },
  "language_info": {
   "codemirror_mode": {
    "name": "ipython",
    "version": 3
   },
   "file_extension": ".py",
   "mimetype": "text/x-python",
   "name": "python",
   "nbconvert_exporter": "python",
   "pygments_lexer": "ipython3",
   "version": "3.7.4"
  }
 },
 "nbformat": 4,
 "nbformat_minor": 2
}

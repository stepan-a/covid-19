{
 "cells": [
  {
   "cell_type": "code",
   "execution_count": 1,
   "metadata": {},
   "outputs": [
    {
     "data": {
      "text/plain": [
       "\"\\n\\nLICENSE MIT\\n2020\\nGuillaume Rozier\\nWebsite : http://www.guillaumerozier.fr\\nMail : guillaume.rozier@telecomnancy.net\\n\\nREADME:s\\nThis file contains script that generate France maps and GIFs. \\nSingle images are exported to folders in 'charts/image/france'. GIFs are exported to 'charts/image/france'.\\nI'm currently cleaning this file, please ask me is something is not clear enough!\\nRequirements: please see the imports below (use pip3 to install them).\\n\\n\""
      ]
     },
     "execution_count": 1,
     "metadata": {},
     "output_type": "execute_result"
    }
   ],
   "source": [
    "\"\"\"\n",
    "\n",
    "LICENSE MIT\n",
    "2020\n",
    "Guillaume Rozier\n",
    "Website : http://www.guillaumerozier.fr\n",
    "Mail : guillaume.rozier@telecomnancy.net\n",
    "\n",
    "README:s\n",
    "This file contains script that generate France maps and GIFs. \n",
    "Single images are exported to folders in 'charts/image/france'. GIFs are exported to 'charts/image/france'.\n",
    "I'm currently cleaning this file, please ask me is something is not clear enough!\n",
    "Requirements: please see the imports below (use pip3 to install them).\n",
    "\n",
    "\"\"\""
   ]
  },
  {
   "cell_type": "code",
   "execution_count": 2,
   "metadata": {},
   "outputs": [
    {
     "data": {
      "text/plain": [
       "'fr_FR.UTF-8'"
      ]
     },
     "execution_count": 2,
     "metadata": {},
     "output_type": "execute_result"
    }
   ],
   "source": [
    "import france_data_management as data\n",
    "import pandas as pd\n",
    "from tqdm import tqdm\n",
    "import json\n",
    "import plotly.express as px\n",
    "from datetime import datetime\n",
    "import imageio\n",
    "import multiprocessing\n",
    "import locale\n",
    "import shutil\n",
    "import os\n",
    "locale.setlocale(locale.LC_ALL, 'fr_FR.UTF-8')"
   ]
  },
  {
   "cell_type": "code",
   "execution_count": 3,
   "metadata": {},
   "outputs": [
    {
     "name": "stderr",
     "output_type": "stream",
     "text": [
      "  0%|          | 0/4 [00:00<?, ?it/s]/Users/guillaumerozier/opt/anaconda3/lib/python3.7/site-packages/IPython/core/interactiveshell.py:3249: DtypeWarning:\n",
      "\n",
      "Columns (0) have mixed types. Specify dtype option on import or set low_memory=False.\n",
      "\n",
      " 75%|███████▌  | 3/4 [00:01<00:00,  2.44it/s]"
     ]
    },
    {
     "name": "stdout",
     "output_type": "stream",
     "text": [
      "       dep        jour        pop    P  cl_age90 departmentCode  \\\n",
      "119625  75  2020-05-13   198578.0    0         9             75   \n",
      "119626  75  2020-05-13   208074.0    0        19             75   \n",
      "119627  75  2020-05-13   386230.0    6        29             75   \n",
      "119628  75  2020-05-13   332595.0    2        39             75   \n",
      "119629  75  2020-05-13   277369.0    2        49             75   \n",
      "...     ..         ...        ...  ...       ...            ...   \n",
      "121215  75  2020-10-04   213755.0   16        69             75   \n",
      "121216  75  2020-10-04   163119.0   14        79             75   \n",
      "121217  75  2020-10-04    82607.0   11        89             75   \n",
      "121218  75  2020-10-04    26637.0    1        90             75   \n",
      "121219  75  2020-10-04  2148271.0  218         0             75   \n",
      "\n",
      "       departmentName  regionCode     regionName     T   incidence  \\\n",
      "119625          Paris        11.0  Ile-de-France  1451         NaN   \n",
      "119626          Paris        11.0  Ile-de-France  1451         NaN   \n",
      "119627          Paris        11.0  Ile-de-France  1451         NaN   \n",
      "119628          Paris        11.0  Ile-de-France  1451         NaN   \n",
      "119629          Paris        11.0  Ile-de-France  1451         NaN   \n",
      "...               ...         ...            ...   ...         ...   \n",
      "121215          Paris        11.0  Ile-de-France  1366  195.550981   \n",
      "121216          Paris        11.0  Ile-de-France  1366  123.835973   \n",
      "121217          Paris        11.0  Ile-de-France  1366  117.423463   \n",
      "121218          Paris        11.0  Ile-de-France  1366  127.642002   \n",
      "121219          Paris        11.0  Ile-de-France  1366  306.013534   \n",
      "\n",
      "         incidence_color  \n",
      "119625     Risque Faible  \n",
      "119626     Risque Faible  \n",
      "119627     Risque Faible  \n",
      "119628     Risque Faible  \n",
      "119629     Risque Faible  \n",
      "...                  ...  \n",
      "121215  Alerte Renforcée  \n",
      "121216            Alerte  \n",
      "121217            Alerte  \n",
      "121218            Alerte  \n",
      "121219   Alerte Maximale  \n",
      "\n",
      "[1595 rows x 12 columns]\n"
     ]
    }
   ],
   "source": [
    "# Import data from Santé publique France\n",
    "_, _, _, _, _, _, _, df_incid, _ = data.import_data()\n",
    "df_incid = df_incid[df_incid[\"cl_age90\"] == 0]\n",
    "\n",
    "with open('data/france/dep.geojson') as response:\n",
    "    depa = json.load(response)"
   ]
  },
  {
   "cell_type": "code",
   "execution_count": 4,
   "metadata": {},
   "outputs": [],
   "source": [
    "def build_map(data_df, img_folder, date_val, date_str = \"date\", dep_str = \"departement\", color_str = 'indic_synthese', legend_title=\"legend_title\", title=\"title\", subtitle=\"\"):\n",
    "    for date in date_val:\n",
    "        data_df_temp = data_df[data_df[date_str] == date]\n",
    "        \n",
    "        if len(data_df_temp) > 0:\n",
    "            fig = px.choropleth(geojson = depa, \n",
    "                                locations = data_df_temp[dep_str], \n",
    "                                featureidkey=\"properties.code\",\n",
    "                                color = data_df_temp[color_str],\n",
    "                                scope='europe',\n",
    "                                #labels={color_str:\"Couleur\"},\n",
    "                                #color_discrete_sequence = [\"green\", \"orange\", \"red\"],\n",
    "                                #labels={'red':\"Couleur\", 'orange':'bla', 'green':'lol'},\n",
    "                                color_discrete_map = {\"Risque Faible\":\"#DAF7A6\", \"Alerte\":\"#b8002a\", \"Alerte Renforcée\":\"#7c0030\", \"Alerte Maximale\":\"#460d37\"},\n",
    "                                category_orders = {color_str :[\"Risque Faible\", \"Alerte\", \"Alerte Renforcée\", \"Alerte Maximale\"]}\n",
    "                                      )\n",
    "            date_title = datetime.strptime(date, '%Y-%m-%d').strftime('%d %B')\n",
    "            date_now = datetime.now().strftime('%d %B')\n",
    "\n",
    "            fig.update_geos(fitbounds=\"locations\", visible=False)\n",
    "\n",
    "            fig.update_layout(\n",
    "                margin={\"r\":0,\"t\":0,\"l\":0,\"b\":0},\n",
    "                title={\n",
    "                    'text': title,\n",
    "                    'y':0.98,\n",
    "                    'x':0.5,\n",
    "                    'xanchor': 'center',\n",
    "                    'yanchor': 'top'},\n",
    "\n",
    "                titlefont = dict(\n",
    "                    size=30),\n",
    "\n",
    "                annotations = [\n",
    "                    dict(\n",
    "                        x=0.54,\n",
    "                        y=0.03,\n",
    "                        xref='paper',\n",
    "                        yref='paper',\n",
    "                        xanchor = 'center',\n",
    "                        text='Source : Santé publique France. Auteur : @guillaumerozier.',\n",
    "                        showarrow = False\n",
    "                    ),\n",
    "\n",
    "                    dict(\n",
    "                        x=0.55,\n",
    "                        y=0.94,\n",
    "                        xref='paper',\n",
    "                        yref='paper',\n",
    "                        text= \"{}<br>{} (données du {})\".format(subtitle, date_now, date_title),\n",
    "                        showarrow = False,\n",
    "                        font=dict(\n",
    "                            size=20\n",
    "                                )\n",
    "                    )]\n",
    "                 ) \n",
    "\n",
    "            fig.update_geos(\n",
    "                #center=dict(lon=-30, lat=-30),\n",
    "                projection_rotation=dict(lon=12, lat=30, roll=8),\n",
    "                #lataxis_range=[-50,20], lonaxis_range=[0, 200]\n",
    "            )\n",
    "            #fig.show()\n",
    "            if date == dates_deconf[-1]:\n",
    "                fig.write_image((img_folder+\"/{}.jpeg\").format(\"latest\"), scale=2, width=1200, height=800)\n",
    "            fig.write_image((img_folder+\"/{}.jpeg\").format(date), scale=2, width=1200, height=800)\n",
    "        else:\n",
    "            print(\"no data\")"
   ]
  },
  {
   "cell_type": "code",
   "execution_count": 5,
   "metadata": {},
   "outputs": [],
   "source": [
    "def build_gif(file_gif, imgs_folder, dates):\n",
    "    i=0\n",
    "    with imageio.get_writer(file_gif, mode='I', duration=0.3) as writer: \n",
    "        for date in tqdm(dates):\n",
    "            try:\n",
    "                print((imgs_folder+\"/{}.jpeg\").format(date))\n",
    "                image = imageio.imread((imgs_folder+\"/{}.jpeg\").format(date))\n",
    "                writer.append_data(image)\n",
    "                i+=1\n",
    "                if i==len(dates):\n",
    "                    for k in range(8):\n",
    "                        writer.append_data(image)\n",
    "            except:\n",
    "                print(\"no image for \"+str(date))"
   ]
  },
  {
   "cell_type": "code",
   "execution_count": 6,
   "metadata": {},
   "outputs": [],
   "source": [
    "dates_deconf = list(dict.fromkeys(list(df_incid[\"jour\"].values)))\n",
    "\n",
    "date = [dates_deconf[-1]]\n",
    "build_map(df_incid.sort_values(by=['incidence']), \"images/charts/france/dep-map-incid-cat\", date_val=date, date_str = \"jour\", dep_str = \"dep\", color_str = 'incidence_color', legend_title=\"\", title=\"Incidence\", subtitle=\"Nombre de cas hebdomadaires pour 100 000 habitants\")"
   ]
  },
  {
   "cell_type": "code",
   "execution_count": 7,
   "metadata": {},
   "outputs": [
    {
     "data": {
      "text/html": [
       "<div>\n",
       "<style scoped>\n",
       "    .dataframe tbody tr th:only-of-type {\n",
       "        vertical-align: middle;\n",
       "    }\n",
       "\n",
       "    .dataframe tbody tr th {\n",
       "        vertical-align: top;\n",
       "    }\n",
       "\n",
       "    .dataframe thead th {\n",
       "        text-align: right;\n",
       "    }\n",
       "</style>\n",
       "<table border=\"1\" class=\"dataframe\">\n",
       "  <thead>\n",
       "    <tr style=\"text-align: right;\">\n",
       "      <th></th>\n",
       "      <th>dep</th>\n",
       "      <th>jour</th>\n",
       "      <th>pop</th>\n",
       "      <th>P</th>\n",
       "      <th>cl_age90</th>\n",
       "      <th>departmentCode</th>\n",
       "      <th>departmentName</th>\n",
       "      <th>regionCode</th>\n",
       "      <th>regionName</th>\n",
       "      <th>T</th>\n",
       "      <th>incidence</th>\n",
       "      <th>incidence_color</th>\n",
       "    </tr>\n",
       "  </thead>\n",
       "  <tbody>\n",
       "    <tr>\n",
       "      <th>121153</th>\n",
       "      <td>75</td>\n",
       "      <td>2020-09-28</td>\n",
       "      <td>2148271.0</td>\n",
       "      <td>1082</td>\n",
       "      <td>0</td>\n",
       "      <td>75</td>\n",
       "      <td>Paris</td>\n",
       "      <td>11.0</td>\n",
       "      <td>Ile-de-France</td>\n",
       "      <td>8540</td>\n",
       "      <td>66.704806</td>\n",
       "      <td>Alerte</td>\n",
       "    </tr>\n",
       "    <tr>\n",
       "      <th>121164</th>\n",
       "      <td>75</td>\n",
       "      <td>2020-09-29</td>\n",
       "      <td>2148271.0</td>\n",
       "      <td>1025</td>\n",
       "      <td>0</td>\n",
       "      <td>75</td>\n",
       "      <td>Paris</td>\n",
       "      <td>11.0</td>\n",
       "      <td>Ile-de-France</td>\n",
       "      <td>8055</td>\n",
       "      <td>65.494530</td>\n",
       "      <td>Alerte</td>\n",
       "    </tr>\n",
       "    <tr>\n",
       "      <th>121175</th>\n",
       "      <td>75</td>\n",
       "      <td>2020-09-30</td>\n",
       "      <td>2148271.0</td>\n",
       "      <td>1152</td>\n",
       "      <td>0</td>\n",
       "      <td>75</td>\n",
       "      <td>Paris</td>\n",
       "      <td>11.0</td>\n",
       "      <td>Ile-de-France</td>\n",
       "      <td>8279</td>\n",
       "      <td>69.870142</td>\n",
       "      <td>Alerte</td>\n",
       "    </tr>\n",
       "    <tr>\n",
       "      <th>121186</th>\n",
       "      <td>75</td>\n",
       "      <td>2020-10-01</td>\n",
       "      <td>2148271.0</td>\n",
       "      <td>1213</td>\n",
       "      <td>0</td>\n",
       "      <td>75</td>\n",
       "      <td>Paris</td>\n",
       "      <td>11.0</td>\n",
       "      <td>Ile-de-France</td>\n",
       "      <td>8026</td>\n",
       "      <td>72.895831</td>\n",
       "      <td>Alerte</td>\n",
       "    </tr>\n",
       "    <tr>\n",
       "      <th>121197</th>\n",
       "      <td>75</td>\n",
       "      <td>2020-10-02</td>\n",
       "      <td>2148271.0</td>\n",
       "      <td>1215</td>\n",
       "      <td>0</td>\n",
       "      <td>75</td>\n",
       "      <td>Paris</td>\n",
       "      <td>11.0</td>\n",
       "      <td>Ile-de-France</td>\n",
       "      <td>8091</td>\n",
       "      <td>74.571597</td>\n",
       "      <td>Alerte</td>\n",
       "    </tr>\n",
       "    <tr>\n",
       "      <th>121208</th>\n",
       "      <td>75</td>\n",
       "      <td>2020-10-03</td>\n",
       "      <td>2148271.0</td>\n",
       "      <td>669</td>\n",
       "      <td>0</td>\n",
       "      <td>75</td>\n",
       "      <td>Paris</td>\n",
       "      <td>11.0</td>\n",
       "      <td>Ile-de-France</td>\n",
       "      <td>3907</td>\n",
       "      <td>41.382116</td>\n",
       "      <td>Risque Faible</td>\n",
       "    </tr>\n",
       "    <tr>\n",
       "      <th>121219</th>\n",
       "      <td>75</td>\n",
       "      <td>2020-10-04</td>\n",
       "      <td>2148271.0</td>\n",
       "      <td>218</td>\n",
       "      <td>0</td>\n",
       "      <td>75</td>\n",
       "      <td>Paris</td>\n",
       "      <td>11.0</td>\n",
       "      <td>Ile-de-France</td>\n",
       "      <td>1366</td>\n",
       "      <td>14.150915</td>\n",
       "      <td>Risque Faible</td>\n",
       "    </tr>\n",
       "  </tbody>\n",
       "</table>\n",
       "</div>"
      ],
      "text/plain": [
       "       dep        jour        pop     P  cl_age90 departmentCode  \\\n",
       "121153  75  2020-09-28  2148271.0  1082         0             75   \n",
       "121164  75  2020-09-29  2148271.0  1025         0             75   \n",
       "121175  75  2020-09-30  2148271.0  1152         0             75   \n",
       "121186  75  2020-10-01  2148271.0  1213         0             75   \n",
       "121197  75  2020-10-02  2148271.0  1215         0             75   \n",
       "121208  75  2020-10-03  2148271.0   669         0             75   \n",
       "121219  75  2020-10-04  2148271.0   218         0             75   \n",
       "\n",
       "       departmentName  regionCode     regionName     T  incidence  \\\n",
       "121153          Paris        11.0  Ile-de-France  8540  66.704806   \n",
       "121164          Paris        11.0  Ile-de-France  8055  65.494530   \n",
       "121175          Paris        11.0  Ile-de-France  8279  69.870142   \n",
       "121186          Paris        11.0  Ile-de-France  8026  72.895831   \n",
       "121197          Paris        11.0  Ile-de-France  8091  74.571597   \n",
       "121208          Paris        11.0  Ile-de-France  3907  41.382116   \n",
       "121219          Paris        11.0  Ile-de-France  1366  14.150915   \n",
       "\n",
       "       incidence_color  \n",
       "121153          Alerte  \n",
       "121164          Alerte  \n",
       "121175          Alerte  \n",
       "121186          Alerte  \n",
       "121197          Alerte  \n",
       "121208   Risque Faible  \n",
       "121219   Risque Faible  "
      ]
     },
     "execution_count": 7,
     "metadata": {},
     "output_type": "execute_result"
    }
   ],
   "source": [
    "#df_incid[df_incid[\"dep\"]==\"75\"][-7:]"
   ]
  },
  {
   "cell_type": "code",
   "execution_count": 17,
   "metadata": {},
   "outputs": [
    {
     "data": {
      "text/plain": [
       "119635           NaN\n",
       "119646           NaN\n",
       "119657           NaN\n",
       "119668           NaN\n",
       "119679           NaN\n",
       "             ...    \n",
       "121175    267.284714\n",
       "121186    278.735783\n",
       "121197    291.583324\n",
       "121208    303.034394\n",
       "121219    306.013534\n",
       "Length: 145, dtype: float64"
      ]
     },
     "execution_count": 17,
     "metadata": {},
     "output_type": "execute_result"
    }
   ],
   "source": [
    "#df_incid.loc[df_incid[\"dep\"] == \"75\"][\"P\"].rolling(window=7).sum()/df_incid.loc[df_incid[\"dep\"] == \"75\"][\"pop\"]*100000"
   ]
  },
  {
   "cell_type": "code",
   "execution_count": 7,
   "metadata": {},
   "outputs": [
    {
     "name": "stderr",
     "output_type": "stream",
     "text": [
      "\n",
      "  0%|          | 0/30 [00:00<?, ?it/s]\u001b[A"
     ]
    },
    {
     "name": "stdout",
     "output_type": "stream",
     "text": [
      "images/charts/france/dep-map-incid-cat/2020-09-05.jpeg\n"
     ]
    },
    {
     "name": "stderr",
     "output_type": "stream",
     "text": [
      "\n",
      "  3%|▎         | 1/30 [00:00<00:19,  1.45it/s]\u001b[A"
     ]
    },
    {
     "name": "stdout",
     "output_type": "stream",
     "text": [
      "images/charts/france/dep-map-incid-cat/2020-09-06.jpeg\n"
     ]
    },
    {
     "name": "stderr",
     "output_type": "stream",
     "text": [
      "\n",
      "  7%|▋         | 2/30 [00:01<00:19,  1.44it/s]\u001b[A"
     ]
    },
    {
     "name": "stdout",
     "output_type": "stream",
     "text": [
      "images/charts/france/dep-map-incid-cat/2020-09-07.jpeg\n"
     ]
    },
    {
     "name": "stderr",
     "output_type": "stream",
     "text": [
      "\n",
      " 10%|█         | 3/30 [00:02<00:19,  1.41it/s]\u001b[A"
     ]
    },
    {
     "name": "stdout",
     "output_type": "stream",
     "text": [
      "images/charts/france/dep-map-incid-cat/2020-09-08.jpeg\n"
     ]
    },
    {
     "name": "stderr",
     "output_type": "stream",
     "text": [
      "\n",
      " 13%|█▎        | 4/30 [00:02<00:19,  1.35it/s]\u001b[A"
     ]
    },
    {
     "name": "stdout",
     "output_type": "stream",
     "text": [
      "images/charts/france/dep-map-incid-cat/2020-09-09.jpeg\n"
     ]
    },
    {
     "name": "stderr",
     "output_type": "stream",
     "text": [
      "\n",
      " 17%|█▋        | 5/30 [00:03<00:18,  1.33it/s]\u001b[A"
     ]
    },
    {
     "name": "stdout",
     "output_type": "stream",
     "text": [
      "images/charts/france/dep-map-incid-cat/2020-09-10.jpeg\n"
     ]
    },
    {
     "name": "stderr",
     "output_type": "stream",
     "text": [
      "\n",
      " 20%|██        | 6/30 [00:04<00:17,  1.36it/s]\u001b[A"
     ]
    },
    {
     "name": "stdout",
     "output_type": "stream",
     "text": [
      "images/charts/france/dep-map-incid-cat/2020-09-11.jpeg\n"
     ]
    },
    {
     "name": "stderr",
     "output_type": "stream",
     "text": [
      "\n",
      " 23%|██▎       | 7/30 [00:05<00:16,  1.36it/s]\u001b[A"
     ]
    },
    {
     "name": "stdout",
     "output_type": "stream",
     "text": [
      "images/charts/france/dep-map-incid-cat/2020-09-12.jpeg\n"
     ]
    },
    {
     "name": "stderr",
     "output_type": "stream",
     "text": [
      "\n",
      " 27%|██▋       | 8/30 [00:05<00:16,  1.33it/s]\u001b[A"
     ]
    },
    {
     "name": "stdout",
     "output_type": "stream",
     "text": [
      "images/charts/france/dep-map-incid-cat/2020-09-13.jpeg\n"
     ]
    },
    {
     "name": "stderr",
     "output_type": "stream",
     "text": [
      "\n",
      " 30%|███       | 9/30 [00:06<00:15,  1.35it/s]\u001b[A"
     ]
    },
    {
     "name": "stdout",
     "output_type": "stream",
     "text": [
      "images/charts/france/dep-map-incid-cat/2020-09-14.jpeg\n"
     ]
    },
    {
     "name": "stderr",
     "output_type": "stream",
     "text": [
      "\n",
      " 33%|███▎      | 10/30 [00:07<00:15,  1.33it/s]\u001b[A"
     ]
    },
    {
     "name": "stdout",
     "output_type": "stream",
     "text": [
      "images/charts/france/dep-map-incid-cat/2020-09-15.jpeg\n"
     ]
    },
    {
     "name": "stderr",
     "output_type": "stream",
     "text": [
      "\n",
      " 37%|███▋      | 11/30 [00:08<00:14,  1.33it/s]\u001b[A"
     ]
    },
    {
     "name": "stdout",
     "output_type": "stream",
     "text": [
      "images/charts/france/dep-map-incid-cat/2020-09-16.jpeg\n"
     ]
    },
    {
     "name": "stderr",
     "output_type": "stream",
     "text": [
      "\n",
      " 40%|████      | 12/30 [00:08<00:13,  1.33it/s]\u001b[A"
     ]
    },
    {
     "name": "stdout",
     "output_type": "stream",
     "text": [
      "images/charts/france/dep-map-incid-cat/2020-09-17.jpeg\n"
     ]
    },
    {
     "name": "stderr",
     "output_type": "stream",
     "text": [
      "\n",
      " 43%|████▎     | 13/30 [00:09<00:12,  1.32it/s]\u001b[A"
     ]
    },
    {
     "name": "stdout",
     "output_type": "stream",
     "text": [
      "images/charts/france/dep-map-incid-cat/2020-09-18.jpeg\n"
     ]
    },
    {
     "name": "stderr",
     "output_type": "stream",
     "text": [
      "\n",
      " 47%|████▋     | 14/30 [00:10<00:11,  1.36it/s]\u001b[A"
     ]
    },
    {
     "name": "stdout",
     "output_type": "stream",
     "text": [
      "images/charts/france/dep-map-incid-cat/2020-09-19.jpeg\n"
     ]
    },
    {
     "name": "stderr",
     "output_type": "stream",
     "text": [
      "\n",
      " 50%|█████     | 15/30 [00:11<00:11,  1.35it/s]\u001b[A"
     ]
    },
    {
     "name": "stdout",
     "output_type": "stream",
     "text": [
      "images/charts/france/dep-map-incid-cat/2020-09-20.jpeg\n"
     ]
    },
    {
     "name": "stderr",
     "output_type": "stream",
     "text": [
      "\n",
      " 53%|█████▎    | 16/30 [00:11<00:10,  1.34it/s]\u001b[A"
     ]
    },
    {
     "name": "stdout",
     "output_type": "stream",
     "text": [
      "images/charts/france/dep-map-incid-cat/2020-09-21.jpeg\n"
     ]
    },
    {
     "name": "stderr",
     "output_type": "stream",
     "text": [
      "\n",
      " 57%|█████▋    | 17/30 [00:12<00:09,  1.35it/s]\u001b[A"
     ]
    },
    {
     "name": "stdout",
     "output_type": "stream",
     "text": [
      "images/charts/france/dep-map-incid-cat/2020-09-22.jpeg\n"
     ]
    },
    {
     "name": "stderr",
     "output_type": "stream",
     "text": [
      "\n",
      " 60%|██████    | 18/30 [00:13<00:09,  1.31it/s]\u001b[A"
     ]
    },
    {
     "name": "stdout",
     "output_type": "stream",
     "text": [
      "images/charts/france/dep-map-incid-cat/2020-09-23.jpeg\n"
     ]
    },
    {
     "name": "stderr",
     "output_type": "stream",
     "text": [
      "\n",
      " 63%|██████▎   | 19/30 [00:14<00:07,  1.38it/s]\u001b[A"
     ]
    },
    {
     "name": "stdout",
     "output_type": "stream",
     "text": [
      "images/charts/france/dep-map-incid-cat/2020-09-24.jpeg\n"
     ]
    },
    {
     "name": "stderr",
     "output_type": "stream",
     "text": [
      "\n",
      " 67%|██████▋   | 20/30 [00:14<00:07,  1.38it/s]\u001b[A"
     ]
    },
    {
     "name": "stdout",
     "output_type": "stream",
     "text": [
      "images/charts/france/dep-map-incid-cat/2020-09-25.jpeg\n"
     ]
    },
    {
     "name": "stderr",
     "output_type": "stream",
     "text": [
      "\n",
      " 70%|███████   | 21/30 [00:15<00:06,  1.38it/s]\u001b[A"
     ]
    },
    {
     "name": "stdout",
     "output_type": "stream",
     "text": [
      "images/charts/france/dep-map-incid-cat/2020-09-26.jpeg\n"
     ]
    },
    {
     "name": "stderr",
     "output_type": "stream",
     "text": [
      "\n",
      " 73%|███████▎  | 22/30 [00:16<00:05,  1.42it/s]\u001b[A"
     ]
    },
    {
     "name": "stdout",
     "output_type": "stream",
     "text": [
      "images/charts/france/dep-map-incid-cat/2020-09-27.jpeg\n"
     ]
    },
    {
     "name": "stderr",
     "output_type": "stream",
     "text": [
      "\n",
      " 77%|███████▋  | 23/30 [00:16<00:04,  1.42it/s]\u001b[A"
     ]
    },
    {
     "name": "stdout",
     "output_type": "stream",
     "text": [
      "images/charts/france/dep-map-incid-cat/2020-09-28.jpeg\n"
     ]
    },
    {
     "name": "stderr",
     "output_type": "stream",
     "text": [
      "\n",
      " 80%|████████  | 24/30 [00:17<00:04,  1.42it/s]\u001b[A"
     ]
    },
    {
     "name": "stdout",
     "output_type": "stream",
     "text": [
      "images/charts/france/dep-map-incid-cat/2020-09-29.jpeg\n"
     ]
    },
    {
     "name": "stderr",
     "output_type": "stream",
     "text": [
      "\n",
      " 83%|████████▎ | 25/30 [00:18<00:03,  1.44it/s]\u001b[A"
     ]
    },
    {
     "name": "stdout",
     "output_type": "stream",
     "text": [
      "images/charts/france/dep-map-incid-cat/2020-09-30.jpeg\n"
     ]
    },
    {
     "name": "stderr",
     "output_type": "stream",
     "text": [
      "\n",
      " 87%|████████▋ | 26/30 [00:19<00:02,  1.43it/s]\u001b[A"
     ]
    },
    {
     "name": "stdout",
     "output_type": "stream",
     "text": [
      "images/charts/france/dep-map-incid-cat/2020-10-01.jpeg\n"
     ]
    },
    {
     "name": "stderr",
     "output_type": "stream",
     "text": [
      "\n",
      " 90%|█████████ | 27/30 [00:19<00:02,  1.42it/s]\u001b[A"
     ]
    },
    {
     "name": "stdout",
     "output_type": "stream",
     "text": [
      "images/charts/france/dep-map-incid-cat/2020-10-02.jpeg\n"
     ]
    },
    {
     "name": "stderr",
     "output_type": "stream",
     "text": [
      "\n",
      " 93%|█████████▎| 28/30 [00:20<00:01,  1.47it/s]\u001b[A"
     ]
    },
    {
     "name": "stdout",
     "output_type": "stream",
     "text": [
      "images/charts/france/dep-map-incid-cat/2020-10-03.jpeg\n"
     ]
    },
    {
     "name": "stderr",
     "output_type": "stream",
     "text": [
      "\n",
      " 97%|█████████▋| 29/30 [00:21<00:00,  1.48it/s]\u001b[A"
     ]
    },
    {
     "name": "stdout",
     "output_type": "stream",
     "text": [
      "images/charts/france/dep-map-incid-cat/2020-10-04.jpeg\n"
     ]
    },
    {
     "name": "stderr",
     "output_type": "stream",
     "text": [
      "\n",
      "100%|██████████| 30/30 [00:25<00:00,  1.16it/s]\u001b[A\n"
     ]
    }
   ],
   "source": [
    "build_gif(\"images/charts/france/incid-cat.gif\", \"images/charts/france/dep-map-incid-cat\", dates_deconf[-30:])"
   ]
  },
  {
   "cell_type": "code",
   "execution_count": null,
   "metadata": {},
   "outputs": [],
   "source": []
  }
 ],
 "metadata": {
  "kernelspec": {
   "display_name": "Python 3",
   "language": "python",
   "name": "python3"
  },
  "language_info": {
   "codemirror_mode": {
    "name": "ipython",
    "version": 3
   },
   "file_extension": ".py",
   "mimetype": "text/x-python",
   "name": "python",
   "nbconvert_exporter": "python",
   "pygments_lexer": "ipython3",
   "version": "3.7.4"
  }
 },
 "nbformat": 4,
 "nbformat_minor": 2
}
